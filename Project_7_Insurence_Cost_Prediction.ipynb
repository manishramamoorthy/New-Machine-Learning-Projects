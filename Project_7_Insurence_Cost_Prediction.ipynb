{
  "nbformat": 4,
  "nbformat_minor": 0,
  "metadata": {
    "colab": {
      "provenance": [],
      "collapsed_sections": [],
      "authorship_tag": "ABX9TyPjz3nfOJ+Q4xJt4ytGGVZ0",
      "include_colab_link": true
    },
    "kernelspec": {
      "name": "python3",
      "display_name": "Python 3"
    },
    "language_info": {
      "name": "python"
    }
  },
  "cells": [
    {
      "cell_type": "markdown",
      "metadata": {
        "id": "view-in-github",
        "colab_type": "text"
      },
      "source": [
        "<a href=\"https://colab.research.google.com/github/manishramamoorthy/New-Machine-Learning-Projects/blob/main/Project_7_Insurence_Cost_Prediction.ipynb\" target=\"_parent\"><img src=\"https://colab.research.google.com/assets/colab-badge.svg\" alt=\"Open In Colab\"/></a>"
      ]
    },
    {
      "cell_type": "markdown",
      "source": [
        "**Summary :**\n",
        "\n",
        "1) Importing Libraries                  \n",
        "2) Loading Dataset                      \n",
        "3) Data PreProcessing                                 \n",
        "4) EDA (Exploratory Data Analysis)                                 \n",
        "5) Train and Test Split                                  \n",
        "6) Standard Scaler                                    \n",
        "7) Modelling                                    \n",
        "8) Making Prediction                                   \n",
        "9) Compare Actual and Predicted Scores                                \n",
        "10) Evaluation Metrics                                   "
      ],
      "metadata": {
        "id": "os9X89Y2oC6a"
      }
    },
    {
      "cell_type": "markdown",
      "source": [
        "**1) Importing Libraries**"
      ],
      "metadata": {
        "id": "jp3xvgsAoOuZ"
      }
    },
    {
      "cell_type": "code",
      "source": [
        "import pandas as pd\n",
        "import numpy as np\n",
        "import warnings\n",
        "warnings.filterwarnings(\"ignore\")\n",
        "import sklearn.datasets\n",
        "import matplotlib.pyplot as plt\n",
        "import seaborn as sns\n",
        "from sklearn.model_selection import train_test_split\n",
        "from sklearn.linear_model import LinearRegression\n",
        "from sklearn.svm import SVR\n",
        "from sklearn.ensemble import RandomForestRegressor\n",
        "from sklearn.ensemble import GradientBoostingRegressor\n",
        "from sklearn import metrics"
      ],
      "metadata": {
        "id": "pARA3AyloKAt"
      },
      "execution_count": 1,
      "outputs": []
    },
    {
      "cell_type": "markdown",
      "source": [
        "**2) Loading Dataset**"
      ],
      "metadata": {
        "id": "QXv-to5NofAy"
      }
    },
    {
      "cell_type": "code",
      "source": [
        "insurance_data = pd.read_csv(\"/content/insurance.csv\")"
      ],
      "metadata": {
        "id": "dzIHxP7socr1"
      },
      "execution_count": 2,
      "outputs": []
    },
    {
      "cell_type": "markdown",
      "source": [
        "**3) Data PreProcessing**"
      ],
      "metadata": {
        "id": "YaVknIDjormC"
      }
    },
    {
      "cell_type": "markdown",
      "source": [
        "1) Top Five Rows of DataSet"
      ],
      "metadata": {
        "id": "0W5BIaneowYP"
      }
    },
    {
      "cell_type": "code",
      "source": [
        "insurance_data.head()"
      ],
      "metadata": {
        "colab": {
          "base_uri": "https://localhost:8080/",
          "height": 206
        },
        "id": "odMaM0HvooMA",
        "outputId": "4c8fa28b-d868-4910-f3c4-cb6353d0e88a"
      },
      "execution_count": 3,
      "outputs": [
        {
          "output_type": "execute_result",
          "data": {
            "text/plain": [
              "   age     sex     bmi  children smoker     region      charges\n",
              "0   19  female  27.900         0    yes  southwest  16884.92400\n",
              "1   18    male  33.770         1     no  southeast   1725.55230\n",
              "2   28    male  33.000         3     no  southeast   4449.46200\n",
              "3   33    male  22.705         0     no  northwest  21984.47061\n",
              "4   32    male  28.880         0     no  northwest   3866.85520"
            ],
            "text/html": [
              "\n",
              "  <div id=\"df-bf3d9483-26e8-41e3-8c2a-c823775c93ae\">\n",
              "    <div class=\"colab-df-container\">\n",
              "      <div>\n",
              "<style scoped>\n",
              "    .dataframe tbody tr th:only-of-type {\n",
              "        vertical-align: middle;\n",
              "    }\n",
              "\n",
              "    .dataframe tbody tr th {\n",
              "        vertical-align: top;\n",
              "    }\n",
              "\n",
              "    .dataframe thead th {\n",
              "        text-align: right;\n",
              "    }\n",
              "</style>\n",
              "<table border=\"1\" class=\"dataframe\">\n",
              "  <thead>\n",
              "    <tr style=\"text-align: right;\">\n",
              "      <th></th>\n",
              "      <th>age</th>\n",
              "      <th>sex</th>\n",
              "      <th>bmi</th>\n",
              "      <th>children</th>\n",
              "      <th>smoker</th>\n",
              "      <th>region</th>\n",
              "      <th>charges</th>\n",
              "    </tr>\n",
              "  </thead>\n",
              "  <tbody>\n",
              "    <tr>\n",
              "      <th>0</th>\n",
              "      <td>19</td>\n",
              "      <td>female</td>\n",
              "      <td>27.900</td>\n",
              "      <td>0</td>\n",
              "      <td>yes</td>\n",
              "      <td>southwest</td>\n",
              "      <td>16884.92400</td>\n",
              "    </tr>\n",
              "    <tr>\n",
              "      <th>1</th>\n",
              "      <td>18</td>\n",
              "      <td>male</td>\n",
              "      <td>33.770</td>\n",
              "      <td>1</td>\n",
              "      <td>no</td>\n",
              "      <td>southeast</td>\n",
              "      <td>1725.55230</td>\n",
              "    </tr>\n",
              "    <tr>\n",
              "      <th>2</th>\n",
              "      <td>28</td>\n",
              "      <td>male</td>\n",
              "      <td>33.000</td>\n",
              "      <td>3</td>\n",
              "      <td>no</td>\n",
              "      <td>southeast</td>\n",
              "      <td>4449.46200</td>\n",
              "    </tr>\n",
              "    <tr>\n",
              "      <th>3</th>\n",
              "      <td>33</td>\n",
              "      <td>male</td>\n",
              "      <td>22.705</td>\n",
              "      <td>0</td>\n",
              "      <td>no</td>\n",
              "      <td>northwest</td>\n",
              "      <td>21984.47061</td>\n",
              "    </tr>\n",
              "    <tr>\n",
              "      <th>4</th>\n",
              "      <td>32</td>\n",
              "      <td>male</td>\n",
              "      <td>28.880</td>\n",
              "      <td>0</td>\n",
              "      <td>no</td>\n",
              "      <td>northwest</td>\n",
              "      <td>3866.85520</td>\n",
              "    </tr>\n",
              "  </tbody>\n",
              "</table>\n",
              "</div>\n",
              "      <button class=\"colab-df-convert\" onclick=\"convertToInteractive('df-bf3d9483-26e8-41e3-8c2a-c823775c93ae')\"\n",
              "              title=\"Convert this dataframe to an interactive table.\"\n",
              "              style=\"display:none;\">\n",
              "        \n",
              "  <svg xmlns=\"http://www.w3.org/2000/svg\" height=\"24px\"viewBox=\"0 0 24 24\"\n",
              "       width=\"24px\">\n",
              "    <path d=\"M0 0h24v24H0V0z\" fill=\"none\"/>\n",
              "    <path d=\"M18.56 5.44l.94 2.06.94-2.06 2.06-.94-2.06-.94-.94-2.06-.94 2.06-2.06.94zm-11 1L8.5 8.5l.94-2.06 2.06-.94-2.06-.94L8.5 2.5l-.94 2.06-2.06.94zm10 10l.94 2.06.94-2.06 2.06-.94-2.06-.94-.94-2.06-.94 2.06-2.06.94z\"/><path d=\"M17.41 7.96l-1.37-1.37c-.4-.4-.92-.59-1.43-.59-.52 0-1.04.2-1.43.59L10.3 9.45l-7.72 7.72c-.78.78-.78 2.05 0 2.83L4 21.41c.39.39.9.59 1.41.59.51 0 1.02-.2 1.41-.59l7.78-7.78 2.81-2.81c.8-.78.8-2.07 0-2.86zM5.41 20L4 18.59l7.72-7.72 1.47 1.35L5.41 20z\"/>\n",
              "  </svg>\n",
              "      </button>\n",
              "      \n",
              "  <style>\n",
              "    .colab-df-container {\n",
              "      display:flex;\n",
              "      flex-wrap:wrap;\n",
              "      gap: 12px;\n",
              "    }\n",
              "\n",
              "    .colab-df-convert {\n",
              "      background-color: #E8F0FE;\n",
              "      border: none;\n",
              "      border-radius: 50%;\n",
              "      cursor: pointer;\n",
              "      display: none;\n",
              "      fill: #1967D2;\n",
              "      height: 32px;\n",
              "      padding: 0 0 0 0;\n",
              "      width: 32px;\n",
              "    }\n",
              "\n",
              "    .colab-df-convert:hover {\n",
              "      background-color: #E2EBFA;\n",
              "      box-shadow: 0px 1px 2px rgba(60, 64, 67, 0.3), 0px 1px 3px 1px rgba(60, 64, 67, 0.15);\n",
              "      fill: #174EA6;\n",
              "    }\n",
              "\n",
              "    [theme=dark] .colab-df-convert {\n",
              "      background-color: #3B4455;\n",
              "      fill: #D2E3FC;\n",
              "    }\n",
              "\n",
              "    [theme=dark] .colab-df-convert:hover {\n",
              "      background-color: #434B5C;\n",
              "      box-shadow: 0px 1px 3px 1px rgba(0, 0, 0, 0.15);\n",
              "      filter: drop-shadow(0px 1px 2px rgba(0, 0, 0, 0.3));\n",
              "      fill: #FFFFFF;\n",
              "    }\n",
              "  </style>\n",
              "\n",
              "      <script>\n",
              "        const buttonEl =\n",
              "          document.querySelector('#df-bf3d9483-26e8-41e3-8c2a-c823775c93ae button.colab-df-convert');\n",
              "        buttonEl.style.display =\n",
              "          google.colab.kernel.accessAllowed ? 'block' : 'none';\n",
              "\n",
              "        async function convertToInteractive(key) {\n",
              "          const element = document.querySelector('#df-bf3d9483-26e8-41e3-8c2a-c823775c93ae');\n",
              "          const dataTable =\n",
              "            await google.colab.kernel.invokeFunction('convertToInteractive',\n",
              "                                                     [key], {});\n",
              "          if (!dataTable) return;\n",
              "\n",
              "          const docLinkHtml = 'Like what you see? Visit the ' +\n",
              "            '<a target=\"_blank\" href=https://colab.research.google.com/notebooks/data_table.ipynb>data table notebook</a>'\n",
              "            + ' to learn more about interactive tables.';\n",
              "          element.innerHTML = '';\n",
              "          dataTable['output_type'] = 'display_data';\n",
              "          await google.colab.output.renderOutput(dataTable, element);\n",
              "          const docLink = document.createElement('div');\n",
              "          docLink.innerHTML = docLinkHtml;\n",
              "          element.appendChild(docLink);\n",
              "        }\n",
              "      </script>\n",
              "    </div>\n",
              "  </div>\n",
              "  "
            ]
          },
          "metadata": {},
          "execution_count": 3
        }
      ]
    },
    {
      "cell_type": "markdown",
      "source": [
        "2) Last Five Rows of DataSet"
      ],
      "metadata": {
        "id": "nUUXi_8To8_J"
      }
    },
    {
      "cell_type": "code",
      "source": [
        "insurance_data.tail()"
      ],
      "metadata": {
        "colab": {
          "base_uri": "https://localhost:8080/",
          "height": 206
        },
        "id": "JDTo61Tboyzp",
        "outputId": "fbe9f3dc-ebee-4684-c62d-4fecbea0f61b"
      },
      "execution_count": 4,
      "outputs": [
        {
          "output_type": "execute_result",
          "data": {
            "text/plain": [
              "      age     sex    bmi  children smoker     region     charges\n",
              "1333   50    male  30.97         3     no  northwest  10600.5483\n",
              "1334   18  female  31.92         0     no  northeast   2205.9808\n",
              "1335   18  female  36.85         0     no  southeast   1629.8335\n",
              "1336   21  female  25.80         0     no  southwest   2007.9450\n",
              "1337   61  female  29.07         0    yes  northwest  29141.3603"
            ],
            "text/html": [
              "\n",
              "  <div id=\"df-4e896bbb-cade-4c64-a297-0f066a82c2b5\">\n",
              "    <div class=\"colab-df-container\">\n",
              "      <div>\n",
              "<style scoped>\n",
              "    .dataframe tbody tr th:only-of-type {\n",
              "        vertical-align: middle;\n",
              "    }\n",
              "\n",
              "    .dataframe tbody tr th {\n",
              "        vertical-align: top;\n",
              "    }\n",
              "\n",
              "    .dataframe thead th {\n",
              "        text-align: right;\n",
              "    }\n",
              "</style>\n",
              "<table border=\"1\" class=\"dataframe\">\n",
              "  <thead>\n",
              "    <tr style=\"text-align: right;\">\n",
              "      <th></th>\n",
              "      <th>age</th>\n",
              "      <th>sex</th>\n",
              "      <th>bmi</th>\n",
              "      <th>children</th>\n",
              "      <th>smoker</th>\n",
              "      <th>region</th>\n",
              "      <th>charges</th>\n",
              "    </tr>\n",
              "  </thead>\n",
              "  <tbody>\n",
              "    <tr>\n",
              "      <th>1333</th>\n",
              "      <td>50</td>\n",
              "      <td>male</td>\n",
              "      <td>30.97</td>\n",
              "      <td>3</td>\n",
              "      <td>no</td>\n",
              "      <td>northwest</td>\n",
              "      <td>10600.5483</td>\n",
              "    </tr>\n",
              "    <tr>\n",
              "      <th>1334</th>\n",
              "      <td>18</td>\n",
              "      <td>female</td>\n",
              "      <td>31.92</td>\n",
              "      <td>0</td>\n",
              "      <td>no</td>\n",
              "      <td>northeast</td>\n",
              "      <td>2205.9808</td>\n",
              "    </tr>\n",
              "    <tr>\n",
              "      <th>1335</th>\n",
              "      <td>18</td>\n",
              "      <td>female</td>\n",
              "      <td>36.85</td>\n",
              "      <td>0</td>\n",
              "      <td>no</td>\n",
              "      <td>southeast</td>\n",
              "      <td>1629.8335</td>\n",
              "    </tr>\n",
              "    <tr>\n",
              "      <th>1336</th>\n",
              "      <td>21</td>\n",
              "      <td>female</td>\n",
              "      <td>25.80</td>\n",
              "      <td>0</td>\n",
              "      <td>no</td>\n",
              "      <td>southwest</td>\n",
              "      <td>2007.9450</td>\n",
              "    </tr>\n",
              "    <tr>\n",
              "      <th>1337</th>\n",
              "      <td>61</td>\n",
              "      <td>female</td>\n",
              "      <td>29.07</td>\n",
              "      <td>0</td>\n",
              "      <td>yes</td>\n",
              "      <td>northwest</td>\n",
              "      <td>29141.3603</td>\n",
              "    </tr>\n",
              "  </tbody>\n",
              "</table>\n",
              "</div>\n",
              "      <button class=\"colab-df-convert\" onclick=\"convertToInteractive('df-4e896bbb-cade-4c64-a297-0f066a82c2b5')\"\n",
              "              title=\"Convert this dataframe to an interactive table.\"\n",
              "              style=\"display:none;\">\n",
              "        \n",
              "  <svg xmlns=\"http://www.w3.org/2000/svg\" height=\"24px\"viewBox=\"0 0 24 24\"\n",
              "       width=\"24px\">\n",
              "    <path d=\"M0 0h24v24H0V0z\" fill=\"none\"/>\n",
              "    <path d=\"M18.56 5.44l.94 2.06.94-2.06 2.06-.94-2.06-.94-.94-2.06-.94 2.06-2.06.94zm-11 1L8.5 8.5l.94-2.06 2.06-.94-2.06-.94L8.5 2.5l-.94 2.06-2.06.94zm10 10l.94 2.06.94-2.06 2.06-.94-2.06-.94-.94-2.06-.94 2.06-2.06.94z\"/><path d=\"M17.41 7.96l-1.37-1.37c-.4-.4-.92-.59-1.43-.59-.52 0-1.04.2-1.43.59L10.3 9.45l-7.72 7.72c-.78.78-.78 2.05 0 2.83L4 21.41c.39.39.9.59 1.41.59.51 0 1.02-.2 1.41-.59l7.78-7.78 2.81-2.81c.8-.78.8-2.07 0-2.86zM5.41 20L4 18.59l7.72-7.72 1.47 1.35L5.41 20z\"/>\n",
              "  </svg>\n",
              "      </button>\n",
              "      \n",
              "  <style>\n",
              "    .colab-df-container {\n",
              "      display:flex;\n",
              "      flex-wrap:wrap;\n",
              "      gap: 12px;\n",
              "    }\n",
              "\n",
              "    .colab-df-convert {\n",
              "      background-color: #E8F0FE;\n",
              "      border: none;\n",
              "      border-radius: 50%;\n",
              "      cursor: pointer;\n",
              "      display: none;\n",
              "      fill: #1967D2;\n",
              "      height: 32px;\n",
              "      padding: 0 0 0 0;\n",
              "      width: 32px;\n",
              "    }\n",
              "\n",
              "    .colab-df-convert:hover {\n",
              "      background-color: #E2EBFA;\n",
              "      box-shadow: 0px 1px 2px rgba(60, 64, 67, 0.3), 0px 1px 3px 1px rgba(60, 64, 67, 0.15);\n",
              "      fill: #174EA6;\n",
              "    }\n",
              "\n",
              "    [theme=dark] .colab-df-convert {\n",
              "      background-color: #3B4455;\n",
              "      fill: #D2E3FC;\n",
              "    }\n",
              "\n",
              "    [theme=dark] .colab-df-convert:hover {\n",
              "      background-color: #434B5C;\n",
              "      box-shadow: 0px 1px 3px 1px rgba(0, 0, 0, 0.15);\n",
              "      filter: drop-shadow(0px 1px 2px rgba(0, 0, 0, 0.3));\n",
              "      fill: #FFFFFF;\n",
              "    }\n",
              "  </style>\n",
              "\n",
              "      <script>\n",
              "        const buttonEl =\n",
              "          document.querySelector('#df-4e896bbb-cade-4c64-a297-0f066a82c2b5 button.colab-df-convert');\n",
              "        buttonEl.style.display =\n",
              "          google.colab.kernel.accessAllowed ? 'block' : 'none';\n",
              "\n",
              "        async function convertToInteractive(key) {\n",
              "          const element = document.querySelector('#df-4e896bbb-cade-4c64-a297-0f066a82c2b5');\n",
              "          const dataTable =\n",
              "            await google.colab.kernel.invokeFunction('convertToInteractive',\n",
              "                                                     [key], {});\n",
              "          if (!dataTable) return;\n",
              "\n",
              "          const docLinkHtml = 'Like what you see? Visit the ' +\n",
              "            '<a target=\"_blank\" href=https://colab.research.google.com/notebooks/data_table.ipynb>data table notebook</a>'\n",
              "            + ' to learn more about interactive tables.';\n",
              "          element.innerHTML = '';\n",
              "          dataTable['output_type'] = 'display_data';\n",
              "          await google.colab.output.renderOutput(dataTable, element);\n",
              "          const docLink = document.createElement('div');\n",
              "          docLink.innerHTML = docLinkHtml;\n",
              "          element.appendChild(docLink);\n",
              "        }\n",
              "      </script>\n",
              "    </div>\n",
              "  </div>\n",
              "  "
            ]
          },
          "metadata": {},
          "execution_count": 4
        }
      ]
    },
    {
      "cell_type": "markdown",
      "source": [
        "3) Shape of DataSet"
      ],
      "metadata": {
        "id": "QQ3lutjTpD5a"
      }
    },
    {
      "cell_type": "code",
      "source": [
        "insurance_data.shape\n",
        "print(\"Number of Rows: \",insurance_data.shape[0])\n",
        "print(\"Number of Columns: \",insurance_data.shape[1])"
      ],
      "metadata": {
        "colab": {
          "base_uri": "https://localhost:8080/"
        },
        "id": "jApCSCu5pBB4",
        "outputId": "a3299f3d-d9d5-4a01-f9d7-a48d1cedcc3a"
      },
      "execution_count": 5,
      "outputs": [
        {
          "output_type": "stream",
          "name": "stdout",
          "text": [
            "Number of Rows:  1338\n",
            "Number of Columns:  7\n"
          ]
        }
      ]
    },
    {
      "cell_type": "markdown",
      "source": [
        "4) data Types"
      ],
      "metadata": {
        "id": "vcMgleFBpOYS"
      }
    },
    {
      "cell_type": "code",
      "source": [
        "insurance_data.dtypes"
      ],
      "metadata": {
        "colab": {
          "base_uri": "https://localhost:8080/"
        },
        "id": "TRrHpgRapM8K",
        "outputId": "1a924853-08de-48fb-8531-0f27e807ff16"
      },
      "execution_count": 6,
      "outputs": [
        {
          "output_type": "execute_result",
          "data": {
            "text/plain": [
              "age           int64\n",
              "sex          object\n",
              "bmi         float64\n",
              "children      int64\n",
              "smoker       object\n",
              "region       object\n",
              "charges     float64\n",
              "dtype: object"
            ]
          },
          "metadata": {},
          "execution_count": 6
        }
      ]
    },
    {
      "cell_type": "markdown",
      "source": [
        "5) Getting Information of DataSet"
      ],
      "metadata": {
        "id": "xd81IoogpVTB"
      }
    },
    {
      "cell_type": "code",
      "source": [
        "insurance_data.info()"
      ],
      "metadata": {
        "colab": {
          "base_uri": "https://localhost:8080/"
        },
        "id": "uTXYWwGDpS-Q",
        "outputId": "b20201a6-4df4-4d62-9b06-04fb2778f107"
      },
      "execution_count": 7,
      "outputs": [
        {
          "output_type": "stream",
          "name": "stdout",
          "text": [
            "<class 'pandas.core.frame.DataFrame'>\n",
            "RangeIndex: 1338 entries, 0 to 1337\n",
            "Data columns (total 7 columns):\n",
            " #   Column    Non-Null Count  Dtype  \n",
            "---  ------    --------------  -----  \n",
            " 0   age       1338 non-null   int64  \n",
            " 1   sex       1338 non-null   object \n",
            " 2   bmi       1338 non-null   float64\n",
            " 3   children  1338 non-null   int64  \n",
            " 4   smoker    1338 non-null   object \n",
            " 5   region    1338 non-null   object \n",
            " 6   charges   1338 non-null   float64\n",
            "dtypes: float64(2), int64(2), object(3)\n",
            "memory usage: 73.3+ KB\n"
          ]
        }
      ]
    },
    {
      "cell_type": "markdown",
      "source": [
        "6) Checking Missing Values of DataSet"
      ],
      "metadata": {
        "id": "4DtriYY_pdgg"
      }
    },
    {
      "cell_type": "code",
      "source": [
        "insurance_data.isnull().sum()"
      ],
      "metadata": {
        "colab": {
          "base_uri": "https://localhost:8080/"
        },
        "id": "H1DO-8S-pZSV",
        "outputId": "a65ef2d6-e631-4c9b-e29e-7ebbf93c564a"
      },
      "execution_count": 8,
      "outputs": [
        {
          "output_type": "execute_result",
          "data": {
            "text/plain": [
              "age         0\n",
              "sex         0\n",
              "bmi         0\n",
              "children    0\n",
              "smoker      0\n",
              "region      0\n",
              "charges     0\n",
              "dtype: int64"
            ]
          },
          "metadata": {},
          "execution_count": 8
        }
      ]
    },
    {
      "cell_type": "markdown",
      "source": [
        "7) Droping Duplicates Values of Dataset"
      ],
      "metadata": {
        "id": "QPY4T-VcpieZ"
      }
    },
    {
      "cell_type": "code",
      "source": [
        "insurance_data = insurance_data.drop_duplicates()"
      ],
      "metadata": {
        "id": "D8MOZTCsphXD"
      },
      "execution_count": 9,
      "outputs": []
    },
    {
      "cell_type": "markdown",
      "source": [
        "8) Statistical Measures"
      ],
      "metadata": {
        "id": "jZvR-31Op7xf"
      }
    },
    {
      "cell_type": "code",
      "source": [
        "insurance_data.describe()"
      ],
      "metadata": {
        "colab": {
          "base_uri": "https://localhost:8080/",
          "height": 301
        },
        "id": "3A0s6N0Ppoh_",
        "outputId": "80e1bff3-9cc3-44b3-d165-31ae0c4bfe7c"
      },
      "execution_count": 10,
      "outputs": [
        {
          "output_type": "execute_result",
          "data": {
            "text/plain": [
              "               age          bmi     children       charges\n",
              "count  1337.000000  1337.000000  1337.000000   1337.000000\n",
              "mean     39.222139    30.663452     1.095737  13279.121487\n",
              "std      14.044333     6.100468     1.205571  12110.359656\n",
              "min      18.000000    15.960000     0.000000   1121.873900\n",
              "25%      27.000000    26.290000     0.000000   4746.344000\n",
              "50%      39.000000    30.400000     1.000000   9386.161300\n",
              "75%      51.000000    34.700000     2.000000  16657.717450\n",
              "max      64.000000    53.130000     5.000000  63770.428010"
            ],
            "text/html": [
              "\n",
              "  <div id=\"df-484f7d9e-ed8d-4ecb-b6bd-19fa2add538e\">\n",
              "    <div class=\"colab-df-container\">\n",
              "      <div>\n",
              "<style scoped>\n",
              "    .dataframe tbody tr th:only-of-type {\n",
              "        vertical-align: middle;\n",
              "    }\n",
              "\n",
              "    .dataframe tbody tr th {\n",
              "        vertical-align: top;\n",
              "    }\n",
              "\n",
              "    .dataframe thead th {\n",
              "        text-align: right;\n",
              "    }\n",
              "</style>\n",
              "<table border=\"1\" class=\"dataframe\">\n",
              "  <thead>\n",
              "    <tr style=\"text-align: right;\">\n",
              "      <th></th>\n",
              "      <th>age</th>\n",
              "      <th>bmi</th>\n",
              "      <th>children</th>\n",
              "      <th>charges</th>\n",
              "    </tr>\n",
              "  </thead>\n",
              "  <tbody>\n",
              "    <tr>\n",
              "      <th>count</th>\n",
              "      <td>1337.000000</td>\n",
              "      <td>1337.000000</td>\n",
              "      <td>1337.000000</td>\n",
              "      <td>1337.000000</td>\n",
              "    </tr>\n",
              "    <tr>\n",
              "      <th>mean</th>\n",
              "      <td>39.222139</td>\n",
              "      <td>30.663452</td>\n",
              "      <td>1.095737</td>\n",
              "      <td>13279.121487</td>\n",
              "    </tr>\n",
              "    <tr>\n",
              "      <th>std</th>\n",
              "      <td>14.044333</td>\n",
              "      <td>6.100468</td>\n",
              "      <td>1.205571</td>\n",
              "      <td>12110.359656</td>\n",
              "    </tr>\n",
              "    <tr>\n",
              "      <th>min</th>\n",
              "      <td>18.000000</td>\n",
              "      <td>15.960000</td>\n",
              "      <td>0.000000</td>\n",
              "      <td>1121.873900</td>\n",
              "    </tr>\n",
              "    <tr>\n",
              "      <th>25%</th>\n",
              "      <td>27.000000</td>\n",
              "      <td>26.290000</td>\n",
              "      <td>0.000000</td>\n",
              "      <td>4746.344000</td>\n",
              "    </tr>\n",
              "    <tr>\n",
              "      <th>50%</th>\n",
              "      <td>39.000000</td>\n",
              "      <td>30.400000</td>\n",
              "      <td>1.000000</td>\n",
              "      <td>9386.161300</td>\n",
              "    </tr>\n",
              "    <tr>\n",
              "      <th>75%</th>\n",
              "      <td>51.000000</td>\n",
              "      <td>34.700000</td>\n",
              "      <td>2.000000</td>\n",
              "      <td>16657.717450</td>\n",
              "    </tr>\n",
              "    <tr>\n",
              "      <th>max</th>\n",
              "      <td>64.000000</td>\n",
              "      <td>53.130000</td>\n",
              "      <td>5.000000</td>\n",
              "      <td>63770.428010</td>\n",
              "    </tr>\n",
              "  </tbody>\n",
              "</table>\n",
              "</div>\n",
              "      <button class=\"colab-df-convert\" onclick=\"convertToInteractive('df-484f7d9e-ed8d-4ecb-b6bd-19fa2add538e')\"\n",
              "              title=\"Convert this dataframe to an interactive table.\"\n",
              "              style=\"display:none;\">\n",
              "        \n",
              "  <svg xmlns=\"http://www.w3.org/2000/svg\" height=\"24px\"viewBox=\"0 0 24 24\"\n",
              "       width=\"24px\">\n",
              "    <path d=\"M0 0h24v24H0V0z\" fill=\"none\"/>\n",
              "    <path d=\"M18.56 5.44l.94 2.06.94-2.06 2.06-.94-2.06-.94-.94-2.06-.94 2.06-2.06.94zm-11 1L8.5 8.5l.94-2.06 2.06-.94-2.06-.94L8.5 2.5l-.94 2.06-2.06.94zm10 10l.94 2.06.94-2.06 2.06-.94-2.06-.94-.94-2.06-.94 2.06-2.06.94z\"/><path d=\"M17.41 7.96l-1.37-1.37c-.4-.4-.92-.59-1.43-.59-.52 0-1.04.2-1.43.59L10.3 9.45l-7.72 7.72c-.78.78-.78 2.05 0 2.83L4 21.41c.39.39.9.59 1.41.59.51 0 1.02-.2 1.41-.59l7.78-7.78 2.81-2.81c.8-.78.8-2.07 0-2.86zM5.41 20L4 18.59l7.72-7.72 1.47 1.35L5.41 20z\"/>\n",
              "  </svg>\n",
              "      </button>\n",
              "      \n",
              "  <style>\n",
              "    .colab-df-container {\n",
              "      display:flex;\n",
              "      flex-wrap:wrap;\n",
              "      gap: 12px;\n",
              "    }\n",
              "\n",
              "    .colab-df-convert {\n",
              "      background-color: #E8F0FE;\n",
              "      border: none;\n",
              "      border-radius: 50%;\n",
              "      cursor: pointer;\n",
              "      display: none;\n",
              "      fill: #1967D2;\n",
              "      height: 32px;\n",
              "      padding: 0 0 0 0;\n",
              "      width: 32px;\n",
              "    }\n",
              "\n",
              "    .colab-df-convert:hover {\n",
              "      background-color: #E2EBFA;\n",
              "      box-shadow: 0px 1px 2px rgba(60, 64, 67, 0.3), 0px 1px 3px 1px rgba(60, 64, 67, 0.15);\n",
              "      fill: #174EA6;\n",
              "    }\n",
              "\n",
              "    [theme=dark] .colab-df-convert {\n",
              "      background-color: #3B4455;\n",
              "      fill: #D2E3FC;\n",
              "    }\n",
              "\n",
              "    [theme=dark] .colab-df-convert:hover {\n",
              "      background-color: #434B5C;\n",
              "      box-shadow: 0px 1px 3px 1px rgba(0, 0, 0, 0.15);\n",
              "      filter: drop-shadow(0px 1px 2px rgba(0, 0, 0, 0.3));\n",
              "      fill: #FFFFFF;\n",
              "    }\n",
              "  </style>\n",
              "\n",
              "      <script>\n",
              "        const buttonEl =\n",
              "          document.querySelector('#df-484f7d9e-ed8d-4ecb-b6bd-19fa2add538e button.colab-df-convert');\n",
              "        buttonEl.style.display =\n",
              "          google.colab.kernel.accessAllowed ? 'block' : 'none';\n",
              "\n",
              "        async function convertToInteractive(key) {\n",
              "          const element = document.querySelector('#df-484f7d9e-ed8d-4ecb-b6bd-19fa2add538e');\n",
              "          const dataTable =\n",
              "            await google.colab.kernel.invokeFunction('convertToInteractive',\n",
              "                                                     [key], {});\n",
              "          if (!dataTable) return;\n",
              "\n",
              "          const docLinkHtml = 'Like what you see? Visit the ' +\n",
              "            '<a target=\"_blank\" href=https://colab.research.google.com/notebooks/data_table.ipynb>data table notebook</a>'\n",
              "            + ' to learn more about interactive tables.';\n",
              "          element.innerHTML = '';\n",
              "          dataTable['output_type'] = 'display_data';\n",
              "          await google.colab.output.renderOutput(dataTable, element);\n",
              "          const docLink = document.createElement('div');\n",
              "          docLink.innerHTML = docLinkHtml;\n",
              "          element.appendChild(docLink);\n",
              "        }\n",
              "      </script>\n",
              "    </div>\n",
              "  </div>\n",
              "  "
            ]
          },
          "metadata": {},
          "execution_count": 10
        }
      ]
    },
    {
      "cell_type": "markdown",
      "source": [
        "9) IQR (Inter Quantile Range)\n",
        "    \n",
        "    IQR = Q3-Q1           \n",
        "    Upper Threshold = Q3 + (1.5 * IQR)\n",
        "    Lower Threshold = Q1 - (1.5 * IQR)   "
      ],
      "metadata": {
        "id": "hMG8JjHKqFDg"
      }
    },
    {
      "cell_type": "markdown",
      "source": [
        "Age"
      ],
      "metadata": {
        "id": "RWMjZ5XzqlvS"
      }
    },
    {
      "cell_type": "code",
      "source": [
        "IQR = insurance_data.age.quantile(0.75) - insurance_data.age.quantile(0.25)\n",
        "Upper_Threshold = insurance_data.age.quantile(0.75) + (1.5 * IQR)\n",
        "Lower_Threshold = insurance_data.age.quantile(0.25) - (1.5 * IQR)\n",
        "print(\"Upper_Threshold : \",Upper_Threshold)\n",
        "print(\"Lower_Threshold : \",Lower_Threshold)"
      ],
      "metadata": {
        "colab": {
          "base_uri": "https://localhost:8080/"
        },
        "id": "kzadBlHxp-6V",
        "outputId": "2ced982f-e41f-4e68-a326-f41b4d228d77"
      },
      "execution_count": 11,
      "outputs": [
        {
          "output_type": "stream",
          "name": "stdout",
          "text": [
            "Upper_Threshold :  87.0\n",
            "Lower_Threshold :  -9.0\n"
          ]
        }
      ]
    },
    {
      "cell_type": "markdown",
      "source": [
        "Bmi"
      ],
      "metadata": {
        "id": "rMUUpmZqqnHB"
      }
    },
    {
      "cell_type": "code",
      "source": [
        "IQR = insurance_data.bmi.quantile(0.75) - insurance_data.bmi.quantile(0.25)\n",
        "Upper_Threshold = insurance_data.bmi.quantile(0.75) + (1.5 * IQR)\n",
        "Lower_Threshold = insurance_data.bmi.quantile(0.25) - (1.5 * IQR)\n",
        "print(\"Upper_Threshold : \",Upper_Threshold)\n",
        "print(\"Lower_Threshold : \",Lower_Threshold)"
      ],
      "metadata": {
        "colab": {
          "base_uri": "https://localhost:8080/"
        },
        "id": "jZ3znJXZqjyU",
        "outputId": "18c740f6-498a-4144-d3c4-0fc318603600"
      },
      "execution_count": 12,
      "outputs": [
        {
          "output_type": "stream",
          "name": "stdout",
          "text": [
            "Upper_Threshold :  47.31500000000001\n",
            "Lower_Threshold :  13.674999999999994\n"
          ]
        }
      ]
    },
    {
      "cell_type": "markdown",
      "source": [
        "Children"
      ],
      "metadata": {
        "id": "dJaOkF4_q1mR"
      }
    },
    {
      "cell_type": "code",
      "source": [
        "IQR = insurance_data.children.quantile(0.75) - insurance_data.children.quantile(0.25)\n",
        "Upper_Threshold = insurance_data.children.quantile(0.75) + (1.5 * IQR)\n",
        "Lower_Threshold = insurance_data.children.quantile(0.25) - (1.5 * IQR)\n",
        "print(\"Upper_Threshold : \",Upper_Threshold)\n",
        "print(\"Lower_Threshold : \",Lower_Threshold)"
      ],
      "metadata": {
        "colab": {
          "base_uri": "https://localhost:8080/"
        },
        "id": "Tuwf8fWWqxqp",
        "outputId": "f71c4b93-0e4c-4687-befc-37da4e24f360"
      },
      "execution_count": 13,
      "outputs": [
        {
          "output_type": "stream",
          "name": "stdout",
          "text": [
            "Upper_Threshold :  5.0\n",
            "Lower_Threshold :  -3.0\n"
          ]
        }
      ]
    },
    {
      "cell_type": "markdown",
      "source": [
        "10) Data Encoding"
      ],
      "metadata": {
        "id": "ljAa9dzarRuN"
      }
    },
    {
      "cell_type": "code",
      "source": [
        "insurance_data.columns"
      ],
      "metadata": {
        "colab": {
          "base_uri": "https://localhost:8080/"
        },
        "id": "uyAJFbvrrFQr",
        "outputId": "e25798d4-6620-4b87-e132-5b448da93ca1"
      },
      "execution_count": 14,
      "outputs": [
        {
          "output_type": "execute_result",
          "data": {
            "text/plain": [
              "Index(['age', 'sex', 'bmi', 'children', 'smoker', 'region', 'charges'], dtype='object')"
            ]
          },
          "metadata": {},
          "execution_count": 14
        }
      ]
    },
    {
      "cell_type": "markdown",
      "source": [
        "Sex"
      ],
      "metadata": {
        "id": "UhFOET3Vrjc5"
      }
    },
    {
      "cell_type": "code",
      "source": [
        "insurance_data[\"sex\"].unique()"
      ],
      "metadata": {
        "colab": {
          "base_uri": "https://localhost:8080/"
        },
        "id": "6uZFGldlrced",
        "outputId": "8b028be4-207e-43ca-9318-e5d5d63077c3"
      },
      "execution_count": 15,
      "outputs": [
        {
          "output_type": "execute_result",
          "data": {
            "text/plain": [
              "array(['female', 'male'], dtype=object)"
            ]
          },
          "metadata": {},
          "execution_count": 15
        }
      ]
    },
    {
      "cell_type": "code",
      "source": [
        "insurance_data[\"sex\"] = insurance_data[\"sex\"].map({\"female\":0,\"male\":1})"
      ],
      "metadata": {
        "id": "PPQl7eLdrqEI"
      },
      "execution_count": 16,
      "outputs": []
    },
    {
      "cell_type": "markdown",
      "source": [
        "Smoker"
      ],
      "metadata": {
        "id": "sbmMECRMr3LB"
      }
    },
    {
      "cell_type": "code",
      "source": [
        "insurance_data[\"smoker\"].unique()"
      ],
      "metadata": {
        "colab": {
          "base_uri": "https://localhost:8080/"
        },
        "id": "8Pp1FBhOrzFr",
        "outputId": "3ad0ad69-32b0-402c-ae47-1a88d1d60be3"
      },
      "execution_count": 17,
      "outputs": [
        {
          "output_type": "execute_result",
          "data": {
            "text/plain": [
              "array(['yes', 'no'], dtype=object)"
            ]
          },
          "metadata": {},
          "execution_count": 17
        }
      ]
    },
    {
      "cell_type": "code",
      "source": [
        "insurance_data[\"smoker\"] = insurance_data[\"smoker\"].map({\"yes\":1,\"no\":0})"
      ],
      "metadata": {
        "id": "iYbnWwlIr_1j"
      },
      "execution_count": 18,
      "outputs": []
    },
    {
      "cell_type": "markdown",
      "source": [
        "Region"
      ],
      "metadata": {
        "id": "QoXoPPpLsJUC"
      }
    },
    {
      "cell_type": "code",
      "source": [
        "insurance_data[\"region\"].unique()"
      ],
      "metadata": {
        "colab": {
          "base_uri": "https://localhost:8080/"
        },
        "id": "mVgj7UWSsE8-",
        "outputId": "cc5bf43e-bd4d-4ed9-baba-a6fcd86ac02c"
      },
      "execution_count": 19,
      "outputs": [
        {
          "output_type": "execute_result",
          "data": {
            "text/plain": [
              "array(['southwest', 'southeast', 'northwest', 'northeast'], dtype=object)"
            ]
          },
          "metadata": {},
          "execution_count": 19
        }
      ]
    },
    {
      "cell_type": "code",
      "source": [
        "insurance_data[\"region\"] = insurance_data[\"region\"].map({\"southwest\":1,\"southeast\":2,\"northwest\":3,\"northeast\":4})"
      ],
      "metadata": {
        "id": "GSvExsL-sQXS"
      },
      "execution_count": 20,
      "outputs": []
    },
    {
      "cell_type": "code",
      "source": [
        "insurance_data.head()"
      ],
      "metadata": {
        "colab": {
          "base_uri": "https://localhost:8080/",
          "height": 206
        },
        "id": "lzKoU8xxsgoc",
        "outputId": "d8b9b73e-9021-475d-de41-48b2586c1722"
      },
      "execution_count": 21,
      "outputs": [
        {
          "output_type": "execute_result",
          "data": {
            "text/plain": [
              "   age  sex     bmi  children  smoker  region      charges\n",
              "0   19    0  27.900         0       1       1  16884.92400\n",
              "1   18    1  33.770         1       0       2   1725.55230\n",
              "2   28    1  33.000         3       0       2   4449.46200\n",
              "3   33    1  22.705         0       0       3  21984.47061\n",
              "4   32    1  28.880         0       0       3   3866.85520"
            ],
            "text/html": [
              "\n",
              "  <div id=\"df-0c75ed9d-3186-404a-8d46-28668c5165b8\">\n",
              "    <div class=\"colab-df-container\">\n",
              "      <div>\n",
              "<style scoped>\n",
              "    .dataframe tbody tr th:only-of-type {\n",
              "        vertical-align: middle;\n",
              "    }\n",
              "\n",
              "    .dataframe tbody tr th {\n",
              "        vertical-align: top;\n",
              "    }\n",
              "\n",
              "    .dataframe thead th {\n",
              "        text-align: right;\n",
              "    }\n",
              "</style>\n",
              "<table border=\"1\" class=\"dataframe\">\n",
              "  <thead>\n",
              "    <tr style=\"text-align: right;\">\n",
              "      <th></th>\n",
              "      <th>age</th>\n",
              "      <th>sex</th>\n",
              "      <th>bmi</th>\n",
              "      <th>children</th>\n",
              "      <th>smoker</th>\n",
              "      <th>region</th>\n",
              "      <th>charges</th>\n",
              "    </tr>\n",
              "  </thead>\n",
              "  <tbody>\n",
              "    <tr>\n",
              "      <th>0</th>\n",
              "      <td>19</td>\n",
              "      <td>0</td>\n",
              "      <td>27.900</td>\n",
              "      <td>0</td>\n",
              "      <td>1</td>\n",
              "      <td>1</td>\n",
              "      <td>16884.92400</td>\n",
              "    </tr>\n",
              "    <tr>\n",
              "      <th>1</th>\n",
              "      <td>18</td>\n",
              "      <td>1</td>\n",
              "      <td>33.770</td>\n",
              "      <td>1</td>\n",
              "      <td>0</td>\n",
              "      <td>2</td>\n",
              "      <td>1725.55230</td>\n",
              "    </tr>\n",
              "    <tr>\n",
              "      <th>2</th>\n",
              "      <td>28</td>\n",
              "      <td>1</td>\n",
              "      <td>33.000</td>\n",
              "      <td>3</td>\n",
              "      <td>0</td>\n",
              "      <td>2</td>\n",
              "      <td>4449.46200</td>\n",
              "    </tr>\n",
              "    <tr>\n",
              "      <th>3</th>\n",
              "      <td>33</td>\n",
              "      <td>1</td>\n",
              "      <td>22.705</td>\n",
              "      <td>0</td>\n",
              "      <td>0</td>\n",
              "      <td>3</td>\n",
              "      <td>21984.47061</td>\n",
              "    </tr>\n",
              "    <tr>\n",
              "      <th>4</th>\n",
              "      <td>32</td>\n",
              "      <td>1</td>\n",
              "      <td>28.880</td>\n",
              "      <td>0</td>\n",
              "      <td>0</td>\n",
              "      <td>3</td>\n",
              "      <td>3866.85520</td>\n",
              "    </tr>\n",
              "  </tbody>\n",
              "</table>\n",
              "</div>\n",
              "      <button class=\"colab-df-convert\" onclick=\"convertToInteractive('df-0c75ed9d-3186-404a-8d46-28668c5165b8')\"\n",
              "              title=\"Convert this dataframe to an interactive table.\"\n",
              "              style=\"display:none;\">\n",
              "        \n",
              "  <svg xmlns=\"http://www.w3.org/2000/svg\" height=\"24px\"viewBox=\"0 0 24 24\"\n",
              "       width=\"24px\">\n",
              "    <path d=\"M0 0h24v24H0V0z\" fill=\"none\"/>\n",
              "    <path d=\"M18.56 5.44l.94 2.06.94-2.06 2.06-.94-2.06-.94-.94-2.06-.94 2.06-2.06.94zm-11 1L8.5 8.5l.94-2.06 2.06-.94-2.06-.94L8.5 2.5l-.94 2.06-2.06.94zm10 10l.94 2.06.94-2.06 2.06-.94-2.06-.94-.94-2.06-.94 2.06-2.06.94z\"/><path d=\"M17.41 7.96l-1.37-1.37c-.4-.4-.92-.59-1.43-.59-.52 0-1.04.2-1.43.59L10.3 9.45l-7.72 7.72c-.78.78-.78 2.05 0 2.83L4 21.41c.39.39.9.59 1.41.59.51 0 1.02-.2 1.41-.59l7.78-7.78 2.81-2.81c.8-.78.8-2.07 0-2.86zM5.41 20L4 18.59l7.72-7.72 1.47 1.35L5.41 20z\"/>\n",
              "  </svg>\n",
              "      </button>\n",
              "      \n",
              "  <style>\n",
              "    .colab-df-container {\n",
              "      display:flex;\n",
              "      flex-wrap:wrap;\n",
              "      gap: 12px;\n",
              "    }\n",
              "\n",
              "    .colab-df-convert {\n",
              "      background-color: #E8F0FE;\n",
              "      border: none;\n",
              "      border-radius: 50%;\n",
              "      cursor: pointer;\n",
              "      display: none;\n",
              "      fill: #1967D2;\n",
              "      height: 32px;\n",
              "      padding: 0 0 0 0;\n",
              "      width: 32px;\n",
              "    }\n",
              "\n",
              "    .colab-df-convert:hover {\n",
              "      background-color: #E2EBFA;\n",
              "      box-shadow: 0px 1px 2px rgba(60, 64, 67, 0.3), 0px 1px 3px 1px rgba(60, 64, 67, 0.15);\n",
              "      fill: #174EA6;\n",
              "    }\n",
              "\n",
              "    [theme=dark] .colab-df-convert {\n",
              "      background-color: #3B4455;\n",
              "      fill: #D2E3FC;\n",
              "    }\n",
              "\n",
              "    [theme=dark] .colab-df-convert:hover {\n",
              "      background-color: #434B5C;\n",
              "      box-shadow: 0px 1px 3px 1px rgba(0, 0, 0, 0.15);\n",
              "      filter: drop-shadow(0px 1px 2px rgba(0, 0, 0, 0.3));\n",
              "      fill: #FFFFFF;\n",
              "    }\n",
              "  </style>\n",
              "\n",
              "      <script>\n",
              "        const buttonEl =\n",
              "          document.querySelector('#df-0c75ed9d-3186-404a-8d46-28668c5165b8 button.colab-df-convert');\n",
              "        buttonEl.style.display =\n",
              "          google.colab.kernel.accessAllowed ? 'block' : 'none';\n",
              "\n",
              "        async function convertToInteractive(key) {\n",
              "          const element = document.querySelector('#df-0c75ed9d-3186-404a-8d46-28668c5165b8');\n",
              "          const dataTable =\n",
              "            await google.colab.kernel.invokeFunction('convertToInteractive',\n",
              "                                                     [key], {});\n",
              "          if (!dataTable) return;\n",
              "\n",
              "          const docLinkHtml = 'Like what you see? Visit the ' +\n",
              "            '<a target=\"_blank\" href=https://colab.research.google.com/notebooks/data_table.ipynb>data table notebook</a>'\n",
              "            + ' to learn more about interactive tables.';\n",
              "          element.innerHTML = '';\n",
              "          dataTable['output_type'] = 'display_data';\n",
              "          await google.colab.output.renderOutput(dataTable, element);\n",
              "          const docLink = document.createElement('div');\n",
              "          docLink.innerHTML = docLinkHtml;\n",
              "          element.appendChild(docLink);\n",
              "        }\n",
              "      </script>\n",
              "    </div>\n",
              "  </div>\n",
              "  "
            ]
          },
          "metadata": {},
          "execution_count": 21
        }
      ]
    },
    {
      "cell_type": "markdown",
      "source": [
        "**4) EDA (Exploratory Data Analysis)**"
      ],
      "metadata": {
        "id": "uXeEzFVEspYC"
      }
    },
    {
      "cell_type": "markdown",
      "source": [
        "Age"
      ],
      "metadata": {
        "id": "VTy4GUVit2Vi"
      }
    },
    {
      "cell_type": "code",
      "source": [
        "insurance_data.plot(x=\"age\",y=\"charges\",style=\"o\")\n",
        "plt.title(\"age VS charges\")\n",
        "plt.xlabel(\"age\")\n",
        "plt.ylabel(\"charges\")\n",
        "plt.show()"
      ],
      "metadata": {
        "colab": {
          "base_uri": "https://localhost:8080/",
          "height": 295
        },
        "id": "s8Dnn_IPskZX",
        "outputId": "e6fabd96-5a28-47ee-e3cf-9001cd0d6591"
      },
      "execution_count": 22,
      "outputs": [
        {
          "output_type": "display_data",
          "data": {
            "text/plain": [
              "<Figure size 432x288 with 1 Axes>"
            ],
            "image/png": "[encoded data removed]"
          },
          "metadata": {
            "needs_background": "light"
          }
        }
      ]
    },
    {
      "cell_type": "markdown",
      "source": [
        "Sex"
      ],
      "metadata": {
        "id": "agLmTuTOt3tp"
      }
    },
    {
      "cell_type": "code",
      "source": [
        "insurance_data.plot(x=\"sex\",y=\"charges\",style=\"o\")\n",
        "plt.title(\"age VS charges\")\n",
        "plt.xlabel(\"age\")\n",
        "plt.ylabel(\"charges\")\n",
        "plt.show()"
      ],
      "metadata": {
        "colab": {
          "base_uri": "https://localhost:8080/",
          "height": 295
        },
        "id": "K8Zt7Tyqs55T",
        "outputId": "c556cc74-63b5-4e08-beea-ee01c0569a03"
      },
      "execution_count": 23,
      "outputs": [
        {
          "output_type": "display_data",
          "data": {
            "text/plain": [
              "<Figure size 432x288 with 1 Axes>"
            ],
            "image/png": "[encoded data removed]"
          },
          "metadata": {
            "needs_background": "light"
          }
        }
      ]
    },
    {
      "cell_type": "markdown",
      "source": [
        "Bmi"
      ],
      "metadata": {
        "id": "D0ZcwI1Ht5_C"
      }
    },
    {
      "cell_type": "code",
      "source": [
        "insurance_data.plot(x=\"bmi\",y=\"charges\",style=\"o\")\n",
        "plt.title(\"age VS charges\")\n",
        "plt.xlabel(\"age\")\n",
        "plt.ylabel(\"charges\")\n",
        "plt.show()"
      ],
      "metadata": {
        "colab": {
          "base_uri": "https://localhost:8080/",
          "height": 295
        },
        "id": "UcKMs2BTtH0x",
        "outputId": "17d732c7-fc35-41ae-d80a-b24cb1033807"
      },
      "execution_count": 24,
      "outputs": [
        {
          "output_type": "display_data",
          "data": {
            "text/plain": [
              "<Figure size 432x288 with 1 Axes>"
            ],
            "image/png": "[encoded data removed]"
          },
          "metadata": {
            "needs_background": "light"
          }
        }
      ]
    },
    {
      "cell_type": "markdown",
      "source": [
        "Smoker"
      ],
      "metadata": {
        "id": "gswj2Auqt9CY"
      }
    },
    {
      "cell_type": "code",
      "source": [
        "insurance_data.plot(x=\"smoker\",y=\"charges\",style=\"o\")\n",
        "plt.title(\"age VS charges\")\n",
        "plt.xlabel(\"age\")\n",
        "plt.ylabel(\"charges\")\n",
        "plt.show()"
      ],
      "metadata": {
        "colab": {
          "base_uri": "https://localhost:8080/",
          "height": 295
        },
        "id": "EgU2laIctWM6",
        "outputId": "4bb585bd-6590-441b-f9f9-e3c23de4f494"
      },
      "execution_count": 25,
      "outputs": [
        {
          "output_type": "display_data",
          "data": {
            "text/plain": [
              "<Figure size 432x288 with 1 Axes>"
            ],
            "image/png": "[encoded data removed]"
          },
          "metadata": {
            "needs_background": "light"
          }
        }
      ]
    },
    {
      "cell_type": "markdown",
      "source": [
        "**5) Train and Test Split**"
      ],
      "metadata": {
        "id": "JdmsirFeuEBY"
      }
    },
    {
      "cell_type": "code",
      "source": [
        "X = insurance_data.drop(columns=\"charges\",axis=1)\n",
        "y = insurance_data[\"charges\"]"
      ],
      "metadata": {
        "id": "QQTL0RfrtlJE"
      },
      "execution_count": 26,
      "outputs": []
    },
    {
      "cell_type": "code",
      "source": [
        "from sklearn.model_selection import train_test_split\n",
        "X_train,X_test,y_train,y_test = train_test_split(X,y,test_size=0.25,random_state=7)"
      ],
      "metadata": {
        "id": "G-4a-8d6uXep"
      },
      "execution_count": 27,
      "outputs": []
    },
    {
      "cell_type": "markdown",
      "source": [
        "**6) Standard Scaler**"
      ],
      "metadata": {
        "id": "Ba1UodviuewJ"
      }
    },
    {
      "cell_type": "code",
      "source": [
        "from sklearn.preprocessing import StandardScaler\n",
        "scaler = StandardScaler()\n",
        "scaler.fit_transform(X_train)\n",
        "scaler.transform(X_test)"
      ],
      "metadata": {
        "colab": {
          "base_uri": "https://localhost:8080/"
        },
        "id": "J_0x87fvuahj",
        "outputId": "284e7fc8-c7aa-495a-e6b9-5b69be541c20"
      },
      "execution_count": 28,
      "outputs": [
        {
          "output_type": "execute_result",
          "data": {
            "text/plain": [
              "array([[ 1.17200124, -1.01609761,  1.48194257, -0.91141505, -0.51027185,\n",
              "        -0.47327211],\n",
              "       [ 0.67813421,  0.98415741, -0.15409692, -0.07816881, -0.51027185,\n",
              "         1.35416008],\n",
              "       [-1.5089912 ,  0.98415741, -2.42555516, -0.91141505, -0.51027185,\n",
              "         1.35416008],\n",
              "       ...,\n",
              "       [ 1.24255367,  0.98415741,  1.55727572, -0.91141505, -0.51027185,\n",
              "         1.35416008],\n",
              "       [-1.36788634, -1.01609761, -1.46915169, -0.91141505,  1.9597397 ,\n",
              "        -1.3869882 ],\n",
              "       [ 1.17200124,  0.98415741, -0.79197218, -0.91141505, -0.51027185,\n",
              "         1.35416008]])"
            ]
          },
          "metadata": {},
          "execution_count": 28
        }
      ]
    },
    {
      "cell_type": "markdown",
      "source": [
        "**7) Modelling**"
      ],
      "metadata": {
        "id": "tQk_rH3Fui-R"
      }
    },
    {
      "cell_type": "markdown",
      "source": [
        "1) Linear Regression"
      ],
      "metadata": {
        "id": "C9sQx6XgscYA"
      }
    },
    {
      "cell_type": "code",
      "source": [
        "from sklearn.linear_model import LinearRegression\n",
        "lin_reg = LinearRegression()\n",
        "lin_reg.fit(X_train,y_train)"
      ],
      "metadata": {
        "colab": {
          "base_uri": "https://localhost:8080/"
        },
        "id": "aKL499YSuulv",
        "outputId": "f5d2557f-3850-4fcd-d98b-1f9dbfd41d59"
      },
      "execution_count": 29,
      "outputs": [
        {
          "output_type": "execute_result",
          "data": {
            "text/plain": [
              "LinearRegression()"
            ]
          },
          "metadata": {},
          "execution_count": 29
        }
      ]
    },
    {
      "cell_type": "markdown",
      "source": [
        "2) Support Vector Machine"
      ],
      "metadata": {
        "id": "12wNXtqssf5m"
      }
    },
    {
      "cell_type": "code",
      "source": [
        "from sklearn.svm import SVR\n",
        "svm = SVR()\n",
        "svm.fit(X_train,y_train)"
      ],
      "metadata": {
        "colab": {
          "base_uri": "https://localhost:8080/"
        },
        "id": "Sga2mMi0u2cO",
        "outputId": "744c410c-3cab-4b7a-e4d6-9734cbb9fd01"
      },
      "execution_count": 30,
      "outputs": [
        {
          "output_type": "execute_result",
          "data": {
            "text/plain": [
              "SVR()"
            ]
          },
          "metadata": {},
          "execution_count": 30
        }
      ]
    },
    {
      "cell_type": "markdown",
      "source": [
        "3) Random Forest Regressor"
      ],
      "metadata": {
        "id": "sExzvz4Cs8eO"
      }
    },
    {
      "cell_type": "code",
      "source": [
        "from sklearn.ensemble import RandomForestRegressor\n",
        "ran_fore = RandomForestRegressor()\n",
        "ran_fore.fit(X_train,y_train)"
      ],
      "metadata": {
        "colab": {
          "base_uri": "https://localhost:8080/"
        },
        "id": "6lnwydV4vA4y",
        "outputId": "fb0425c8-0487-4558-ec4f-c4ad08b3e41a"
      },
      "execution_count": 31,
      "outputs": [
        {
          "output_type": "execute_result",
          "data": {
            "text/plain": [
              "RandomForestRegressor()"
            ]
          },
          "metadata": {},
          "execution_count": 31
        }
      ]
    },
    {
      "cell_type": "markdown",
      "source": [
        "4) Gradient Boosting Regressor "
      ],
      "metadata": {
        "id": "QquchfPKtBc8"
      }
    },
    {
      "cell_type": "code",
      "source": [
        "from sklearn.ensemble import GradientBoostingRegressor\n",
        "gra_boost = GradientBoostingRegressor()\n",
        "gra_boost.fit(X_train,y_train)"
      ],
      "metadata": {
        "colab": {
          "base_uri": "https://localhost:8080/"
        },
        "id": "XNDOU3dVvK0f",
        "outputId": "a8e017d0-0dee-42a1-9c49-bdc6462feb98"
      },
      "execution_count": 32,
      "outputs": [
        {
          "output_type": "execute_result",
          "data": {
            "text/plain": [
              "GradientBoostingRegressor()"
            ]
          },
          "metadata": {},
          "execution_count": 32
        }
      ]
    },
    {
      "cell_type": "markdown",
      "source": [
        "**8) Making Prediction**"
      ],
      "metadata": {
        "id": "5QeCYC3RtWo9"
      }
    },
    {
      "cell_type": "markdown",
      "source": [
        "1) Linear Regression"
      ],
      "metadata": {
        "id": "1VPzxYW4tjWR"
      }
    },
    {
      "cell_type": "code",
      "source": [
        "lin_reg.predict([[19,1,33.770,1,0,3]])"
      ],
      "metadata": {
        "colab": {
          "base_uri": "https://localhost:8080/"
        },
        "id": "F2fWD0hLsT3A",
        "outputId": "3c31e772-58e2-46a7-dfdd-4a0c36578c9b"
      },
      "execution_count": 33,
      "outputs": [
        {
          "output_type": "execute_result",
          "data": {
            "text/plain": [
              "array([4105.42487706])"
            ]
          },
          "metadata": {},
          "execution_count": 33
        }
      ]
    },
    {
      "cell_type": "markdown",
      "source": [
        "2) Support Vector Machine"
      ],
      "metadata": {
        "id": "3epYbrcqt5WG"
      }
    },
    {
      "cell_type": "code",
      "source": [
        "svm.predict([[19,1,33.770,1,0,3]])"
      ],
      "metadata": {
        "colab": {
          "base_uri": "https://localhost:8080/"
        },
        "id": "2Lox75bBt0bj",
        "outputId": "44f4226c-ace4-40b1-8243-afdafe6dc993"
      },
      "execution_count": 34,
      "outputs": [
        {
          "output_type": "execute_result",
          "data": {
            "text/plain": [
              "array([9376.54929673])"
            ]
          },
          "metadata": {},
          "execution_count": 34
        }
      ]
    },
    {
      "cell_type": "markdown",
      "source": [
        "3) Random Forest Regressor"
      ],
      "metadata": {
        "id": "_UDc5F5uuAdZ"
      }
    },
    {
      "cell_type": "code",
      "source": [
        "ran_fore.predict([[19,1,33.770,1,0,3]])"
      ],
      "metadata": {
        "colab": {
          "base_uri": "https://localhost:8080/"
        },
        "id": "OvAuSdYBt-64",
        "outputId": "c2f5ad82-a09f-42df-b9fa-6ddd494bc018"
      },
      "execution_count": 35,
      "outputs": [
        {
          "output_type": "execute_result",
          "data": {
            "text/plain": [
              "array([2467.468363])"
            ]
          },
          "metadata": {},
          "execution_count": 35
        }
      ]
    },
    {
      "cell_type": "markdown",
      "source": [
        "4) Gradient Boosting Regressor"
      ],
      "metadata": {
        "id": "zWQoRkgIuJlh"
      }
    },
    {
      "cell_type": "code",
      "source": [
        "gra_boost.predict([[19,1,33.770,1,0,3]])"
      ],
      "metadata": {
        "colab": {
          "base_uri": "https://localhost:8080/"
        },
        "id": "LO3NFPRwuHcH",
        "outputId": "666e16ae-6bf6-40cb-a321-a3dd6ba5a229"
      },
      "execution_count": 36,
      "outputs": [
        {
          "output_type": "execute_result",
          "data": {
            "text/plain": [
              "array([3261.24223059])"
            ]
          },
          "metadata": {},
          "execution_count": 36
        }
      ]
    },
    {
      "cell_type": "markdown",
      "source": [
        "**9) Compare Actual and Predicted Scores**"
      ],
      "metadata": {
        "id": "KDq2d3wVuVes"
      }
    },
    {
      "cell_type": "markdown",
      "source": [
        "1) Linear Regression"
      ],
      "metadata": {
        "id": "2MzD0KhBumBA"
      }
    },
    {
      "cell_type": "code",
      "source": [
        "y_pred_1 = lin_reg.predict(X_test)\n",
        "y_pred_1"
      ],
      "metadata": {
        "colab": {
          "base_uri": "https://localhost:8080/"
        },
        "id": "Y2RSiSO1uP5f",
        "outputId": "d7f41165-f823-4c2c-cc31-e0ac8e61e3fe"
      },
      "execution_count": 37,
      "outputs": [
        {
          "output_type": "execute_result",
          "data": {
            "text/plain": [
              "array([ 1.49426621e+04,  1.08926217e+04, -2.29432353e+03,  5.89317482e+03,\n",
              "        8.79675150e+03,  2.47825760e+03,  2.68576938e+04,  1.07167201e+04,\n",
              "        3.85021565e+03,  1.40639200e+04,  3.71320901e+03,  5.31289486e+03,\n",
              "        1.63156322e+03,  6.49850620e+03,  9.57710544e+03, -5.50797473e+00,\n",
              "        3.25291128e+04,  1.71564518e+04,  1.25345762e+04,  9.34850064e+03,\n",
              "        2.83224051e+04,  2.98619824e+04,  3.05273060e+04,  5.45422106e+03,\n",
              "        6.51003338e+03,  1.11271435e+04,  7.62021882e+03,  9.76467834e+03,\n",
              "        8.30708097e+03,  1.15892377e+03,  7.33943868e+03,  3.27764539e+04,\n",
              "        2.83424778e+03,  3.21353006e+04,  1.12213552e+04,  3.17506170e+03,\n",
              "        3.38065301e+04,  8.24368800e+03,  3.47308169e+04,  1.21624857e+04,\n",
              "        5.26445857e+03,  6.51272136e+03,  7.91892247e+03,  1.09074707e+04,\n",
              "        5.45692023e+03,  6.21003110e+03,  5.83688681e+03,  3.58507821e+04,\n",
              "        3.83850427e+03,  1.67469099e+04,  6.05330228e+03,  9.98579023e+03,\n",
              "        4.33374954e+03,  1.44169744e+04,  2.88804840e+04,  1.62370600e+04,\n",
              "        8.40250703e+03,  7.70627969e+02, -1.80295133e+03,  2.96537696e+03,\n",
              "        6.83547099e+03,  1.85367989e+03,  3.83295848e+04,  1.20390998e+04,\n",
              "        1.68163958e+04,  5.29289631e+03,  1.43578777e+04,  4.01146384e+04,\n",
              "        6.95830844e+03,  4.87758691e+03,  6.84389027e+03,  3.38619066e+03,\n",
              "        5.85918590e+03,  3.82029358e+04,  1.16060362e+04,  2.63938197e+03,\n",
              "        6.46709201e+03,  1.31041875e+04,  1.03405319e+04,  1.60730991e+03,\n",
              "        2.06995328e+03,  1.08745175e+04,  2.67254913e+04,  1.01016089e+04,\n",
              "        2.85794268e+03,  6.24717810e+03,  2.66981790e+04,  8.12465751e+03,\n",
              "        1.11670410e+04,  3.56807401e+04,  6.44852894e+03,  1.94035464e+03,\n",
              "        4.94714905e+03,  9.48792277e+03,  3.96087996e+03,  1.54019680e+04,\n",
              "        9.99306885e+03,  5.72141592e+03,  6.63662515e+03,  4.24378845e+03,\n",
              "        3.74077225e+04,  1.21783492e+04,  2.88585196e+04,  9.07753619e+03,\n",
              "        8.05808507e+03,  1.11370243e+04,  5.96365537e+03,  3.69113848e+04,\n",
              "        4.02470344e+04,  1.34632693e+04,  1.45077812e+04,  4.07245126e+03,\n",
              "        3.70898708e+03,  3.80506102e+03,  1.53632887e+03,  3.18825292e+04,\n",
              "        4.15621011e+03,  1.13230672e+04,  8.46210298e+03,  7.39086458e+03,\n",
              "        3.35452503e+04,  1.65740395e+04,  2.44236916e+03,  1.83804517e+04,\n",
              "        2.48824901e+03,  1.28506895e+04,  8.46573573e+03,  2.72850686e+04,\n",
              "        1.16209482e+04,  4.02859362e+04,  3.51707047e+04,  7.55861903e+03,\n",
              "        6.82431170e+03,  8.93276138e+03,  3.49916931e+04,  3.65648619e+04,\n",
              "        3.43182198e+04,  1.19951158e+04,  8.10441698e+03,  1.01510695e+04,\n",
              "        1.32388178e+04,  1.01737490e+04,  1.70842254e+04,  7.67718730e+03,\n",
              "        2.99819481e+03,  3.88142962e+03,  9.46552052e+03,  3.08566568e+04,\n",
              "        9.59510903e+03,  1.31678748e+04,  9.96871034e+03,  9.92387413e+03,\n",
              "        3.63488286e+03,  1.81347233e+03,  5.39913118e+03,  5.83312991e+03,\n",
              "        9.88542093e+03,  8.80701439e+03,  3.07359500e+03,  3.45511293e+04,\n",
              "        1.66202393e+04,  9.57439311e+03,  7.47315907e+03,  6.91702476e+02,\n",
              "        6.52075834e+03,  1.37659605e+04,  3.40124688e+03,  1.58120146e+04,\n",
              "        1.06798316e+04,  3.20591271e+04,  1.11537352e+04,  3.89426906e+04,\n",
              "        8.81765994e+03,  2.36624576e+03,  1.04103156e+04,  9.01573375e+03,\n",
              "        9.50534584e+03,  1.23778951e+04,  1.58545791e+04,  2.51240275e+03,\n",
              "        3.98009422e+03,  6.01004944e+03,  4.96760917e+03,  1.01784181e+04,\n",
              "        7.80425637e+03,  1.44714543e+04, -4.99025289e+01,  3.10360302e+04,\n",
              "        4.52568106e+03,  8.12265224e+03, -4.50181848e+02,  1.03287621e+04,\n",
              "        1.40970442e+04,  4.81923837e+03,  2.81141816e+03,  3.45858335e+04,\n",
              "        3.87969820e+04,  8.34533899e+03,  2.29094092e+03,  1.11213206e+04,\n",
              "        1.87522214e+03,  1.27555749e+04,  6.79495711e+03,  9.99452262e+03,\n",
              "        1.27605504e+04,  9.60190827e+03,  7.78030256e+03,  5.46503562e+03,\n",
              "        2.96409405e+04,  9.93199556e+03,  5.60714301e+03,  2.85439933e+04,\n",
              "        4.20333507e+03,  1.51886975e+04,  8.12672076e+03,  2.67821377e+04,\n",
              "        3.05406184e+04,  7.63557344e+03,  6.96567439e+03,  3.22571399e+04,\n",
              "        6.59890182e+03,  1.16568661e+04,  6.68665297e+00,  3.17442683e+04,\n",
              "        3.42773083e+02,  1.19197452e+04,  9.58825733e+03,  4.75869659e+03,\n",
              "        8.33769824e+03,  2.95663608e+03,  2.79757239e+03,  7.23667621e+03,\n",
              "        3.69798095e+04,  3.05534831e+04,  1.55708417e+03,  1.58658631e+04,\n",
              "        4.73846720e+03,  1.27805220e+04, -4.31798136e+02,  1.56286806e+04,\n",
              "        1.04003291e+04,  1.57142615e+03,  1.40500191e+04,  2.70562665e+04,\n",
              "        3.77291110e+04,  2.53343343e+04,  3.52112640e+04,  8.64427597e+02,\n",
              "        8.91209801e+03,  1.16152281e+04,  1.36565179e+04,  1.26905436e+04,\n",
              "        3.48297325e+04, -2.67209431e+02,  5.73782598e+03,  1.17760156e+04,\n",
              "        1.08694231e+04,  3.59541051e+03,  2.67372927e+04,  4.17031411e+03,\n",
              "        8.94246008e+03,  9.06735272e+03,  3.40253220e+04,  1.11838910e+04,\n",
              "        1.40234114e+04,  7.40534916e+03,  8.50103414e+03,  2.81210254e+04,\n",
              "        3.91092793e+04, -1.39878029e+03,  1.20090205e+04,  7.99921910e+03,\n",
              "        1.19065472e+03,  4.10736918e+03,  1.34464504e+04,  4.57069088e+03,\n",
              "        8.80912301e+03,  3.77134371e+03,  3.06625264e+03,  9.43342647e+03,\n",
              "        6.82890716e+03,  1.19658944e+04,  2.39374518e+03,  7.43137317e+03,\n",
              "        5.52568811e+03,  1.43849902e+04,  1.34258214e+04,  1.12530993e+04,\n",
              "       -2.32453967e+03,  1.51737786e+04,  2.98428122e+04,  4.04154664e+03,\n",
              "        1.14235298e+04,  8.38247329e+03,  9.92654487e+03,  5.29442942e+03,\n",
              "        1.56407431e+04,  5.03507917e+03,  1.51404328e+04,  9.97256668e+03,\n",
              "        2.96189309e+04,  1.15646918e+04,  6.30869062e+02,  7.55958169e+03,\n",
              "        1.40900267e+04,  1.10150318e+04,  2.85990608e+04,  3.00927977e+04,\n",
              "        3.45574775e+04,  2.47008016e+04,  9.14371210e+01,  3.31681457e+04,\n",
              "        5.08343054e+03,  3.11759527e+04,  7.09038237e+03,  8.29675486e+03,\n",
              "        8.07230070e+03,  3.11226860e+04,  5.25748784e+03,  9.15928977e+03,\n",
              "        6.76196565e+03,  7.31103210e+03,  3.00249714e+04,  2.59545661e+04,\n",
              "        3.37536454e+04,  3.32453776e+03,  3.35750890e+04,  1.66860536e+03,\n",
              "        1.12913363e+04,  1.48158989e+04,  4.34552208e+03,  1.39744132e+04,\n",
              "        1.59080985e+04,  2.31871667e+04,  1.08582812e+04])"
            ]
          },
          "metadata": {},
          "execution_count": 37
        }
      ]
    },
    {
      "cell_type": "code",
      "source": [
        "df = pd.DataFrame({\"Actual\": y_test,\"Prediction\" :y_pred_1})\n",
        "df"
      ],
      "metadata": {
        "colab": {
          "base_uri": "https://localhost:8080/",
          "height": 424
        },
        "id": "4JR73LavvjKC",
        "outputId": "6af3206c-913a-4c08-f364-a7f53bfdf87c"
      },
      "execution_count": 38,
      "outputs": [
        {
          "output_type": "execute_result",
          "data": {
            "text/plain": [
              "           Actual    Prediction\n",
              "13    11090.71780  14942.662131\n",
              "1052   9288.02670  10892.621682\n",
              "172    1694.79640  -2294.323529\n",
              "395    7526.70645   5893.174824\n",
              "934    4673.39220   8796.751499\n",
              "...           ...           ...\n",
              "1297   4340.44090   4345.522081\n",
              "278   12928.79110  13974.413192\n",
              "1132  20709.02034  15908.098473\n",
              "1231  20167.33603  23187.166722\n",
              "463   11165.41765  10858.281155\n",
              "\n",
              "[335 rows x 2 columns]"
            ],
            "text/html": [
              "\n",
              "  <div id=\"df-8cdaa127-4856-44e7-915a-18bd3075ae51\">\n",
              "    <div class=\"colab-df-container\">\n",
              "      <div>\n",
              "<style scoped>\n",
              "    .dataframe tbody tr th:only-of-type {\n",
              "        vertical-align: middle;\n",
              "    }\n",
              "\n",
              "    .dataframe tbody tr th {\n",
              "        vertical-align: top;\n",
              "    }\n",
              "\n",
              "    .dataframe thead th {\n",
              "        text-align: right;\n",
              "    }\n",
              "</style>\n",
              "<table border=\"1\" class=\"dataframe\">\n",
              "  <thead>\n",
              "    <tr style=\"text-align: right;\">\n",
              "      <th></th>\n",
              "      <th>Actual</th>\n",
              "      <th>Prediction</th>\n",
              "    </tr>\n",
              "  </thead>\n",
              "  <tbody>\n",
              "    <tr>\n",
              "      <th>13</th>\n",
              "      <td>11090.71780</td>\n",
              "      <td>14942.662131</td>\n",
              "    </tr>\n",
              "    <tr>\n",
              "      <th>1052</th>\n",
              "      <td>9288.02670</td>\n",
              "      <td>10892.621682</td>\n",
              "    </tr>\n",
              "    <tr>\n",
              "      <th>172</th>\n",
              "      <td>1694.79640</td>\n",
              "      <td>-2294.323529</td>\n",
              "    </tr>\n",
              "    <tr>\n",
              "      <th>395</th>\n",
              "      <td>7526.70645</td>\n",
              "      <td>5893.174824</td>\n",
              "    </tr>\n",
              "    <tr>\n",
              "      <th>934</th>\n",
              "      <td>4673.39220</td>\n",
              "      <td>8796.751499</td>\n",
              "    </tr>\n",
              "    <tr>\n",
              "      <th>...</th>\n",
              "      <td>...</td>\n",
              "      <td>...</td>\n",
              "    </tr>\n",
              "    <tr>\n",
              "      <th>1297</th>\n",
              "      <td>4340.44090</td>\n",
              "      <td>4345.522081</td>\n",
              "    </tr>\n",
              "    <tr>\n",
              "      <th>278</th>\n",
              "      <td>12928.79110</td>\n",
              "      <td>13974.413192</td>\n",
              "    </tr>\n",
              "    <tr>\n",
              "      <th>1132</th>\n",
              "      <td>20709.02034</td>\n",
              "      <td>15908.098473</td>\n",
              "    </tr>\n",
              "    <tr>\n",
              "      <th>1231</th>\n",
              "      <td>20167.33603</td>\n",
              "      <td>23187.166722</td>\n",
              "    </tr>\n",
              "    <tr>\n",
              "      <th>463</th>\n",
              "      <td>11165.41765</td>\n",
              "      <td>10858.281155</td>\n",
              "    </tr>\n",
              "  </tbody>\n",
              "</table>\n",
              "<p>335 rows × 2 columns</p>\n",
              "</div>\n",
              "      <button class=\"colab-df-convert\" onclick=\"convertToInteractive('df-8cdaa127-4856-44e7-915a-18bd3075ae51')\"\n",
              "              title=\"Convert this dataframe to an interactive table.\"\n",
              "              style=\"display:none;\">\n",
              "        \n",
              "  <svg xmlns=\"http://www.w3.org/2000/svg\" height=\"24px\"viewBox=\"0 0 24 24\"\n",
              "       width=\"24px\">\n",
              "    <path d=\"M0 0h24v24H0V0z\" fill=\"none\"/>\n",
              "    <path d=\"M18.56 5.44l.94 2.06.94-2.06 2.06-.94-2.06-.94-.94-2.06-.94 2.06-2.06.94zm-11 1L8.5 8.5l.94-2.06 2.06-.94-2.06-.94L8.5 2.5l-.94 2.06-2.06.94zm10 10l.94 2.06.94-2.06 2.06-.94-2.06-.94-.94-2.06-.94 2.06-2.06.94z\"/><path d=\"M17.41 7.96l-1.37-1.37c-.4-.4-.92-.59-1.43-.59-.52 0-1.04.2-1.43.59L10.3 9.45l-7.72 7.72c-.78.78-.78 2.05 0 2.83L4 21.41c.39.39.9.59 1.41.59.51 0 1.02-.2 1.41-.59l7.78-7.78 2.81-2.81c.8-.78.8-2.07 0-2.86zM5.41 20L4 18.59l7.72-7.72 1.47 1.35L5.41 20z\"/>\n",
              "  </svg>\n",
              "      </button>\n",
              "      \n",
              "  <style>\n",
              "    .colab-df-container {\n",
              "      display:flex;\n",
              "      flex-wrap:wrap;\n",
              "      gap: 12px;\n",
              "    }\n",
              "\n",
              "    .colab-df-convert {\n",
              "      background-color: #E8F0FE;\n",
              "      border: none;\n",
              "      border-radius: 50%;\n",
              "      cursor: pointer;\n",
              "      display: none;\n",
              "      fill: #1967D2;\n",
              "      height: 32px;\n",
              "      padding: 0 0 0 0;\n",
              "      width: 32px;\n",
              "    }\n",
              "\n",
              "    .colab-df-convert:hover {\n",
              "      background-color: #E2EBFA;\n",
              "      box-shadow: 0px 1px 2px rgba(60, 64, 67, 0.3), 0px 1px 3px 1px rgba(60, 64, 67, 0.15);\n",
              "      fill: #174EA6;\n",
              "    }\n",
              "\n",
              "    [theme=dark] .colab-df-convert {\n",
              "      background-color: #3B4455;\n",
              "      fill: #D2E3FC;\n",
              "    }\n",
              "\n",
              "    [theme=dark] .colab-df-convert:hover {\n",
              "      background-color: #434B5C;\n",
              "      box-shadow: 0px 1px 3px 1px rgba(0, 0, 0, 0.15);\n",
              "      filter: drop-shadow(0px 1px 2px rgba(0, 0, 0, 0.3));\n",
              "      fill: #FFFFFF;\n",
              "    }\n",
              "  </style>\n",
              "\n",
              "      <script>\n",
              "        const buttonEl =\n",
              "          document.querySelector('#df-8cdaa127-4856-44e7-915a-18bd3075ae51 button.colab-df-convert');\n",
              "        buttonEl.style.display =\n",
              "          google.colab.kernel.accessAllowed ? 'block' : 'none';\n",
              "\n",
              "        async function convertToInteractive(key) {\n",
              "          const element = document.querySelector('#df-8cdaa127-4856-44e7-915a-18bd3075ae51');\n",
              "          const dataTable =\n",
              "            await google.colab.kernel.invokeFunction('convertToInteractive',\n",
              "                                                     [key], {});\n",
              "          if (!dataTable) return;\n",
              "\n",
              "          const docLinkHtml = 'Like what you see? Visit the ' +\n",
              "            '<a target=\"_blank\" href=https://colab.research.google.com/notebooks/data_table.ipynb>data table notebook</a>'\n",
              "            + ' to learn more about interactive tables.';\n",
              "          element.innerHTML = '';\n",
              "          dataTable['output_type'] = 'display_data';\n",
              "          await google.colab.output.renderOutput(dataTable, element);\n",
              "          const docLink = document.createElement('div');\n",
              "          docLink.innerHTML = docLinkHtml;\n",
              "          element.appendChild(docLink);\n",
              "        }\n",
              "      </script>\n",
              "    </div>\n",
              "  </div>\n",
              "  "
            ]
          },
          "metadata": {},
          "execution_count": 38
        }
      ]
    },
    {
      "cell_type": "code",
      "source": [
        "plt.scatter(y_test,y_pred_1)\n",
        "plt.xlabel(\"Actual Prices\")\n",
        "plt.ylabel(\"Prediction Prices\")\n",
        "plt.title(\"Actual Prices VS Prediction Prices\")\n",
        "plt.show()"
      ],
      "metadata": {
        "colab": {
          "base_uri": "https://localhost:8080/",
          "height": 295
        },
        "id": "L3HNJKCpvjag",
        "outputId": "e969dcc9-dafc-4bd6-b022-a867650c4ed5"
      },
      "execution_count": 39,
      "outputs": [
        {
          "output_type": "display_data",
          "data": {
            "text/plain": [
              "<Figure size 432x288 with 1 Axes>"
            ],
            "image/png": "[encoded data removed]"
          },
          "metadata": {
            "needs_background": "light"
          }
        }
      ]
    },
    {
      "cell_type": "markdown",
      "source": [
        "2) Support Vector Machine"
      ],
      "metadata": {
        "id": "zx1eGiQUus4v"
      }
    },
    {
      "cell_type": "code",
      "source": [
        "y_pred_2 = svm.predict(X_test)\n",
        "y_pred_2"
      ],
      "metadata": {
        "colab": {
          "base_uri": "https://localhost:8080/"
        },
        "id": "NZuLEA-Gukva",
        "outputId": "e8d0b127-0c83-4a08-f067-121b54122767"
      },
      "execution_count": 40,
      "outputs": [
        {
          "output_type": "execute_result",
          "data": {
            "text/plain": [
              "array([9567.08156924, 9528.63306868, 9382.91251329, 9505.93264445,\n",
              "       9427.83118103, 9379.72898585, 9458.33740139, 9551.62709866,\n",
              "       9409.06807846, 9577.5922884 , 9392.7042976 , 9440.5261733 ,\n",
              "       9386.74925323, 9447.3904879 , 9466.65452509, 9401.30972233,\n",
              "       9515.66496871, 9593.16317461, 9563.38551739, 9522.37327358,\n",
              "       9377.56006981, 9488.10325575, 9408.22808022, 9446.27722314,\n",
              "       9401.63811445, 9583.50114878, 9458.65556987, 9572.56361967,\n",
              "       9501.39735006, 9376.02009075, 9458.53759143, 9560.7204303 ,\n",
              "       9380.33674018, 9448.34085149, 9562.76010216, 9375.05051901,\n",
              "       9472.70189576, 9406.05673753, 9411.25719711, 9523.40151151,\n",
              "       9381.27554213, 9483.40201731, 9496.3320581 , 9544.73206371,\n",
              "       9414.55756258, 9401.34924451, 9397.29993888, 9493.2583382 ,\n",
              "       9400.63429606, 9593.08806572, 9418.96424755, 9515.07229844,\n",
              "       9429.92605114, 9581.87297444, 9419.24559407, 9589.81557308,\n",
              "       9464.41572801, 9395.09860575, 9379.79604514, 9409.21741641,\n",
              "       9452.88183437, 9386.44691555, 9524.03308485, 9562.50170341,\n",
              "       9544.51345551, 9463.96341358, 9577.78508256, 9583.54543994,\n",
              "       9436.257663  , 9382.72081493, 9408.55232565, 9375.29084337,\n",
              "       9458.49915144, 9500.50891804, 9552.16742421, 9376.28911311,\n",
              "       9446.91493932, 9558.26382995, 9485.36541618, 9380.0071083 ,\n",
              "       9431.20591219, 9562.56320329, 9426.91162291, 9550.55286003,\n",
              "       9411.30653753, 9446.85438459, 9396.42800512, 9496.45592563,\n",
              "       9479.035472  , 9517.80734354, 9441.18993758, 9385.56370879,\n",
              "       9380.76474906, 9508.43688387, 9404.64606897, 9585.97140535,\n",
              "       9568.46810987, 9424.32618999, 9389.96859022, 9382.03677491,\n",
              "       9558.35819325, 9593.82703879, 9400.94949137, 9527.47411571,\n",
              "       9471.42268454, 9572.00701443, 9402.56868748, 9589.51219684,\n",
              "       9589.82235428, 9568.3442909 , 9597.0534265 , 9382.92231494,\n",
              "       9382.84693465, 9446.81261012, 9384.00803832, 9489.60678555,\n",
              "       9373.64500014, 9510.93452804, 9490.66771603, 9459.33936824,\n",
              "       9467.32570981, 9598.85039834, 9401.17968454, 9597.90532543,\n",
              "       9380.18067936, 9528.79004469, 9501.57479505, 9392.8891649 ,\n",
              "       9546.66490466, 9570.43224576, 9499.47969882, 9513.88979456,\n",
              "       9410.0655214 , 9503.56482679, 9510.27147641, 9453.39026896,\n",
              "       9516.24451338, 9529.84303157, 9453.19004651, 9516.828995  ,\n",
              "       9582.0744339 , 9428.06249519, 9596.94796056, 9477.38327745,\n",
              "       9385.51394552, 9392.51542796, 9528.11358282, 9435.62190715,\n",
              "       9473.68354466, 9535.28005103, 9434.49718761, 9521.54989973,\n",
              "       9373.8012763 , 9389.65563552, 9400.77271233, 9440.56670628,\n",
              "       9497.84927288, 9565.2855281 , 9377.08280842, 9523.47240281,\n",
              "       9597.44517424, 9478.50901889, 9464.48467045, 9390.09889117,\n",
              "       9379.21561426, 9563.3950635 , 9392.67248871, 9562.90865717,\n",
              "       9546.62873876, 9471.37547599, 9517.18385995, 9597.04782013,\n",
              "       9431.05011099, 9377.24080396, 9423.52727143, 9454.40083344,\n",
              "       9504.38035456, 9541.49052395, 9529.37194433, 9389.40636222,\n",
              "       9414.07885158, 9506.9339512 , 9396.37536837, 9528.64634152,\n",
              "       9482.98683954, 9593.78022072, 9377.30341154, 9440.97209964,\n",
              "       9435.05123333, 9437.77458521, 9377.89282976, 9582.85158191,\n",
              "       9593.7840814 , 9377.46332229, 9380.06030596, 9577.83112093,\n",
              "       9600.33000657, 9508.76275894, 9386.99183825, 9574.60166042,\n",
              "       9377.37013862, 9529.52298958, 9407.41726903, 9472.99275661,\n",
              "       9541.60666942, 9490.03447961, 9509.04803366, 9405.88916993,\n",
              "       9464.4249593 , 9478.73777719, 9400.71465931, 9379.35956469,\n",
              "       9396.34976445, 9592.67607954, 9478.22756928, 9410.31126913,\n",
              "       9464.76098039, 9495.23713054, 9395.24381011, 9465.565417  ,\n",
              "       9511.74248964, 9583.62046966, 9374.81403404, 9448.75999144,\n",
              "       9376.05606056, 9436.68795384, 9479.24952119, 9383.68870596,\n",
              "       9538.45742013, 9389.08311662, 9419.81806048, 9436.88783378,\n",
              "       9541.61060465, 9396.38836773, 9382.64680017, 9523.68742055,\n",
              "       9405.84513471, 9585.22379722, 9390.50407804, 9589.81666192,\n",
              "       9498.39000992, 9375.49070137, 9586.0662545 , 9376.42713336,\n",
              "       9541.74146742, 9402.1470245 , 9462.71302382, 9380.22142896,\n",
              "       9543.93954327, 9562.33714863, 9541.1244374 , 9557.48025825,\n",
              "       9543.68327555, 9379.83173932, 9470.42053877, 9448.64304565,\n",
              "       9582.53470837, 9374.43705049, 9403.47587357, 9377.55502845,\n",
              "       9423.66535011, 9471.30755247, 9497.82279497, 9557.77630246,\n",
              "       9562.81769021, 9436.65442327, 9422.32707092, 9414.57053956,\n",
              "       9600.24892813, 9386.74476751, 9505.1943628 , 9477.51158295,\n",
              "       9375.972901  , 9387.59889687, 9563.34317456, 9378.44832589,\n",
              "       9465.29798569, 9405.13334918, 9388.86958476, 9431.51475413,\n",
              "       9458.62387124, 9541.42934609, 9397.14854987, 9477.55563349,\n",
              "       9458.0692223 , 9571.80940683, 9563.01684504, 9580.40039604,\n",
              "       9382.08468499, 9529.29209722, 9440.90985222, 9377.85120866,\n",
              "       9521.66463677, 9490.72251018, 9439.24868854, 9404.716915  ,\n",
              "       9565.91989822, 9409.66380106, 9573.26455849, 9522.81453443,\n",
              "       9394.02061417, 9511.00641217, 9376.81175704, 9483.31627612,\n",
              "       9546.86581078, 9492.305032  , 9392.99298564, 9386.90193056,\n",
              "       9554.92668061, 9374.23890388, 9381.97904587, 9454.732119  ,\n",
              "       9435.24991544, 9483.59649107, 9410.62152734, 9466.04517271,\n",
              "       9458.67267935, 9424.62041488, 9383.31847809, 9442.7535806 ,\n",
              "       9441.3427922 , 9483.24684589, 9483.04564653, 9375.38116516,\n",
              "       9521.0081569 , 9378.54136624, 9528.98238141, 9402.13709202,\n",
              "       9510.91199407, 9590.1819478 , 9404.6032756 , 9582.1095061 ,\n",
              "       9571.43205796, 9380.26392635, 9565.76416126])"
            ]
          },
          "metadata": {},
          "execution_count": 40
        }
      ]
    },
    {
      "cell_type": "code",
      "source": [
        "df = pd.DataFrame({\"Actual\": y_test,\"Prediction\" :y_pred_2})\n",
        "df"
      ],
      "metadata": {
        "colab": {
          "base_uri": "https://localhost:8080/",
          "height": 424
        },
        "id": "4fdgKamAwg9N",
        "outputId": "0b790420-356f-4fc4-8565-ab44b12f53de"
      },
      "execution_count": 41,
      "outputs": [
        {
          "output_type": "execute_result",
          "data": {
            "text/plain": [
              "           Actual   Prediction\n",
              "13    11090.71780  9567.081569\n",
              "1052   9288.02670  9528.633069\n",
              "172    1694.79640  9382.912513\n",
              "395    7526.70645  9505.932644\n",
              "934    4673.39220  9427.831181\n",
              "...           ...          ...\n",
              "1297   4340.44090  9404.603276\n",
              "278   12928.79110  9582.109506\n",
              "1132  20709.02034  9571.432058\n",
              "1231  20167.33603  9380.263926\n",
              "463   11165.41765  9565.764161\n",
              "\n",
              "[335 rows x 2 columns]"
            ],
            "text/html": [
              "\n",
              "  <div id=\"df-25de55b0-b5b6-4594-85e8-6c720ca18e01\">\n",
              "    <div class=\"colab-df-container\">\n",
              "      <div>\n",
              "<style scoped>\n",
              "    .dataframe tbody tr th:only-of-type {\n",
              "        vertical-align: middle;\n",
              "    }\n",
              "\n",
              "    .dataframe tbody tr th {\n",
              "        vertical-align: top;\n",
              "    }\n",
              "\n",
              "    .dataframe thead th {\n",
              "        text-align: right;\n",
              "    }\n",
              "</style>\n",
              "<table border=\"1\" class=\"dataframe\">\n",
              "  <thead>\n",
              "    <tr style=\"text-align: right;\">\n",
              "      <th></th>\n",
              "      <th>Actual</th>\n",
              "      <th>Prediction</th>\n",
              "    </tr>\n",
              "  </thead>\n",
              "  <tbody>\n",
              "    <tr>\n",
              "      <th>13</th>\n",
              "      <td>11090.71780</td>\n",
              "      <td>9567.081569</td>\n",
              "    </tr>\n",
              "    <tr>\n",
              "      <th>1052</th>\n",
              "      <td>9288.02670</td>\n",
              "      <td>9528.633069</td>\n",
              "    </tr>\n",
              "    <tr>\n",
              "      <th>172</th>\n",
              "      <td>1694.79640</td>\n",
              "      <td>9382.912513</td>\n",
              "    </tr>\n",
              "    <tr>\n",
              "      <th>395</th>\n",
              "      <td>7526.70645</td>\n",
              "      <td>9505.932644</td>\n",
              "    </tr>\n",
              "    <tr>\n",
              "      <th>934</th>\n",
              "      <td>4673.39220</td>\n",
              "      <td>9427.831181</td>\n",
              "    </tr>\n",
              "    <tr>\n",
              "      <th>...</th>\n",
              "      <td>...</td>\n",
              "      <td>...</td>\n",
              "    </tr>\n",
              "    <tr>\n",
              "      <th>1297</th>\n",
              "      <td>4340.44090</td>\n",
              "      <td>9404.603276</td>\n",
              "    </tr>\n",
              "    <tr>\n",
              "      <th>278</th>\n",
              "      <td>12928.79110</td>\n",
              "      <td>9582.109506</td>\n",
              "    </tr>\n",
              "    <tr>\n",
              "      <th>1132</th>\n",
              "      <td>20709.02034</td>\n",
              "      <td>9571.432058</td>\n",
              "    </tr>\n",
              "    <tr>\n",
              "      <th>1231</th>\n",
              "      <td>20167.33603</td>\n",
              "      <td>9380.263926</td>\n",
              "    </tr>\n",
              "    <tr>\n",
              "      <th>463</th>\n",
              "      <td>11165.41765</td>\n",
              "      <td>9565.764161</td>\n",
              "    </tr>\n",
              "  </tbody>\n",
              "</table>\n",
              "<p>335 rows × 2 columns</p>\n",
              "</div>\n",
              "      <button class=\"colab-df-convert\" onclick=\"convertToInteractive('df-25de55b0-b5b6-4594-85e8-6c720ca18e01')\"\n",
              "              title=\"Convert this dataframe to an interactive table.\"\n",
              "              style=\"display:none;\">\n",
              "        \n",
              "  <svg xmlns=\"http://www.w3.org/2000/svg\" height=\"24px\"viewBox=\"0 0 24 24\"\n",
              "       width=\"24px\">\n",
              "    <path d=\"M0 0h24v24H0V0z\" fill=\"none\"/>\n",
              "    <path d=\"M18.56 5.44l.94 2.06.94-2.06 2.06-.94-2.06-.94-.94-2.06-.94 2.06-2.06.94zm-11 1L8.5 8.5l.94-2.06 2.06-.94-2.06-.94L8.5 2.5l-.94 2.06-2.06.94zm10 10l.94 2.06.94-2.06 2.06-.94-2.06-.94-.94-2.06-.94 2.06-2.06.94z\"/><path d=\"M17.41 7.96l-1.37-1.37c-.4-.4-.92-.59-1.43-.59-.52 0-1.04.2-1.43.59L10.3 9.45l-7.72 7.72c-.78.78-.78 2.05 0 2.83L4 21.41c.39.39.9.59 1.41.59.51 0 1.02-.2 1.41-.59l7.78-7.78 2.81-2.81c.8-.78.8-2.07 0-2.86zM5.41 20L4 18.59l7.72-7.72 1.47 1.35L5.41 20z\"/>\n",
              "  </svg>\n",
              "      </button>\n",
              "      \n",
              "  <style>\n",
              "    .colab-df-container {\n",
              "      display:flex;\n",
              "      flex-wrap:wrap;\n",
              "      gap: 12px;\n",
              "    }\n",
              "\n",
              "    .colab-df-convert {\n",
              "      background-color: #E8F0FE;\n",
              "      border: none;\n",
              "      border-radius: 50%;\n",
              "      cursor: pointer;\n",
              "      display: none;\n",
              "      fill: #1967D2;\n",
              "      height: 32px;\n",
              "      padding: 0 0 0 0;\n",
              "      width: 32px;\n",
              "    }\n",
              "\n",
              "    .colab-df-convert:hover {\n",
              "      background-color: #E2EBFA;\n",
              "      box-shadow: 0px 1px 2px rgba(60, 64, 67, 0.3), 0px 1px 3px 1px rgba(60, 64, 67, 0.15);\n",
              "      fill: #174EA6;\n",
              "    }\n",
              "\n",
              "    [theme=dark] .colab-df-convert {\n",
              "      background-color: #3B4455;\n",
              "      fill: #D2E3FC;\n",
              "    }\n",
              "\n",
              "    [theme=dark] .colab-df-convert:hover {\n",
              "      background-color: #434B5C;\n",
              "      box-shadow: 0px 1px 3px 1px rgba(0, 0, 0, 0.15);\n",
              "      filter: drop-shadow(0px 1px 2px rgba(0, 0, 0, 0.3));\n",
              "      fill: #FFFFFF;\n",
              "    }\n",
              "  </style>\n",
              "\n",
              "      <script>\n",
              "        const buttonEl =\n",
              "          document.querySelector('#df-25de55b0-b5b6-4594-85e8-6c720ca18e01 button.colab-df-convert');\n",
              "        buttonEl.style.display =\n",
              "          google.colab.kernel.accessAllowed ? 'block' : 'none';\n",
              "\n",
              "        async function convertToInteractive(key) {\n",
              "          const element = document.querySelector('#df-25de55b0-b5b6-4594-85e8-6c720ca18e01');\n",
              "          const dataTable =\n",
              "            await google.colab.kernel.invokeFunction('convertToInteractive',\n",
              "                                                     [key], {});\n",
              "          if (!dataTable) return;\n",
              "\n",
              "          const docLinkHtml = 'Like what you see? Visit the ' +\n",
              "            '<a target=\"_blank\" href=https://colab.research.google.com/notebooks/data_table.ipynb>data table notebook</a>'\n",
              "            + ' to learn more about interactive tables.';\n",
              "          element.innerHTML = '';\n",
              "          dataTable['output_type'] = 'display_data';\n",
              "          await google.colab.output.renderOutput(dataTable, element);\n",
              "          const docLink = document.createElement('div');\n",
              "          docLink.innerHTML = docLinkHtml;\n",
              "          element.appendChild(docLink);\n",
              "        }\n",
              "      </script>\n",
              "    </div>\n",
              "  </div>\n",
              "  "
            ]
          },
          "metadata": {},
          "execution_count": 41
        }
      ]
    },
    {
      "cell_type": "code",
      "source": [
        "plt.scatter(y_test,y_pred_2)\n",
        "plt.xlabel(\"Actual Prices\")\n",
        "plt.ylabel(\"Prediction Prices\")\n",
        "plt.title(\"Actual Prices VS Prediction Prices\")\n",
        "plt.show()"
      ],
      "metadata": {
        "colab": {
          "base_uri": "https://localhost:8080/",
          "height": 295
        },
        "id": "M6GXd-73whAw",
        "outputId": "344c7200-0539-4555-ea79-25f35099197a"
      },
      "execution_count": 42,
      "outputs": [
        {
          "output_type": "display_data",
          "data": {
            "text/plain": [
              "<Figure size 432x288 with 1 Axes>"
            ],
            "image/png": "[encoded data removed]"
          },
          "metadata": {
            "needs_background": "light"
          }
        }
      ]
    },
    {
      "cell_type": "markdown",
      "source": [
        "3) Random Forest Regressor"
      ],
      "metadata": {
        "id": "xeuELYoXu3jH"
      }
    },
    {
      "cell_type": "code",
      "source": [
        "y_pred_3 = ran_fore.predict(X_test)\n",
        "y_pred_3"
      ],
      "metadata": {
        "colab": {
          "base_uri": "https://localhost:8080/"
        },
        "id": "LL9X0A0kuyZL",
        "outputId": "815bf4e0-b02e-4d4c-c9d5-c30482cb93fc"
      },
      "execution_count": 43,
      "outputs": [
        {
          "output_type": "execute_result",
          "data": {
            "text/plain": [
              "array([11463.3886479 , 11682.5425913 ,  1750.809162  ,  8922.1974527 ,\n",
              "        5297.0286041 ,  1906.4161375 , 17115.8283269 , 11523.6389083 ,\n",
              "        3521.4399681 , 12028.2083164 ,  6104.6135138 ,  5462.329641  ,\n",
              "        4235.5992996 ,  6098.0869469 ,  6559.3657455 ,  2711.2729375 ,\n",
              "       27558.913351  , 14632.3429045 , 13576.171156  , 14942.1293044 ,\n",
              "       36091.5063827 , 20800.3967377 , 38185.5207915 ,  5218.872692  ,\n",
              "        5484.7406579 , 13351.8560458 ,  7322.8634581 , 13245.4628508 ,\n",
              "        9023.899118  ,  2874.0124378 ,  6281.447585  , 26891.5148877 ,\n",
              "        6085.2770942 , 39100.990462  , 15164.253851  ,  1170.703026  ,\n",
              "       39779.5800995 ,  4256.7526047 , 41360.662234  , 10482.9865595 ,\n",
              "        5250.4310214 ,  6972.018493  ,  8069.0943371 , 12845.2790785 ,\n",
              "        4673.0437247 ,  6797.9554443 ,  6865.8071106 , 43849.6514124 ,\n",
              "        2768.0004665 , 16426.07595   ,  5749.8948168 ,  9859.1916379 ,\n",
              "       10956.7929769 , 19193.7804523 , 18821.2694955 , 16806.3674685 ,\n",
              "        8932.9586711 ,  5584.6764401 ,  1250.1138965 ,  3526.7027581 ,\n",
              "       13013.0156966 ,  4215.8024806 , 44543.0101935 , 15197.9366124 ,\n",
              "       13986.252342  ,  6614.473914  , 12350.6441411 , 48638.4525898 ,\n",
              "        5113.121877  ,  2314.953648  ,  5783.5390439 , 15370.6387548 ,\n",
              "        6133.320941  , 44775.1457805 , 13895.287381  ,  1269.9681125 ,\n",
              "        5636.018398  , 11781.3774096 ,  7328.7748106 ,  2508.692372  ,\n",
              "       11002.0318329 , 16747.636956  , 16978.6109785 , 12095.7464191 ,\n",
              "        5761.3884823 ,  7774.5727419 , 17302.56441   , 12233.5997446 ,\n",
              "        8553.6771827 , 42106.156279  ,  5352.7747655 ,  5316.3553965 ,\n",
              "        5151.0215032 ,  9968.5470773 ,  4260.4880074 , 13858.4325447 ,\n",
              "       12805.69011   ,  5127.8907309 ,  4627.1679116 ,  2405.8763615 ,\n",
              "       46107.0015393 , 18670.2533555 , 35325.5370244 ,  9210.6774548 ,\n",
              "        6519.016869  , 11587.4178611 ,  4423.8799187 , 28565.6813039 ,\n",
              "       47163.3967294 , 12285.7911252 , 14160.9710779 ,  3150.0633888 ,\n",
              "        2785.16458382,  6000.0350864 ,  4848.580329  , 22040.4974831 ,\n",
              "       12407.0449102 ,  9699.4508309 ,  8054.7305873 ,  5955.3496555 ,\n",
              "       40005.0148623 , 14347.567792  ,  7066.5206456 , 15893.8118728 ,\n",
              "        1631.348131  , 10996.5392176 ,  9516.9020139 , 34925.5525481 ,\n",
              "       11193.3768762 , 47503.4249358 , 44249.2537344 ,  8701.6967345 ,\n",
              "        5788.0049694 ,  8272.8079682 , 45409.0011447 , 44880.8042818 ,\n",
              "       26755.9185598 ,  8954.6637463 ,  6315.611195  ,  8405.7521164 ,\n",
              "       13305.3348865 ,  6115.7443877 , 14232.951903  ,  6915.153195  ,\n",
              "        3661.459653  ,  4062.0314559 ,  9238.1269382 , 40880.1564621 ,\n",
              "        7108.8897792 , 11334.3256828 ,  7667.0423311 , 11118.1807684 ,\n",
              "       10740.93626377,  9504.4995735 ,  7242.0568288 ,  5236.6511793 ,\n",
              "        7922.9925376 , 15119.3145714 ,  1284.699998  , 41955.2618737 ,\n",
              "       14274.078706  ,  7135.0879631 ,  6970.7468834 ,  6339.1401056 ,\n",
              "       11050.93205733, 13230.3628046 ,  8311.1936184 , 17474.1795993 ,\n",
              "       10319.3571296 , 22219.4289921 ,  9623.1539885 , 48653.8915993 ,\n",
              "        5482.8526796 ,  2373.67528307,  4940.7085216 ,  9276.1304868 ,\n",
              "       10186.8046765 , 11750.4870499 , 11837.2246269 ,  8999.152847  ,\n",
              "        4049.8729066 ,  9697.1017473 ,  5158.0260535 ,  9792.0243972 ,\n",
              "        7410.1168789 , 13600.8558765 ,  2191.2999645 , 20189.6742831 ,\n",
              "        6569.4337232 ,  7342.0501613 ,  1626.824645  , 14254.3138912 ,\n",
              "       13951.3085602 ,  7425.78918775,  1622.773393  , 27017.2474139 ,\n",
              "       48642.3443757 ,  8395.481575  ,  9274.3766069 , 12514.1567085 ,\n",
              "        1904.12101269, 11157.9914317 ,  7247.8003578 ,  6881.0508754 ,\n",
              "       10017.0035576 , 12648.5377425 , 12664.1176405 ,  3883.7460032 ,\n",
              "       17264.61105   ,  7604.0193748 ,  6667.0174046 , 36897.0720263 ,\n",
              "        3312.10922369, 14769.790833  ,  6092.7193565 , 18652.9050682 ,\n",
              "       20766.2183607 ,  8065.530695  ,  2634.7292189 , 22425.1777405 ,\n",
              "        9667.1110539 , 13036.7444556 ,  2027.7004256 , 38063.1970623 ,\n",
              "        1909.3408495 ,  5205.1266918 ,  6739.4660125 ,  1629.6047995 ,\n",
              "        9830.855873  ,  7894.4284997 ,  3954.8935975 ,  5850.6164363 ,\n",
              "       46712.480558  , 38791.92919   ,  2539.6423327 , 13804.8103603 ,\n",
              "        6838.7659993 , 12706.914092  ,  3408.846743  , 14424.7027692 ,\n",
              "        7608.2171352 ,  2852.1654073 , 13701.0690648 , 35634.7597875 ,\n",
              "       48330.7675081 , 14966.619322  , 42086.2288652 ,  2086.7683005 ,\n",
              "       10405.513094  , 12448.2192721 ,  9397.237773  , 14972.8374001 ,\n",
              "       25321.6616796 ,  2400.9021257 ,  6786.0397471 ,  8288.5826755 ,\n",
              "       14376.28404   ,  3125.648468  , 15493.924297  ,  3013.771218  ,\n",
              "        8044.2087862 ,  7727.6707311 , 40040.6965115 , 15254.9547806 ,\n",
              "       16129.0388428 ,  5287.0549461 ,  5267.4975492 , 19267.8782149 ,\n",
              "       49271.0156534 ,  2644.0981414 ,  8524.2219089 ,  7051.7591275 ,\n",
              "        2873.9199598 ,  3214.883213  , 12835.5672012 ,  6001.11717523,\n",
              "       10609.5578505 ,  4961.4254465 ,  3688.9706442 ,  6850.5163756 ,\n",
              "        6014.4263415 ,  9791.7324635 ,  5118.0765363 ,  6753.624261  ,\n",
              "        7438.4527117 , 13136.6486486 , 17490.9746834 , 13100.4551533 ,\n",
              "        1761.312023  , 10371.3679678 , 19539.3927455 ,  6374.297534  ,\n",
              "       11614.5904638 ,  7459.686154  ,  8942.3254933 ,  4698.9023262 ,\n",
              "       16328.119772  ,  8118.5341331 , 15627.0504953 ,  9753.4147228 ,\n",
              "       36034.0865865 , 10288.631319  ,  8809.9159837 ,  6945.4071795 ,\n",
              "       13794.1323781 ,  7923.4303102 , 18984.7381205 , 37877.6259382 ,\n",
              "       23992.4575453 , 19316.4719094 ,  2442.5591344 , 39157.0090715 ,\n",
              "        7055.7382845 , 25549.7788004 ,  5321.2909618 ,  6129.798295  ,\n",
              "        6739.904121  , 19867.440169  ,  1908.4365838 ,  5840.664753  ,\n",
              "        5225.5710015 ,  7034.0369545 , 22848.5811306 , 33886.4214105 ,\n",
              "       24304.2247727 ,  1424.2434755 , 41329.6926064 ,  3403.9545785 ,\n",
              "        9699.4508309 , 13138.0034165 ,  6994.1775714 , 14313.1000403 ,\n",
              "       11390.0094375 , 14782.8249739 , 11692.8174237 ])"
            ]
          },
          "metadata": {},
          "execution_count": 43
        }
      ]
    },
    {
      "cell_type": "code",
      "source": [
        "df = pd.DataFrame({\"Actual\": y_test,\"Prediction\" :y_pred_3})\n",
        "df"
      ],
      "metadata": {
        "colab": {
          "base_uri": "https://localhost:8080/",
          "height": 424
        },
        "id": "2KCgZ1Ykw1jP",
        "outputId": "c22d72ea-f955-44d8-9bdf-6703535a10a2"
      },
      "execution_count": 44,
      "outputs": [
        {
          "output_type": "execute_result",
          "data": {
            "text/plain": [
              "           Actual    Prediction\n",
              "13    11090.71780  11463.388648\n",
              "1052   9288.02670  11682.542591\n",
              "172    1694.79640   1750.809162\n",
              "395    7526.70645   8922.197453\n",
              "934    4673.39220   5297.028604\n",
              "...           ...           ...\n",
              "1297   4340.44090   6994.177571\n",
              "278   12928.79110  14313.100040\n",
              "1132  20709.02034  11390.009438\n",
              "1231  20167.33603  14782.824974\n",
              "463   11165.41765  11692.817424\n",
              "\n",
              "[335 rows x 2 columns]"
            ],
            "text/html": [
              "\n",
              "  <div id=\"df-c5abd5a7-9e40-40e4-89df-1dd9373b7534\">\n",
              "    <div class=\"colab-df-container\">\n",
              "      <div>\n",
              "<style scoped>\n",
              "    .dataframe tbody tr th:only-of-type {\n",
              "        vertical-align: middle;\n",
              "    }\n",
              "\n",
              "    .dataframe tbody tr th {\n",
              "        vertical-align: top;\n",
              "    }\n",
              "\n",
              "    .dataframe thead th {\n",
              "        text-align: right;\n",
              "    }\n",
              "</style>\n",
              "<table border=\"1\" class=\"dataframe\">\n",
              "  <thead>\n",
              "    <tr style=\"text-align: right;\">\n",
              "      <th></th>\n",
              "      <th>Actual</th>\n",
              "      <th>Prediction</th>\n",
              "    </tr>\n",
              "  </thead>\n",
              "  <tbody>\n",
              "    <tr>\n",
              "      <th>13</th>\n",
              "      <td>11090.71780</td>\n",
              "      <td>11463.388648</td>\n",
              "    </tr>\n",
              "    <tr>\n",
              "      <th>1052</th>\n",
              "      <td>9288.02670</td>\n",
              "      <td>11682.542591</td>\n",
              "    </tr>\n",
              "    <tr>\n",
              "      <th>172</th>\n",
              "      <td>1694.79640</td>\n",
              "      <td>1750.809162</td>\n",
              "    </tr>\n",
              "    <tr>\n",
              "      <th>395</th>\n",
              "      <td>7526.70645</td>\n",
              "      <td>8922.197453</td>\n",
              "    </tr>\n",
              "    <tr>\n",
              "      <th>934</th>\n",
              "      <td>4673.39220</td>\n",
              "      <td>5297.028604</td>\n",
              "    </tr>\n",
              "    <tr>\n",
              "      <th>...</th>\n",
              "      <td>...</td>\n",
              "      <td>...</td>\n",
              "    </tr>\n",
              "    <tr>\n",
              "      <th>1297</th>\n",
              "      <td>4340.44090</td>\n",
              "      <td>6994.177571</td>\n",
              "    </tr>\n",
              "    <tr>\n",
              "      <th>278</th>\n",
              "      <td>12928.79110</td>\n",
              "      <td>14313.100040</td>\n",
              "    </tr>\n",
              "    <tr>\n",
              "      <th>1132</th>\n",
              "      <td>20709.02034</td>\n",
              "      <td>11390.009438</td>\n",
              "    </tr>\n",
              "    <tr>\n",
              "      <th>1231</th>\n",
              "      <td>20167.33603</td>\n",
              "      <td>14782.824974</td>\n",
              "    </tr>\n",
              "    <tr>\n",
              "      <th>463</th>\n",
              "      <td>11165.41765</td>\n",
              "      <td>11692.817424</td>\n",
              "    </tr>\n",
              "  </tbody>\n",
              "</table>\n",
              "<p>335 rows × 2 columns</p>\n",
              "</div>\n",
              "      <button class=\"colab-df-convert\" onclick=\"convertToInteractive('df-c5abd5a7-9e40-40e4-89df-1dd9373b7534')\"\n",
              "              title=\"Convert this dataframe to an interactive table.\"\n",
              "              style=\"display:none;\">\n",
              "        \n",
              "  <svg xmlns=\"http://www.w3.org/2000/svg\" height=\"24px\"viewBox=\"0 0 24 24\"\n",
              "       width=\"24px\">\n",
              "    <path d=\"M0 0h24v24H0V0z\" fill=\"none\"/>\n",
              "    <path d=\"M18.56 5.44l.94 2.06.94-2.06 2.06-.94-2.06-.94-.94-2.06-.94 2.06-2.06.94zm-11 1L8.5 8.5l.94-2.06 2.06-.94-2.06-.94L8.5 2.5l-.94 2.06-2.06.94zm10 10l.94 2.06.94-2.06 2.06-.94-2.06-.94-.94-2.06-.94 2.06-2.06.94z\"/><path d=\"M17.41 7.96l-1.37-1.37c-.4-.4-.92-.59-1.43-.59-.52 0-1.04.2-1.43.59L10.3 9.45l-7.72 7.72c-.78.78-.78 2.05 0 2.83L4 21.41c.39.39.9.59 1.41.59.51 0 1.02-.2 1.41-.59l7.78-7.78 2.81-2.81c.8-.78.8-2.07 0-2.86zM5.41 20L4 18.59l7.72-7.72 1.47 1.35L5.41 20z\"/>\n",
              "  </svg>\n",
              "      </button>\n",
              "      \n",
              "  <style>\n",
              "    .colab-df-container {\n",
              "      display:flex;\n",
              "      flex-wrap:wrap;\n",
              "      gap: 12px;\n",
              "    }\n",
              "\n",
              "    .colab-df-convert {\n",
              "      background-color: #E8F0FE;\n",
              "      border: none;\n",
              "      border-radius: 50%;\n",
              "      cursor: pointer;\n",
              "      display: none;\n",
              "      fill: #1967D2;\n",
              "      height: 32px;\n",
              "      padding: 0 0 0 0;\n",
              "      width: 32px;\n",
              "    }\n",
              "\n",
              "    .colab-df-convert:hover {\n",
              "      background-color: #E2EBFA;\n",
              "      box-shadow: 0px 1px 2px rgba(60, 64, 67, 0.3), 0px 1px 3px 1px rgba(60, 64, 67, 0.15);\n",
              "      fill: #174EA6;\n",
              "    }\n",
              "\n",
              "    [theme=dark] .colab-df-convert {\n",
              "      background-color: #3B4455;\n",
              "      fill: #D2E3FC;\n",
              "    }\n",
              "\n",
              "    [theme=dark] .colab-df-convert:hover {\n",
              "      background-color: #434B5C;\n",
              "      box-shadow: 0px 1px 3px 1px rgba(0, 0, 0, 0.15);\n",
              "      filter: drop-shadow(0px 1px 2px rgba(0, 0, 0, 0.3));\n",
              "      fill: #FFFFFF;\n",
              "    }\n",
              "  </style>\n",
              "\n",
              "      <script>\n",
              "        const buttonEl =\n",
              "          document.querySelector('#df-c5abd5a7-9e40-40e4-89df-1dd9373b7534 button.colab-df-convert');\n",
              "        buttonEl.style.display =\n",
              "          google.colab.kernel.accessAllowed ? 'block' : 'none';\n",
              "\n",
              "        async function convertToInteractive(key) {\n",
              "          const element = document.querySelector('#df-c5abd5a7-9e40-40e4-89df-1dd9373b7534');\n",
              "          const dataTable =\n",
              "            await google.colab.kernel.invokeFunction('convertToInteractive',\n",
              "                                                     [key], {});\n",
              "          if (!dataTable) return;\n",
              "\n",
              "          const docLinkHtml = 'Like what you see? Visit the ' +\n",
              "            '<a target=\"_blank\" href=https://colab.research.google.com/notebooks/data_table.ipynb>data table notebook</a>'\n",
              "            + ' to learn more about interactive tables.';\n",
              "          element.innerHTML = '';\n",
              "          dataTable['output_type'] = 'display_data';\n",
              "          await google.colab.output.renderOutput(dataTable, element);\n",
              "          const docLink = document.createElement('div');\n",
              "          docLink.innerHTML = docLinkHtml;\n",
              "          element.appendChild(docLink);\n",
              "        }\n",
              "      </script>\n",
              "    </div>\n",
              "  </div>\n",
              "  "
            ]
          },
          "metadata": {},
          "execution_count": 44
        }
      ]
    },
    {
      "cell_type": "code",
      "source": [
        "plt.scatter(y_test,y_pred_3)\n",
        "plt.xlabel(\"Actual Prices\")\n",
        "plt.ylabel(\"Prediction Prices\")\n",
        "plt.title(\"Actual Prices VS Prediction Prices\")\n",
        "plt.show()"
      ],
      "metadata": {
        "colab": {
          "base_uri": "https://localhost:8080/",
          "height": 295
        },
        "id": "C1FprwQZw1le",
        "outputId": "ff69c328-356c-4c1f-b804-816876b45c7f"
      },
      "execution_count": 45,
      "outputs": [
        {
          "output_type": "display_data",
          "data": {
            "text/plain": [
              "<Figure size 432x288 with 1 Axes>"
            ],
            "image/png": "[encoded data removed]"
          },
          "metadata": {
            "needs_background": "light"
          }
        }
      ]
    },
    {
      "cell_type": "markdown",
      "source": [
        "4) Gradient Boosting Regressor"
      ],
      "metadata": {
        "id": "cd3VC2dIvTJ6"
      }
    },
    {
      "cell_type": "code",
      "source": [
        "y_pred_4 = gra_boost.predict(X_test)\n",
        "y_pred_4"
      ],
      "metadata": {
        "colab": {
          "base_uri": "https://localhost:8080/"
        },
        "id": "NEevx_uivQr7",
        "outputId": "adbc7254-a3f2-43ac-e7b8-71f5006f1372"
      },
      "execution_count": 46,
      "outputs": [
        {
          "output_type": "execute_result",
          "data": {
            "text/plain": [
              "array([11676.07404822, 11053.19225154,  1383.98124136,  7812.40987033,\n",
              "        6352.9026156 ,  1785.90942755, 16778.77603011, 11798.06786974,\n",
              "        4252.228808  , 12790.4226984 , 13484.39653355,  6183.93231676,\n",
              "        4978.07547757,  4909.82376796,  6989.42811094,  2710.05728783,\n",
              "       26353.7130453 , 13708.77783371, 12478.34204919, 12400.33626298,\n",
              "       36800.30851866, 20991.80719755, 37112.63733879,  5458.08728358,\n",
              "        6071.02316182, 13238.47891   ,  7247.0196432 , 12833.20911822,\n",
              "        9649.79602721,  4074.83758919,  7413.77333238, 22136.04379264,\n",
              "        5561.19132827, 38295.94734758, 13284.19427241,  2001.85124696,\n",
              "       39231.82728428,  5495.10281451, 44446.14273006, 10154.28279783,\n",
              "        5781.09203546,  6932.29204372,  9464.94943923, 12538.14220043,\n",
              "        4394.71318846,  6096.55648692,  5477.18106854, 46788.04354621,\n",
              "        3691.59951831, 16379.36602124,  7427.81999886,  9577.67225905,\n",
              "        6139.45576844, 16057.17601377, 18002.60145734, 15949.1899217 ,\n",
              "        8891.05526025,  3970.00537141,   825.5188464 ,  4082.37674132,\n",
              "        8393.2543039 ,  4978.07547757, 46260.64815937, 15037.24732211,\n",
              "       12623.16430665,  6247.12209453, 13338.53371802, 47522.35413051,\n",
              "        5081.39530619,  5349.31480787,  4540.1078903 ,  7945.55270545,\n",
              "        6191.83489956, 43819.22197576, 12646.10921869,  1279.14487925,\n",
              "        5871.92081074, 13044.22329001,  8224.28050814,  3231.27838308,\n",
              "        5058.41000972, 12774.26741157, 15484.41793068, 11802.28476032,\n",
              "        5691.25978933,  7965.56759399, 18834.20824139,  9354.87287877,\n",
              "        8745.02642345, 43991.58369926,  5972.68722512,  4399.528057  ,\n",
              "        5781.09203546,  9109.88827485,  5137.18113795, 14765.18702352,\n",
              "       12322.89292658,  7122.96176205,  5301.03512531,  2708.57498195,\n",
              "       44898.73922126, 14345.35247989, 34680.39964248, 10625.94806513,\n",
              "        7259.56292761, 12158.05024793,  4831.68321128, 29035.67567339,\n",
              "       48256.15790221, 13044.22329001, 13733.13799488,  3261.24223059,\n",
              "        4821.34491517,  5380.9212055 ,  4386.18215247, 24167.94768671,\n",
              "        8471.69109316,  9528.36937885,  8852.39008015,  5686.03259261,\n",
              "       40249.58401696, 14940.84654918,  5383.06120207, 16667.36630957,\n",
              "        1189.10021455, 10612.4146222 ,  9649.79602721, 34672.80602889,\n",
              "       12172.10969576, 47516.86531082, 46646.35338333,  8825.99888155,\n",
              "        6660.69073244,  9051.72238946, 42946.25466166, 44432.58732273,\n",
              "       28830.11751046, 10164.76919566,  7166.08184908,  8392.82914063,\n",
              "       13778.33633425,  8510.95154019, 13051.5952133 ,  7565.69455797,\n",
              "        5319.95832897,  5169.90187276,  9885.7716929 , 37882.86381487,\n",
              "        7402.68308521, 11561.06209678,  6554.00753378, 11123.51687527,\n",
              "        6699.51568888,  5159.23686114,  5755.47908076,  6178.61780967,\n",
              "        9245.69587911, 11790.95329696,  1490.01143427, 42165.99836585,\n",
              "       13066.55064094,  8199.03673616,  7101.71442515,  4007.68382287,\n",
              "        9453.46976311, 14424.38706871,  4636.37544218, 15378.71885946,\n",
              "       11449.05175651, 21442.65334717,  9484.82201012, 46380.66027117,\n",
              "        5965.52079643,  2661.55723575,  6090.5226873 ,  6593.21854091,\n",
              "        8620.7327903 , 10834.70865214, 14607.37682059,  6025.38072925,\n",
              "        5452.74653371,  7835.01100716,  6635.07582257, 10406.15765832,\n",
              "        8479.51687849, 13733.13799488,  1950.93711468, 21143.01202232,\n",
              "        5834.4280832 ,  5483.67542735,  2754.84105755, 13094.28213641,\n",
              "       14410.25847678,  4669.06114688,  1759.39004409, 27150.44979866,\n",
              "       46818.44023503,  8369.69019685,  7146.34136529, 12680.89895312,\n",
              "        4257.06270322, 11975.62807915,  6165.26327288,  7827.3954044 ,\n",
              "       11127.99113996, 10070.84782371,  8906.73395363,  4456.86134983,\n",
              "       17364.80690895,  7190.37954497,  6621.38498606, 37138.31329266,\n",
              "        5104.2581363 , 13876.82201519,  6748.55111721, 18631.60606015,\n",
              "       20432.68890994,  9345.32417272,  3960.00285716, 22246.33694692,\n",
              "        8073.67624854, 13456.19791948,  3061.46011122, 38639.54047051,\n",
              "        2735.58357588,  5306.78096176,  7141.75725766,  2406.18006253,\n",
              "       10543.20671351,  5231.28386194,  5149.90676032,  4781.67202826,\n",
              "       50246.7474212 , 38714.50042575,  2920.49379557, 15956.90700691,\n",
              "        6348.5091257 , 13264.68369677,  3233.33996189, 17312.68044957,\n",
              "        8874.05454736,  3779.78390472, 13932.04455587, 34533.45453969,\n",
              "       45682.19249382, 15132.65564873, 41717.54682222,  2299.04718866,\n",
              "       12103.25958464, 11889.33047769,  9520.85422257, 13208.59711968,\n",
              "       24398.29198444,  2276.88761458,  7219.8242707 ,  7104.88199583,\n",
              "       14033.72578156,  3561.70354249, 15188.27659503,  2808.04316053,\n",
              "        6982.51879854,  7873.67835811, 40734.67454637, 11854.75228852,\n",
              "       12671.53601859,  5348.09370903,  6667.32526146, 17923.98242867,\n",
              "       46621.77021765,  2713.6470347 ,  9737.08290102,  7504.47987332,\n",
              "        4074.83758919,  3079.95540216, 13310.92169285,  4871.41728204,\n",
              "       10734.17684719,  5986.63283983,  4632.97824069,  7258.81532214,\n",
              "        6278.27531734, 10348.20138964,  5415.5907472 ,  7059.3937165 ,\n",
              "        6139.51917592, 15627.24078033, 12854.4053929 , 13848.74830648,\n",
              "        1662.26285054, 10694.07607806, 20567.3738555 ,  5421.79168287,\n",
              "       11952.28706147,  8851.59144472,  7075.37508148,  5900.53877163,\n",
              "       15362.31179731,  7362.72565608, 14504.31836903,  9989.0868124 ,\n",
              "       35624.35748344,  9795.06778169,  7330.76332078,  7071.30458068,\n",
              "       12700.7814243 , 18714.61241611, 22751.62728162, 37245.58680028,\n",
              "       24319.73745741, 17808.85169754,  2276.88761458, 39000.10155778,\n",
              "        7033.83751345, 24556.5300322 ,  6393.9923296 ,  6042.77566015,\n",
              "        8301.05036489, 20690.91677792,  1526.62862491,  6954.85097619,\n",
              "        5624.51246412,  7132.51926533, 23767.62954556, 33414.40239485,\n",
              "       24003.88043838,  1849.43470879, 41597.9362572 ,  3436.77874421,\n",
              "        9528.36937885, 13628.19506596,  5826.88743951, 15210.64107031,\n",
              "       12226.32013269, 16627.71075283, 11863.12569093])"
            ]
          },
          "metadata": {},
          "execution_count": 46
        }
      ]
    },
    {
      "cell_type": "code",
      "source": [
        "df = pd.DataFrame({\"Actual\": y_test,\"Prediction\" :y_pred_4})\n",
        "df"
      ],
      "metadata": {
        "colab": {
          "base_uri": "https://localhost:8080/",
          "height": 424
        },
        "id": "LkpvbCtmvaW6",
        "outputId": "534e3adf-4e23-4d42-b7ff-ba84c223fae0"
      },
      "execution_count": 47,
      "outputs": [
        {
          "output_type": "execute_result",
          "data": {
            "text/plain": [
              "           Actual    Prediction\n",
              "13    11090.71780  11676.074048\n",
              "1052   9288.02670  11053.192252\n",
              "172    1694.79640   1383.981241\n",
              "395    7526.70645   7812.409870\n",
              "934    4673.39220   6352.902616\n",
              "...           ...           ...\n",
              "1297   4340.44090   5826.887440\n",
              "278   12928.79110  15210.641070\n",
              "1132  20709.02034  12226.320133\n",
              "1231  20167.33603  16627.710753\n",
              "463   11165.41765  11863.125691\n",
              "\n",
              "[335 rows x 2 columns]"
            ],
            "text/html": [
              "\n",
              "  <div id=\"df-163fcce9-d5a9-442a-b471-e4c784f31b00\">\n",
              "    <div class=\"colab-df-container\">\n",
              "      <div>\n",
              "<style scoped>\n",
              "    .dataframe tbody tr th:only-of-type {\n",
              "        vertical-align: middle;\n",
              "    }\n",
              "\n",
              "    .dataframe tbody tr th {\n",
              "        vertical-align: top;\n",
              "    }\n",
              "\n",
              "    .dataframe thead th {\n",
              "        text-align: right;\n",
              "    }\n",
              "</style>\n",
              "<table border=\"1\" class=\"dataframe\">\n",
              "  <thead>\n",
              "    <tr style=\"text-align: right;\">\n",
              "      <th></th>\n",
              "      <th>Actual</th>\n",
              "      <th>Prediction</th>\n",
              "    </tr>\n",
              "  </thead>\n",
              "  <tbody>\n",
              "    <tr>\n",
              "      <th>13</th>\n",
              "      <td>11090.71780</td>\n",
              "      <td>11676.074048</td>\n",
              "    </tr>\n",
              "    <tr>\n",
              "      <th>1052</th>\n",
              "      <td>9288.02670</td>\n",
              "      <td>11053.192252</td>\n",
              "    </tr>\n",
              "    <tr>\n",
              "      <th>172</th>\n",
              "      <td>1694.79640</td>\n",
              "      <td>1383.981241</td>\n",
              "    </tr>\n",
              "    <tr>\n",
              "      <th>395</th>\n",
              "      <td>7526.70645</td>\n",
              "      <td>7812.409870</td>\n",
              "    </tr>\n",
              "    <tr>\n",
              "      <th>934</th>\n",
              "      <td>4673.39220</td>\n",
              "      <td>6352.902616</td>\n",
              "    </tr>\n",
              "    <tr>\n",
              "      <th>...</th>\n",
              "      <td>...</td>\n",
              "      <td>...</td>\n",
              "    </tr>\n",
              "    <tr>\n",
              "      <th>1297</th>\n",
              "      <td>4340.44090</td>\n",
              "      <td>5826.887440</td>\n",
              "    </tr>\n",
              "    <tr>\n",
              "      <th>278</th>\n",
              "      <td>12928.79110</td>\n",
              "      <td>15210.641070</td>\n",
              "    </tr>\n",
              "    <tr>\n",
              "      <th>1132</th>\n",
              "      <td>20709.02034</td>\n",
              "      <td>12226.320133</td>\n",
              "    </tr>\n",
              "    <tr>\n",
              "      <th>1231</th>\n",
              "      <td>20167.33603</td>\n",
              "      <td>16627.710753</td>\n",
              "    </tr>\n",
              "    <tr>\n",
              "      <th>463</th>\n",
              "      <td>11165.41765</td>\n",
              "      <td>11863.125691</td>\n",
              "    </tr>\n",
              "  </tbody>\n",
              "</table>\n",
              "<p>335 rows × 2 columns</p>\n",
              "</div>\n",
              "      <button class=\"colab-df-convert\" onclick=\"convertToInteractive('df-163fcce9-d5a9-442a-b471-e4c784f31b00')\"\n",
              "              title=\"Convert this dataframe to an interactive table.\"\n",
              "              style=\"display:none;\">\n",
              "        \n",
              "  <svg xmlns=\"http://www.w3.org/2000/svg\" height=\"24px\"viewBox=\"0 0 24 24\"\n",
              "       width=\"24px\">\n",
              "    <path d=\"M0 0h24v24H0V0z\" fill=\"none\"/>\n",
              "    <path d=\"M18.56 5.44l.94 2.06.94-2.06 2.06-.94-2.06-.94-.94-2.06-.94 2.06-2.06.94zm-11 1L8.5 8.5l.94-2.06 2.06-.94-2.06-.94L8.5 2.5l-.94 2.06-2.06.94zm10 10l.94 2.06.94-2.06 2.06-.94-2.06-.94-.94-2.06-.94 2.06-2.06.94z\"/><path d=\"M17.41 7.96l-1.37-1.37c-.4-.4-.92-.59-1.43-.59-.52 0-1.04.2-1.43.59L10.3 9.45l-7.72 7.72c-.78.78-.78 2.05 0 2.83L4 21.41c.39.39.9.59 1.41.59.51 0 1.02-.2 1.41-.59l7.78-7.78 2.81-2.81c.8-.78.8-2.07 0-2.86zM5.41 20L4 18.59l7.72-7.72 1.47 1.35L5.41 20z\"/>\n",
              "  </svg>\n",
              "      </button>\n",
              "      \n",
              "  <style>\n",
              "    .colab-df-container {\n",
              "      display:flex;\n",
              "      flex-wrap:wrap;\n",
              "      gap: 12px;\n",
              "    }\n",
              "\n",
              "    .colab-df-convert {\n",
              "      background-color: #E8F0FE;\n",
              "      border: none;\n",
              "      border-radius: 50%;\n",
              "      cursor: pointer;\n",
              "      display: none;\n",
              "      fill: #1967D2;\n",
              "      height: 32px;\n",
              "      padding: 0 0 0 0;\n",
              "      width: 32px;\n",
              "    }\n",
              "\n",
              "    .colab-df-convert:hover {\n",
              "      background-color: #E2EBFA;\n",
              "      box-shadow: 0px 1px 2px rgba(60, 64, 67, 0.3), 0px 1px 3px 1px rgba(60, 64, 67, 0.15);\n",
              "      fill: #174EA6;\n",
              "    }\n",
              "\n",
              "    [theme=dark] .colab-df-convert {\n",
              "      background-color: #3B4455;\n",
              "      fill: #D2E3FC;\n",
              "    }\n",
              "\n",
              "    [theme=dark] .colab-df-convert:hover {\n",
              "      background-color: #434B5C;\n",
              "      box-shadow: 0px 1px 3px 1px rgba(0, 0, 0, 0.15);\n",
              "      filter: drop-shadow(0px 1px 2px rgba(0, 0, 0, 0.3));\n",
              "      fill: #FFFFFF;\n",
              "    }\n",
              "  </style>\n",
              "\n",
              "      <script>\n",
              "        const buttonEl =\n",
              "          document.querySelector('#df-163fcce9-d5a9-442a-b471-e4c784f31b00 button.colab-df-convert');\n",
              "        buttonEl.style.display =\n",
              "          google.colab.kernel.accessAllowed ? 'block' : 'none';\n",
              "\n",
              "        async function convertToInteractive(key) {\n",
              "          const element = document.querySelector('#df-163fcce9-d5a9-442a-b471-e4c784f31b00');\n",
              "          const dataTable =\n",
              "            await google.colab.kernel.invokeFunction('convertToInteractive',\n",
              "                                                     [key], {});\n",
              "          if (!dataTable) return;\n",
              "\n",
              "          const docLinkHtml = 'Like what you see? Visit the ' +\n",
              "            '<a target=\"_blank\" href=https://colab.research.google.com/notebooks/data_table.ipynb>data table notebook</a>'\n",
              "            + ' to learn more about interactive tables.';\n",
              "          element.innerHTML = '';\n",
              "          dataTable['output_type'] = 'display_data';\n",
              "          await google.colab.output.renderOutput(dataTable, element);\n",
              "          const docLink = document.createElement('div');\n",
              "          docLink.innerHTML = docLinkHtml;\n",
              "          element.appendChild(docLink);\n",
              "        }\n",
              "      </script>\n",
              "    </div>\n",
              "  </div>\n",
              "  "
            ]
          },
          "metadata": {},
          "execution_count": 47
        }
      ]
    },
    {
      "cell_type": "code",
      "source": [
        "plt.scatter(y_test,y_pred_4)\n",
        "plt.xlabel(\"Actual Prices\")\n",
        "plt.ylabel(\"Prediction Prices\")\n",
        "plt.title(\"Actual Prices VS Prediction Prices\")\n",
        "plt.show()"
      ],
      "metadata": {
        "colab": {
          "base_uri": "https://localhost:8080/",
          "height": 295
        },
        "id": "vTRDdsMtxHvd",
        "outputId": "ee36a766-9e56-4e55-93fa-417f6100de2d"
      },
      "execution_count": 48,
      "outputs": [
        {
          "output_type": "display_data",
          "data": {
            "text/plain": [
              "<Figure size 432x288 with 1 Axes>"
            ],
            "image/png": "[encoded data removed]"
          },
          "metadata": {
            "needs_background": "light"
          }
        }
      ]
    },
    {
      "cell_type": "markdown",
      "source": [
        "Overall Comparision"
      ],
      "metadata": {
        "id": "gw-gvbGWxkM6"
      }
    },
    {
      "cell_type": "code",
      "source": [
        "df = pd.DataFrame({\"Actual\":y_test,\"LR\":y_pred_1,\"svm\":y_pred_2,\"RF\":y_pred_3,\"GR\":y_pred_4})\n",
        "df"
      ],
      "metadata": {
        "colab": {
          "base_uri": "https://localhost:8080/",
          "height": 424
        },
        "id": "0mFv5cl7xO2g",
        "outputId": "6481cb75-3e03-4e36-fc38-a346f501dbbb"
      },
      "execution_count": 49,
      "outputs": [
        {
          "output_type": "execute_result",
          "data": {
            "text/plain": [
              "           Actual            LR          svm            RF            GR\n",
              "13    11090.71780  14942.662131  9567.081569  11463.388648  11676.074048\n",
              "1052   9288.02670  10892.621682  9528.633069  11682.542591  11053.192252\n",
              "172    1694.79640  -2294.323529  9382.912513   1750.809162   1383.981241\n",
              "395    7526.70645   5893.174824  9505.932644   8922.197453   7812.409870\n",
              "934    4673.39220   8796.751499  9427.831181   5297.028604   6352.902616\n",
              "...           ...           ...          ...           ...           ...\n",
              "1297   4340.44090   4345.522081  9404.603276   6994.177571   5826.887440\n",
              "278   12928.79110  13974.413192  9582.109506  14313.100040  15210.641070\n",
              "1132  20709.02034  15908.098473  9571.432058  11390.009438  12226.320133\n",
              "1231  20167.33603  23187.166722  9380.263926  14782.824974  16627.710753\n",
              "463   11165.41765  10858.281155  9565.764161  11692.817424  11863.125691\n",
              "\n",
              "[335 rows x 5 columns]"
            ],
            "text/html": [
              "\n",
              "  <div id=\"df-5b000fc8-d3bb-4934-8e2a-10eddc2b3318\">\n",
              "    <div class=\"colab-df-container\">\n",
              "      <div>\n",
              "<style scoped>\n",
              "    .dataframe tbody tr th:only-of-type {\n",
              "        vertical-align: middle;\n",
              "    }\n",
              "\n",
              "    .dataframe tbody tr th {\n",
              "        vertical-align: top;\n",
              "    }\n",
              "\n",
              "    .dataframe thead th {\n",
              "        text-align: right;\n",
              "    }\n",
              "</style>\n",
              "<table border=\"1\" class=\"dataframe\">\n",
              "  <thead>\n",
              "    <tr style=\"text-align: right;\">\n",
              "      <th></th>\n",
              "      <th>Actual</th>\n",
              "      <th>LR</th>\n",
              "      <th>svm</th>\n",
              "      <th>RF</th>\n",
              "      <th>GR</th>\n",
              "    </tr>\n",
              "  </thead>\n",
              "  <tbody>\n",
              "    <tr>\n",
              "      <th>13</th>\n",
              "      <td>11090.71780</td>\n",
              "      <td>14942.662131</td>\n",
              "      <td>9567.081569</td>\n",
              "      <td>11463.388648</td>\n",
              "      <td>11676.074048</td>\n",
              "    </tr>\n",
              "    <tr>\n",
              "      <th>1052</th>\n",
              "      <td>9288.02670</td>\n",
              "      <td>10892.621682</td>\n",
              "      <td>9528.633069</td>\n",
              "      <td>11682.542591</td>\n",
              "      <td>11053.192252</td>\n",
              "    </tr>\n",
              "    <tr>\n",
              "      <th>172</th>\n",
              "      <td>1694.79640</td>\n",
              "      <td>-2294.323529</td>\n",
              "      <td>9382.912513</td>\n",
              "      <td>1750.809162</td>\n",
              "      <td>1383.981241</td>\n",
              "    </tr>\n",
              "    <tr>\n",
              "      <th>395</th>\n",
              "      <td>7526.70645</td>\n",
              "      <td>5893.174824</td>\n",
              "      <td>9505.932644</td>\n",
              "      <td>8922.197453</td>\n",
              "      <td>7812.409870</td>\n",
              "    </tr>\n",
              "    <tr>\n",
              "      <th>934</th>\n",
              "      <td>4673.39220</td>\n",
              "      <td>8796.751499</td>\n",
              "      <td>9427.831181</td>\n",
              "      <td>5297.028604</td>\n",
              "      <td>6352.902616</td>\n",
              "    </tr>\n",
              "    <tr>\n",
              "      <th>...</th>\n",
              "      <td>...</td>\n",
              "      <td>...</td>\n",
              "      <td>...</td>\n",
              "      <td>...</td>\n",
              "      <td>...</td>\n",
              "    </tr>\n",
              "    <tr>\n",
              "      <th>1297</th>\n",
              "      <td>4340.44090</td>\n",
              "      <td>4345.522081</td>\n",
              "      <td>9404.603276</td>\n",
              "      <td>6994.177571</td>\n",
              "      <td>5826.887440</td>\n",
              "    </tr>\n",
              "    <tr>\n",
              "      <th>278</th>\n",
              "      <td>12928.79110</td>\n",
              "      <td>13974.413192</td>\n",
              "      <td>9582.109506</td>\n",
              "      <td>14313.100040</td>\n",
              "      <td>15210.641070</td>\n",
              "    </tr>\n",
              "    <tr>\n",
              "      <th>1132</th>\n",
              "      <td>20709.02034</td>\n",
              "      <td>15908.098473</td>\n",
              "      <td>9571.432058</td>\n",
              "      <td>11390.009438</td>\n",
              "      <td>12226.320133</td>\n",
              "    </tr>\n",
              "    <tr>\n",
              "      <th>1231</th>\n",
              "      <td>20167.33603</td>\n",
              "      <td>23187.166722</td>\n",
              "      <td>9380.263926</td>\n",
              "      <td>14782.824974</td>\n",
              "      <td>16627.710753</td>\n",
              "    </tr>\n",
              "    <tr>\n",
              "      <th>463</th>\n",
              "      <td>11165.41765</td>\n",
              "      <td>10858.281155</td>\n",
              "      <td>9565.764161</td>\n",
              "      <td>11692.817424</td>\n",
              "      <td>11863.125691</td>\n",
              "    </tr>\n",
              "  </tbody>\n",
              "</table>\n",
              "<p>335 rows × 5 columns</p>\n",
              "</div>\n",
              "      <button class=\"colab-df-convert\" onclick=\"convertToInteractive('df-5b000fc8-d3bb-4934-8e2a-10eddc2b3318')\"\n",
              "              title=\"Convert this dataframe to an interactive table.\"\n",
              "              style=\"display:none;\">\n",
              "        \n",
              "  <svg xmlns=\"http://www.w3.org/2000/svg\" height=\"24px\"viewBox=\"0 0 24 24\"\n",
              "       width=\"24px\">\n",
              "    <path d=\"M0 0h24v24H0V0z\" fill=\"none\"/>\n",
              "    <path d=\"M18.56 5.44l.94 2.06.94-2.06 2.06-.94-2.06-.94-.94-2.06-.94 2.06-2.06.94zm-11 1L8.5 8.5l.94-2.06 2.06-.94-2.06-.94L8.5 2.5l-.94 2.06-2.06.94zm10 10l.94 2.06.94-2.06 2.06-.94-2.06-.94-.94-2.06-.94 2.06-2.06.94z\"/><path d=\"M17.41 7.96l-1.37-1.37c-.4-.4-.92-.59-1.43-.59-.52 0-1.04.2-1.43.59L10.3 9.45l-7.72 7.72c-.78.78-.78 2.05 0 2.83L4 21.41c.39.39.9.59 1.41.59.51 0 1.02-.2 1.41-.59l7.78-7.78 2.81-2.81c.8-.78.8-2.07 0-2.86zM5.41 20L4 18.59l7.72-7.72 1.47 1.35L5.41 20z\"/>\n",
              "  </svg>\n",
              "      </button>\n",
              "      \n",
              "  <style>\n",
              "    .colab-df-container {\n",
              "      display:flex;\n",
              "      flex-wrap:wrap;\n",
              "      gap: 12px;\n",
              "    }\n",
              "\n",
              "    .colab-df-convert {\n",
              "      background-color: #E8F0FE;\n",
              "      border: none;\n",
              "      border-radius: 50%;\n",
              "      cursor: pointer;\n",
              "      display: none;\n",
              "      fill: #1967D2;\n",
              "      height: 32px;\n",
              "      padding: 0 0 0 0;\n",
              "      width: 32px;\n",
              "    }\n",
              "\n",
              "    .colab-df-convert:hover {\n",
              "      background-color: #E2EBFA;\n",
              "      box-shadow: 0px 1px 2px rgba(60, 64, 67, 0.3), 0px 1px 3px 1px rgba(60, 64, 67, 0.15);\n",
              "      fill: #174EA6;\n",
              "    }\n",
              "\n",
              "    [theme=dark] .colab-df-convert {\n",
              "      background-color: #3B4455;\n",
              "      fill: #D2E3FC;\n",
              "    }\n",
              "\n",
              "    [theme=dark] .colab-df-convert:hover {\n",
              "      background-color: #434B5C;\n",
              "      box-shadow: 0px 1px 3px 1px rgba(0, 0, 0, 0.15);\n",
              "      filter: drop-shadow(0px 1px 2px rgba(0, 0, 0, 0.3));\n",
              "      fill: #FFFFFF;\n",
              "    }\n",
              "  </style>\n",
              "\n",
              "      <script>\n",
              "        const buttonEl =\n",
              "          document.querySelector('#df-5b000fc8-d3bb-4934-8e2a-10eddc2b3318 button.colab-df-convert');\n",
              "        buttonEl.style.display =\n",
              "          google.colab.kernel.accessAllowed ? 'block' : 'none';\n",
              "\n",
              "        async function convertToInteractive(key) {\n",
              "          const element = document.querySelector('#df-5b000fc8-d3bb-4934-8e2a-10eddc2b3318');\n",
              "          const dataTable =\n",
              "            await google.colab.kernel.invokeFunction('convertToInteractive',\n",
              "                                                     [key], {});\n",
              "          if (!dataTable) return;\n",
              "\n",
              "          const docLinkHtml = 'Like what you see? Visit the ' +\n",
              "            '<a target=\"_blank\" href=https://colab.research.google.com/notebooks/data_table.ipynb>data table notebook</a>'\n",
              "            + ' to learn more about interactive tables.';\n",
              "          element.innerHTML = '';\n",
              "          dataTable['output_type'] = 'display_data';\n",
              "          await google.colab.output.renderOutput(dataTable, element);\n",
              "          const docLink = document.createElement('div');\n",
              "          docLink.innerHTML = docLinkHtml;\n",
              "          element.appendChild(docLink);\n",
              "        }\n",
              "      </script>\n",
              "    </div>\n",
              "  </div>\n",
              "  "
            ]
          },
          "metadata": {},
          "execution_count": 49
        }
      ]
    },
    {
      "cell_type": "markdown",
      "source": [
        "1) Linear Regression"
      ],
      "metadata": {
        "id": "-RAKYOJVx4XZ"
      }
    },
    {
      "cell_type": "code",
      "source": [
        "plt.plot(df[\"Actual\"].iloc[0:11],label=\"Actual\")\n",
        "plt.plot(df[\"LR\"].iloc[0:11],label=\"Linear Regrsssion\")\n",
        "plt.tight_layout()\n",
        "plt.legend()"
      ],
      "metadata": {
        "colab": {
          "base_uri": "https://localhost:8080/",
          "height": 314
        },
        "id": "4mvQlhUmxdi0",
        "outputId": "3db12d4f-55b3-4b31-8289-87c039d0792f"
      },
      "execution_count": 50,
      "outputs": [
        {
          "output_type": "execute_result",
          "data": {
            "text/plain": [
              "<matplotlib.legend.Legend at 0x7f4026d90450>"
            ]
          },
          "metadata": {},
          "execution_count": 50
        },
        {
          "output_type": "display_data",
          "data": {
            "text/plain": [
              "<Figure size 432x288 with 1 Axes>"
            ],
            "image/png": "[encoded data removed]"
          },
          "metadata": {
            "needs_background": "light"
          }
        }
      ]
    },
    {
      "cell_type": "markdown",
      "source": [
        "2) Supper Vector Machine"
      ],
      "metadata": {
        "id": "GJLyuD_Ax8qK"
      }
    },
    {
      "cell_type": "code",
      "source": [
        "plt.plot(df[\"Actual\"].iloc[0:11],label=\"Actual\")\n",
        "plt.plot(df[\"svm\"].iloc[0:11],label=\"Supper Vector Regression\")\n",
        "plt.tight_layout()\n",
        "plt.legend()"
      ],
      "metadata": {
        "colab": {
          "base_uri": "https://localhost:8080/",
          "height": 314
        },
        "id": "trKLZ-cIxhNa",
        "outputId": "95f30b50-582e-4008-cbfc-8345f34b6907"
      },
      "execution_count": 51,
      "outputs": [
        {
          "output_type": "execute_result",
          "data": {
            "text/plain": [
              "<matplotlib.legend.Legend at 0x7f4026d90d50>"
            ]
          },
          "metadata": {},
          "execution_count": 51
        },
        {
          "output_type": "display_data",
          "data": {
            "text/plain": [
              "<Figure size 432x288 with 1 Axes>"
            ],
            "image/png": "[encoded data removed]"
          },
          "metadata": {
            "needs_background": "light"
          }
        }
      ]
    },
    {
      "cell_type": "markdown",
      "source": [
        "3) Random Forest Regressor"
      ],
      "metadata": {
        "id": "9neez0zbyDMT"
      }
    },
    {
      "cell_type": "code",
      "source": [
        "plt.plot(df[\"Actual\"].iloc[0:11],label=\"Actual\")\n",
        "plt.plot(df[\"RF\"].iloc[0:11],label=\"Random Forest Regressor\")\n",
        "plt.tight_layout()\n",
        "plt.legend()"
      ],
      "metadata": {
        "colab": {
          "base_uri": "https://localhost:8080/",
          "height": 314
        },
        "id": "15sp8BGaxrnA",
        "outputId": "0bec89c1-a85c-42d2-d9b9-389cadbd86a1"
      },
      "execution_count": 52,
      "outputs": [
        {
          "output_type": "execute_result",
          "data": {
            "text/plain": [
              "<matplotlib.legend.Legend at 0x7f4026fb1290>"
            ]
          },
          "metadata": {},
          "execution_count": 52
        },
        {
          "output_type": "display_data",
          "data": {
            "text/plain": [
              "<Figure size 432x288 with 1 Axes>"
            ],
            "image/png": "[encoded data removed]"
          },
          "metadata": {
            "needs_background": "light"
          }
        }
      ]
    },
    {
      "cell_type": "markdown",
      "source": [
        "4) Gradient Boosting Regressor"
      ],
      "metadata": {
        "id": "kYP6v5UayHXe"
      }
    },
    {
      "cell_type": "code",
      "source": [
        "plt.plot(df[\"Actual\"].iloc[0:11],label=\"Actual\")\n",
        "plt.plot(df[\"GR\"].iloc[0:11],label=\"Gradient Boosting Regressor\")\n",
        "plt.tight_layout()\n",
        "plt.legend()"
      ],
      "metadata": {
        "colab": {
          "base_uri": "https://localhost:8080/",
          "height": 314
        },
        "id": "s2foM1H7xuBG",
        "outputId": "c567a6fc-c0d0-471c-daa3-5012cb65971c"
      },
      "execution_count": 53,
      "outputs": [
        {
          "output_type": "execute_result",
          "data": {
            "text/plain": [
              "<matplotlib.legend.Legend at 0x7f40274fbe90>"
            ]
          },
          "metadata": {},
          "execution_count": 53
        },
        {
          "output_type": "display_data",
          "data": {
            "text/plain": [
              "<Figure size 432x288 with 1 Axes>"
            ],
            "image/png": "[encoded data removed]"
          },
          "metadata": {
            "needs_background": "light"
          }
        }
      ]
    },
    {
      "cell_type": "markdown",
      "source": [
        "**10) Evaluation Metrics**"
      ],
      "metadata": {
        "id": "QC5D6iMqyNfL"
      }
    },
    {
      "cell_type": "markdown",
      "source": [
        "1) Linear Regression"
      ],
      "metadata": {
        "id": "-lN_pj2mye_m"
      }
    },
    {
      "cell_type": "code",
      "source": [
        "from sklearn import metrics\n",
        "print(\"R2-Scores: \",metrics.r2_score(y_test,y_pred_1))"
      ],
      "metadata": {
        "colab": {
          "base_uri": "https://localhost:8080/"
        },
        "id": "Rbg-soQXxwzM",
        "outputId": "081b0336-e248-46de-b910-1ee4b54a8bb4"
      },
      "execution_count": 54,
      "outputs": [
        {
          "output_type": "stream",
          "name": "stdout",
          "text": [
            "R2-Scores:  0.7333883419512954\n"
          ]
        }
      ]
    },
    {
      "cell_type": "markdown",
      "source": [
        "2) Supper Vector Machine"
      ],
      "metadata": {
        "id": "pVfnoor-yjCU"
      }
    },
    {
      "cell_type": "code",
      "source": [
        "from sklearn import metrics\n",
        "print(\"R2-Scores: \",metrics.r2_score(y_test,y_pred_2))"
      ],
      "metadata": {
        "colab": {
          "base_uri": "https://localhost:8080/"
        },
        "id": "6_S8sSkmyTVF",
        "outputId": "5dc41cce-ffdd-412f-e989-8f03533d6aa1"
      },
      "execution_count": 55,
      "outputs": [
        {
          "output_type": "stream",
          "name": "stdout",
          "text": [
            "R2-Scores:  -0.09345691400913969\n"
          ]
        }
      ]
    },
    {
      "cell_type": "markdown",
      "source": [
        "3) Random Forest Regressor"
      ],
      "metadata": {
        "id": "uvs8IeQ0ymBc"
      }
    },
    {
      "cell_type": "code",
      "source": [
        "from sklearn import metrics\n",
        "print(\"R2-Scores: \",metrics.r2_score(y_test,y_pred_3))"
      ],
      "metadata": {
        "colab": {
          "base_uri": "https://localhost:8080/"
        },
        "id": "RVirRBnSyVtH",
        "outputId": "a3735632-fe71-4fec-d6cd-08b5984d5ae5"
      },
      "execution_count": 56,
      "outputs": [
        {
          "output_type": "stream",
          "name": "stdout",
          "text": [
            "R2-Scores:  0.8366821831919931\n"
          ]
        }
      ]
    },
    {
      "cell_type": "markdown",
      "source": [
        "4) Gradient Boosting Regressor"
      ],
      "metadata": {
        "id": "rDtLSnnxypAD"
      }
    },
    {
      "cell_type": "code",
      "source": [
        "from sklearn import metrics\n",
        "print(\"R2-Scores: \",metrics.r2_score(y_test,y_pred_4))"
      ],
      "metadata": {
        "colab": {
          "base_uri": "https://localhost:8080/"
        },
        "id": "uzUKn50oyYMb",
        "outputId": "d295549c-88b7-4fd5-f2da-f9e95b16ccf9"
      },
      "execution_count": 57,
      "outputs": [
        {
          "output_type": "stream",
          "name": "stdout",
          "text": [
            "R2-Scores:  0.8473806531403654\n"
          ]
        }
      ]
    }
  ]
}