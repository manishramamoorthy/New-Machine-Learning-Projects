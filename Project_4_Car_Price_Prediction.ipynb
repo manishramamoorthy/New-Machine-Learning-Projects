{
  "nbformat": 4,
  "nbformat_minor": 0,
  "metadata": {
    "colab": {
      "provenance": [],
      "authorship_tag": "ABX9TyObBM8crmB2LbaDsaGjFLmm",
      "include_colab_link": true
    },
    "kernelspec": {
      "name": "python3",
      "display_name": "Python 3"
    },
    "language_info": {
      "name": "python"
    }
  },
  "cells": [
    {
      "cell_type": "markdown",
      "metadata": {
        "id": "view-in-github",
        "colab_type": "text"
      },
      "source": [
        "<a href=\"https://colab.research.google.com/github/manishramamoorthy/New-Machine-Learning-Projects/blob/main/Project_4_Car_Price_Prediction.ipynb\" target=\"_parent\"><img src=\"https://colab.research.google.com/assets/colab-badge.svg\" alt=\"Open In Colab\"/></a>"
      ]
    },
    {
      "cell_type": "markdown",
      "source": [
        "\n",
        "**Summary :**\n",
        "\n",
        "1) Importing Libraries                         \n",
        "2) Loading Dataset                         \n",
        "3) Data PreProcessing                               \n",
        "4) EDA (Exploratory Data Analysis)                             \n",
        "5) Train and Test Split                             \n",
        "6) Standard Scaler                      \n",
        "7) Modelling                            \n",
        "8) Making Prediction                           \n",
        "9) Compare Actual and Predicted Scores                        \n",
        "10) Evaluation Metrics                               "
      ],
      "metadata": {
        "id": "4CXVvsZtzPgy"
      }
    },
    {
      "cell_type": "markdown",
      "source": [
        "**1) Importing Libraries**"
      ],
      "metadata": {
        "id": "rAcvZwYUzXfX"
      }
    },
    {
      "cell_type": "code",
      "source": [
        "import pandas as pd\n",
        "import numpy as np\n",
        "import warnings\n",
        "warnings.filterwarnings(\"ignore\")\n",
        "import matplotlib.pyplot as plt\n",
        "import seaborn as sns\n",
        "from sklearn.model_selection import train_test_split\n",
        "from sklearn.linear_model import LinearRegression\n",
        "from sklearn.linear_model import Lasso\n",
        "from sklearn import metrics"
      ],
      "metadata": {
        "id": "_IPGaSrizUsY"
      },
      "execution_count": 1,
      "outputs": []
    },
    {
      "cell_type": "markdown",
      "source": [
        "**2) Loading Dataset**"
      ],
      "metadata": {
        "id": "EtXjFfm8zbpn"
      }
    },
    {
      "cell_type": "code",
      "source": [
        "car_price_data = pd.read_csv(\"/content/car data (1).csv\")"
      ],
      "metadata": {
        "id": "Y2lTe6EFza55"
      },
      "execution_count": 2,
      "outputs": []
    },
    {
      "cell_type": "markdown",
      "source": [
        "**3) Data PreProcessing**"
      ],
      "metadata": {
        "id": "5ECzCuSVzr-c"
      }
    },
    {
      "cell_type": "markdown",
      "source": [
        "1) Top Five Rows of DataSet"
      ],
      "metadata": {
        "id": "AYTeVBv6zzsL"
      }
    },
    {
      "cell_type": "code",
      "source": [
        "car_price_data.head()"
      ],
      "metadata": {
        "colab": {
          "base_uri": "https://localhost:8080/",
          "height": 206
        },
        "id": "np-Ib9MhzqvH",
        "outputId": "cb817938-427f-4220-ec0a-21b014244446"
      },
      "execution_count": 4,
      "outputs": [
        {
          "output_type": "execute_result",
          "data": {
            "text/plain": [
              "  Car_Name  Year  Selling_Price  Present_Price  Kms_Driven Fuel_Type  \\\n",
              "0     ritz  2014           3.35           5.59       27000    Petrol   \n",
              "1      sx4  2013           4.75           9.54       43000    Diesel   \n",
              "2     ciaz  2017           7.25           9.85        6900    Petrol   \n",
              "3  wagon r  2011           2.85           4.15        5200    Petrol   \n",
              "4    swift  2014           4.60           6.87       42450    Diesel   \n",
              "\n",
              "  Seller_Type Transmission  Owner  \n",
              "0      Dealer       Manual      0  \n",
              "1      Dealer       Manual      0  \n",
              "2      Dealer       Manual      0  \n",
              "3      Dealer       Manual      0  \n",
              "4      Dealer       Manual      0  "
            ],
            "text/html": [
              "\n",
              "  <div id=\"df-996eb3c0-74c5-48bd-88b4-cddd2150c2ab\">\n",
              "    <div class=\"colab-df-container\">\n",
              "      <div>\n",
              "<style scoped>\n",
              "    .dataframe tbody tr th:only-of-type {\n",
              "        vertical-align: middle;\n",
              "    }\n",
              "\n",
              "    .dataframe tbody tr th {\n",
              "        vertical-align: top;\n",
              "    }\n",
              "\n",
              "    .dataframe thead th {\n",
              "        text-align: right;\n",
              "    }\n",
              "</style>\n",
              "<table border=\"1\" class=\"dataframe\">\n",
              "  <thead>\n",
              "    <tr style=\"text-align: right;\">\n",
              "      <th></th>\n",
              "      <th>Car_Name</th>\n",
              "      <th>Year</th>\n",
              "      <th>Selling_Price</th>\n",
              "      <th>Present_Price</th>\n",
              "      <th>Kms_Driven</th>\n",
              "      <th>Fuel_Type</th>\n",
              "      <th>Seller_Type</th>\n",
              "      <th>Transmission</th>\n",
              "      <th>Owner</th>\n",
              "    </tr>\n",
              "  </thead>\n",
              "  <tbody>\n",
              "    <tr>\n",
              "      <th>0</th>\n",
              "      <td>ritz</td>\n",
              "      <td>2014</td>\n",
              "      <td>3.35</td>\n",
              "      <td>5.59</td>\n",
              "      <td>27000</td>\n",
              "      <td>Petrol</td>\n",
              "      <td>Dealer</td>\n",
              "      <td>Manual</td>\n",
              "      <td>0</td>\n",
              "    </tr>\n",
              "    <tr>\n",
              "      <th>1</th>\n",
              "      <td>sx4</td>\n",
              "      <td>2013</td>\n",
              "      <td>4.75</td>\n",
              "      <td>9.54</td>\n",
              "      <td>43000</td>\n",
              "      <td>Diesel</td>\n",
              "      <td>Dealer</td>\n",
              "      <td>Manual</td>\n",
              "      <td>0</td>\n",
              "    </tr>\n",
              "    <tr>\n",
              "      <th>2</th>\n",
              "      <td>ciaz</td>\n",
              "      <td>2017</td>\n",
              "      <td>7.25</td>\n",
              "      <td>9.85</td>\n",
              "      <td>6900</td>\n",
              "      <td>Petrol</td>\n",
              "      <td>Dealer</td>\n",
              "      <td>Manual</td>\n",
              "      <td>0</td>\n",
              "    </tr>\n",
              "    <tr>\n",
              "      <th>3</th>\n",
              "      <td>wagon r</td>\n",
              "      <td>2011</td>\n",
              "      <td>2.85</td>\n",
              "      <td>4.15</td>\n",
              "      <td>5200</td>\n",
              "      <td>Petrol</td>\n",
              "      <td>Dealer</td>\n",
              "      <td>Manual</td>\n",
              "      <td>0</td>\n",
              "    </tr>\n",
              "    <tr>\n",
              "      <th>4</th>\n",
              "      <td>swift</td>\n",
              "      <td>2014</td>\n",
              "      <td>4.60</td>\n",
              "      <td>6.87</td>\n",
              "      <td>42450</td>\n",
              "      <td>Diesel</td>\n",
              "      <td>Dealer</td>\n",
              "      <td>Manual</td>\n",
              "      <td>0</td>\n",
              "    </tr>\n",
              "  </tbody>\n",
              "</table>\n",
              "</div>\n",
              "      <button class=\"colab-df-convert\" onclick=\"convertToInteractive('df-996eb3c0-74c5-48bd-88b4-cddd2150c2ab')\"\n",
              "              title=\"Convert this dataframe to an interactive table.\"\n",
              "              style=\"display:none;\">\n",
              "        \n",
              "  <svg xmlns=\"http://www.w3.org/2000/svg\" height=\"24px\"viewBox=\"0 0 24 24\"\n",
              "       width=\"24px\">\n",
              "    <path d=\"M0 0h24v24H0V0z\" fill=\"none\"/>\n",
              "    <path d=\"M18.56 5.44l.94 2.06.94-2.06 2.06-.94-2.06-.94-.94-2.06-.94 2.06-2.06.94zm-11 1L8.5 8.5l.94-2.06 2.06-.94-2.06-.94L8.5 2.5l-.94 2.06-2.06.94zm10 10l.94 2.06.94-2.06 2.06-.94-2.06-.94-.94-2.06-.94 2.06-2.06.94z\"/><path d=\"M17.41 7.96l-1.37-1.37c-.4-.4-.92-.59-1.43-.59-.52 0-1.04.2-1.43.59L10.3 9.45l-7.72 7.72c-.78.78-.78 2.05 0 2.83L4 21.41c.39.39.9.59 1.41.59.51 0 1.02-.2 1.41-.59l7.78-7.78 2.81-2.81c.8-.78.8-2.07 0-2.86zM5.41 20L4 18.59l7.72-7.72 1.47 1.35L5.41 20z\"/>\n",
              "  </svg>\n",
              "      </button>\n",
              "      \n",
              "  <style>\n",
              "    .colab-df-container {\n",
              "      display:flex;\n",
              "      flex-wrap:wrap;\n",
              "      gap: 12px;\n",
              "    }\n",
              "\n",
              "    .colab-df-convert {\n",
              "      background-color: #E8F0FE;\n",
              "      border: none;\n",
              "      border-radius: 50%;\n",
              "      cursor: pointer;\n",
              "      display: none;\n",
              "      fill: #1967D2;\n",
              "      height: 32px;\n",
              "      padding: 0 0 0 0;\n",
              "      width: 32px;\n",
              "    }\n",
              "\n",
              "    .colab-df-convert:hover {\n",
              "      background-color: #E2EBFA;\n",
              "      box-shadow: 0px 1px 2px rgba(60, 64, 67, 0.3), 0px 1px 3px 1px rgba(60, 64, 67, 0.15);\n",
              "      fill: #174EA6;\n",
              "    }\n",
              "\n",
              "    [theme=dark] .colab-df-convert {\n",
              "      background-color: #3B4455;\n",
              "      fill: #D2E3FC;\n",
              "    }\n",
              "\n",
              "    [theme=dark] .colab-df-convert:hover {\n",
              "      background-color: #434B5C;\n",
              "      box-shadow: 0px 1px 3px 1px rgba(0, 0, 0, 0.15);\n",
              "      filter: drop-shadow(0px 1px 2px rgba(0, 0, 0, 0.3));\n",
              "      fill: #FFFFFF;\n",
              "    }\n",
              "  </style>\n",
              "\n",
              "      <script>\n",
              "        const buttonEl =\n",
              "          document.querySelector('#df-996eb3c0-74c5-48bd-88b4-cddd2150c2ab button.colab-df-convert');\n",
              "        buttonEl.style.display =\n",
              "          google.colab.kernel.accessAllowed ? 'block' : 'none';\n",
              "\n",
              "        async function convertToInteractive(key) {\n",
              "          const element = document.querySelector('#df-996eb3c0-74c5-48bd-88b4-cddd2150c2ab');\n",
              "          const dataTable =\n",
              "            await google.colab.kernel.invokeFunction('convertToInteractive',\n",
              "                                                     [key], {});\n",
              "          if (!dataTable) return;\n",
              "\n",
              "          const docLinkHtml = 'Like what you see? Visit the ' +\n",
              "            '<a target=\"_blank\" href=https://colab.research.google.com/notebooks/data_table.ipynb>data table notebook</a>'\n",
              "            + ' to learn more about interactive tables.';\n",
              "          element.innerHTML = '';\n",
              "          dataTable['output_type'] = 'display_data';\n",
              "          await google.colab.output.renderOutput(dataTable, element);\n",
              "          const docLink = document.createElement('div');\n",
              "          docLink.innerHTML = docLinkHtml;\n",
              "          element.appendChild(docLink);\n",
              "        }\n",
              "      </script>\n",
              "    </div>\n",
              "  </div>\n",
              "  "
            ]
          },
          "metadata": {},
          "execution_count": 4
        }
      ]
    },
    {
      "cell_type": "markdown",
      "source": [
        "2) Last Five Rows of DataSet"
      ],
      "metadata": {
        "id": "54E71p5W0AeX"
      }
    },
    {
      "cell_type": "code",
      "source": [
        "car_price_data.tail()"
      ],
      "metadata": {
        "colab": {
          "base_uri": "https://localhost:8080/",
          "height": 206
        },
        "id": "P1OKnZefz2cq",
        "outputId": "efa6c1fb-b0c0-4e18-baff-206585219ef4"
      },
      "execution_count": 5,
      "outputs": [
        {
          "output_type": "execute_result",
          "data": {
            "text/plain": [
              "    Car_Name  Year  Selling_Price  Present_Price  Kms_Driven Fuel_Type  \\\n",
              "296     city  2016           9.50           11.6       33988    Diesel   \n",
              "297     brio  2015           4.00            5.9       60000    Petrol   \n",
              "298     city  2009           3.35           11.0       87934    Petrol   \n",
              "299     city  2017          11.50           12.5        9000    Diesel   \n",
              "300     brio  2016           5.30            5.9        5464    Petrol   \n",
              "\n",
              "    Seller_Type Transmission  Owner  \n",
              "296      Dealer       Manual      0  \n",
              "297      Dealer       Manual      0  \n",
              "298      Dealer       Manual      0  \n",
              "299      Dealer       Manual      0  \n",
              "300      Dealer       Manual      0  "
            ],
            "text/html": [
              "\n",
              "  <div id=\"df-a1c56d5e-5460-4f60-8922-ca4c2e7c9e27\">\n",
              "    <div class=\"colab-df-container\">\n",
              "      <div>\n",
              "<style scoped>\n",
              "    .dataframe tbody tr th:only-of-type {\n",
              "        vertical-align: middle;\n",
              "    }\n",
              "\n",
              "    .dataframe tbody tr th {\n",
              "        vertical-align: top;\n",
              "    }\n",
              "\n",
              "    .dataframe thead th {\n",
              "        text-align: right;\n",
              "    }\n",
              "</style>\n",
              "<table border=\"1\" class=\"dataframe\">\n",
              "  <thead>\n",
              "    <tr style=\"text-align: right;\">\n",
              "      <th></th>\n",
              "      <th>Car_Name</th>\n",
              "      <th>Year</th>\n",
              "      <th>Selling_Price</th>\n",
              "      <th>Present_Price</th>\n",
              "      <th>Kms_Driven</th>\n",
              "      <th>Fuel_Type</th>\n",
              "      <th>Seller_Type</th>\n",
              "      <th>Transmission</th>\n",
              "      <th>Owner</th>\n",
              "    </tr>\n",
              "  </thead>\n",
              "  <tbody>\n",
              "    <tr>\n",
              "      <th>296</th>\n",
              "      <td>city</td>\n",
              "      <td>2016</td>\n",
              "      <td>9.50</td>\n",
              "      <td>11.6</td>\n",
              "      <td>33988</td>\n",
              "      <td>Diesel</td>\n",
              "      <td>Dealer</td>\n",
              "      <td>Manual</td>\n",
              "      <td>0</td>\n",
              "    </tr>\n",
              "    <tr>\n",
              "      <th>297</th>\n",
              "      <td>brio</td>\n",
              "      <td>2015</td>\n",
              "      <td>4.00</td>\n",
              "      <td>5.9</td>\n",
              "      <td>60000</td>\n",
              "      <td>Petrol</td>\n",
              "      <td>Dealer</td>\n",
              "      <td>Manual</td>\n",
              "      <td>0</td>\n",
              "    </tr>\n",
              "    <tr>\n",
              "      <th>298</th>\n",
              "      <td>city</td>\n",
              "      <td>2009</td>\n",
              "      <td>3.35</td>\n",
              "      <td>11.0</td>\n",
              "      <td>87934</td>\n",
              "      <td>Petrol</td>\n",
              "      <td>Dealer</td>\n",
              "      <td>Manual</td>\n",
              "      <td>0</td>\n",
              "    </tr>\n",
              "    <tr>\n",
              "      <th>299</th>\n",
              "      <td>city</td>\n",
              "      <td>2017</td>\n",
              "      <td>11.50</td>\n",
              "      <td>12.5</td>\n",
              "      <td>9000</td>\n",
              "      <td>Diesel</td>\n",
              "      <td>Dealer</td>\n",
              "      <td>Manual</td>\n",
              "      <td>0</td>\n",
              "    </tr>\n",
              "    <tr>\n",
              "      <th>300</th>\n",
              "      <td>brio</td>\n",
              "      <td>2016</td>\n",
              "      <td>5.30</td>\n",
              "      <td>5.9</td>\n",
              "      <td>5464</td>\n",
              "      <td>Petrol</td>\n",
              "      <td>Dealer</td>\n",
              "      <td>Manual</td>\n",
              "      <td>0</td>\n",
              "    </tr>\n",
              "  </tbody>\n",
              "</table>\n",
              "</div>\n",
              "      <button class=\"colab-df-convert\" onclick=\"convertToInteractive('df-a1c56d5e-5460-4f60-8922-ca4c2e7c9e27')\"\n",
              "              title=\"Convert this dataframe to an interactive table.\"\n",
              "              style=\"display:none;\">\n",
              "        \n",
              "  <svg xmlns=\"http://www.w3.org/2000/svg\" height=\"24px\"viewBox=\"0 0 24 24\"\n",
              "       width=\"24px\">\n",
              "    <path d=\"M0 0h24v24H0V0z\" fill=\"none\"/>\n",
              "    <path d=\"M18.56 5.44l.94 2.06.94-2.06 2.06-.94-2.06-.94-.94-2.06-.94 2.06-2.06.94zm-11 1L8.5 8.5l.94-2.06 2.06-.94-2.06-.94L8.5 2.5l-.94 2.06-2.06.94zm10 10l.94 2.06.94-2.06 2.06-.94-2.06-.94-.94-2.06-.94 2.06-2.06.94z\"/><path d=\"M17.41 7.96l-1.37-1.37c-.4-.4-.92-.59-1.43-.59-.52 0-1.04.2-1.43.59L10.3 9.45l-7.72 7.72c-.78.78-.78 2.05 0 2.83L4 21.41c.39.39.9.59 1.41.59.51 0 1.02-.2 1.41-.59l7.78-7.78 2.81-2.81c.8-.78.8-2.07 0-2.86zM5.41 20L4 18.59l7.72-7.72 1.47 1.35L5.41 20z\"/>\n",
              "  </svg>\n",
              "      </button>\n",
              "      \n",
              "  <style>\n",
              "    .colab-df-container {\n",
              "      display:flex;\n",
              "      flex-wrap:wrap;\n",
              "      gap: 12px;\n",
              "    }\n",
              "\n",
              "    .colab-df-convert {\n",
              "      background-color: #E8F0FE;\n",
              "      border: none;\n",
              "      border-radius: 50%;\n",
              "      cursor: pointer;\n",
              "      display: none;\n",
              "      fill: #1967D2;\n",
              "      height: 32px;\n",
              "      padding: 0 0 0 0;\n",
              "      width: 32px;\n",
              "    }\n",
              "\n",
              "    .colab-df-convert:hover {\n",
              "      background-color: #E2EBFA;\n",
              "      box-shadow: 0px 1px 2px rgba(60, 64, 67, 0.3), 0px 1px 3px 1px rgba(60, 64, 67, 0.15);\n",
              "      fill: #174EA6;\n",
              "    }\n",
              "\n",
              "    [theme=dark] .colab-df-convert {\n",
              "      background-color: #3B4455;\n",
              "      fill: #D2E3FC;\n",
              "    }\n",
              "\n",
              "    [theme=dark] .colab-df-convert:hover {\n",
              "      background-color: #434B5C;\n",
              "      box-shadow: 0px 1px 3px 1px rgba(0, 0, 0, 0.15);\n",
              "      filter: drop-shadow(0px 1px 2px rgba(0, 0, 0, 0.3));\n",
              "      fill: #FFFFFF;\n",
              "    }\n",
              "  </style>\n",
              "\n",
              "      <script>\n",
              "        const buttonEl =\n",
              "          document.querySelector('#df-a1c56d5e-5460-4f60-8922-ca4c2e7c9e27 button.colab-df-convert');\n",
              "        buttonEl.style.display =\n",
              "          google.colab.kernel.accessAllowed ? 'block' : 'none';\n",
              "\n",
              "        async function convertToInteractive(key) {\n",
              "          const element = document.querySelector('#df-a1c56d5e-5460-4f60-8922-ca4c2e7c9e27');\n",
              "          const dataTable =\n",
              "            await google.colab.kernel.invokeFunction('convertToInteractive',\n",
              "                                                     [key], {});\n",
              "          if (!dataTable) return;\n",
              "\n",
              "          const docLinkHtml = 'Like what you see? Visit the ' +\n",
              "            '<a target=\"_blank\" href=https://colab.research.google.com/notebooks/data_table.ipynb>data table notebook</a>'\n",
              "            + ' to learn more about interactive tables.';\n",
              "          element.innerHTML = '';\n",
              "          dataTable['output_type'] = 'display_data';\n",
              "          await google.colab.output.renderOutput(dataTable, element);\n",
              "          const docLink = document.createElement('div');\n",
              "          docLink.innerHTML = docLinkHtml;\n",
              "          element.appendChild(docLink);\n",
              "        }\n",
              "      </script>\n",
              "    </div>\n",
              "  </div>\n",
              "  "
            ]
          },
          "metadata": {},
          "execution_count": 5
        }
      ]
    },
    {
      "cell_type": "markdown",
      "source": [
        "3) Shape of DataSet"
      ],
      "metadata": {
        "id": "Oo5RcaqH0GAH"
      }
    },
    {
      "cell_type": "code",
      "source": [
        "car_price_data.shape\n",
        "print(\"Number of Rows: \",car_price_data.shape[0])\n",
        "print(\"Number of Columns: \",car_price_data.shape[1])"
      ],
      "metadata": {
        "colab": {
          "base_uri": "https://localhost:8080/"
        },
        "id": "pgb9ESG20DRr",
        "outputId": "dea38f13-160f-48d0-b217-613ca9ab6c7b"
      },
      "execution_count": 6,
      "outputs": [
        {
          "output_type": "stream",
          "name": "stdout",
          "text": [
            "Number of Rows:  301\n",
            "Number of Columns:  9\n"
          ]
        }
      ]
    },
    {
      "cell_type": "markdown",
      "source": [
        "4) data Types"
      ],
      "metadata": {
        "id": "XaCzaIBi0STs"
      }
    },
    {
      "cell_type": "code",
      "source": [
        "car_price_data.dtypes"
      ],
      "metadata": {
        "colab": {
          "base_uri": "https://localhost:8080/"
        },
        "id": "G-MXdZ3k0PRX",
        "outputId": "34bf133a-bc69-4c12-950b-434f9768bc2f"
      },
      "execution_count": 7,
      "outputs": [
        {
          "output_type": "execute_result",
          "data": {
            "text/plain": [
              "Car_Name          object\n",
              "Year               int64\n",
              "Selling_Price    float64\n",
              "Present_Price    float64\n",
              "Kms_Driven         int64\n",
              "Fuel_Type         object\n",
              "Seller_Type       object\n",
              "Transmission      object\n",
              "Owner              int64\n",
              "dtype: object"
            ]
          },
          "metadata": {},
          "execution_count": 7
        }
      ]
    },
    {
      "cell_type": "markdown",
      "source": [
        "5) Getting Information of DataSet"
      ],
      "metadata": {
        "id": "qH64v3Lq0Vni"
      }
    },
    {
      "cell_type": "code",
      "source": [
        "car_price_data.info()"
      ],
      "metadata": {
        "colab": {
          "base_uri": "https://localhost:8080/"
        },
        "id": "X_awgwu80Us0",
        "outputId": "23585cb0-7733-4104-bf64-32df2b397153"
      },
      "execution_count": 8,
      "outputs": [
        {
          "output_type": "stream",
          "name": "stdout",
          "text": [
            "<class 'pandas.core.frame.DataFrame'>\n",
            "RangeIndex: 301 entries, 0 to 300\n",
            "Data columns (total 9 columns):\n",
            " #   Column         Non-Null Count  Dtype  \n",
            "---  ------         --------------  -----  \n",
            " 0   Car_Name       301 non-null    object \n",
            " 1   Year           301 non-null    int64  \n",
            " 2   Selling_Price  301 non-null    float64\n",
            " 3   Present_Price  301 non-null    float64\n",
            " 4   Kms_Driven     301 non-null    int64  \n",
            " 5   Fuel_Type      301 non-null    object \n",
            " 6   Seller_Type    301 non-null    object \n",
            " 7   Transmission   301 non-null    object \n",
            " 8   Owner          301 non-null    int64  \n",
            "dtypes: float64(2), int64(3), object(4)\n",
            "memory usage: 21.3+ KB\n"
          ]
        }
      ]
    },
    {
      "cell_type": "markdown",
      "source": [
        "6) Checking Missing Values of DataSet"
      ],
      "metadata": {
        "id": "bb0K48lG0e5X"
      }
    },
    {
      "cell_type": "code",
      "source": [
        "car_price_data.isnull().sum()"
      ],
      "metadata": {
        "colab": {
          "base_uri": "https://localhost:8080/"
        },
        "id": "9nsRKN1l0aPQ",
        "outputId": "cfe25137-d828-4232-fdf2-5112df8f9957"
      },
      "execution_count": 9,
      "outputs": [
        {
          "output_type": "execute_result",
          "data": {
            "text/plain": [
              "Car_Name         0\n",
              "Year             0\n",
              "Selling_Price    0\n",
              "Present_Price    0\n",
              "Kms_Driven       0\n",
              "Fuel_Type        0\n",
              "Seller_Type      0\n",
              "Transmission     0\n",
              "Owner            0\n",
              "dtype: int64"
            ]
          },
          "metadata": {},
          "execution_count": 9
        }
      ]
    },
    {
      "cell_type": "markdown",
      "source": [
        "7) Droping Duplicates Values of Dataset"
      ],
      "metadata": {
        "id": "7NRiNIoy0luw"
      }
    },
    {
      "cell_type": "code",
      "source": [
        "car_price_data = car_price_data.drop_duplicates()"
      ],
      "metadata": {
        "id": "_RYYTDO70jCl"
      },
      "execution_count": 10,
      "outputs": []
    },
    {
      "cell_type": "markdown",
      "source": [
        "8) Data Encoding                  \n",
        "\n",
        "    "
      ],
      "metadata": {
        "id": "zN_ROU920wrh"
      }
    },
    {
      "cell_type": "markdown",
      "source": [
        "checking the distribution of categorical data"
      ],
      "metadata": {
        "id": "meFMYLNW1IFC"
      }
    },
    {
      "cell_type": "code",
      "source": [
        "car_price_data.Fuel_Type.value_counts()"
      ],
      "metadata": {
        "colab": {
          "base_uri": "https://localhost:8080/"
        },
        "id": "IB-x9cdM0qQV",
        "outputId": "ca04fdb6-5989-4de5-957c-6cc2dd6f2ba9"
      },
      "execution_count": 11,
      "outputs": [
        {
          "output_type": "execute_result",
          "data": {
            "text/plain": [
              "Petrol    239\n",
              "Diesel     58\n",
              "CNG         2\n",
              "Name: Fuel_Type, dtype: int64"
            ]
          },
          "metadata": {},
          "execution_count": 11
        }
      ]
    },
    {
      "cell_type": "code",
      "source": [
        "car_price_data.Seller_Type.value_counts()"
      ],
      "metadata": {
        "colab": {
          "base_uri": "https://localhost:8080/"
        },
        "id": "VqfJV3yu1N8j",
        "outputId": "e46afec1-95cb-4b36-ccd8-4bcbff87de54"
      },
      "execution_count": 12,
      "outputs": [
        {
          "output_type": "execute_result",
          "data": {
            "text/plain": [
              "Dealer        193\n",
              "Individual    106\n",
              "Name: Seller_Type, dtype: int64"
            ]
          },
          "metadata": {},
          "execution_count": 12
        }
      ]
    },
    {
      "cell_type": "code",
      "source": [
        "car_price_data.Transmission.value_counts()"
      ],
      "metadata": {
        "colab": {
          "base_uri": "https://localhost:8080/"
        },
        "id": "-zg-lvFG1R9_",
        "outputId": "30bc9e25-34f8-4b87-b57b-6b0245796df3"
      },
      "execution_count": 13,
      "outputs": [
        {
          "output_type": "execute_result",
          "data": {
            "text/plain": [
              "Manual       260\n",
              "Automatic     39\n",
              "Name: Transmission, dtype: int64"
            ]
          },
          "metadata": {},
          "execution_count": 13
        }
      ]
    },
    {
      "cell_type": "markdown",
      "source": [
        "Encoding Categorical Values To Numerical Values"
      ],
      "metadata": {
        "id": "72HdbVWb1itA"
      }
    },
    {
      "cell_type": "code",
      "source": [
        "car_price_data[\"Fuel_Type\"] = car_price_data[\"Fuel_Type\"].map({\"Petrol\":1,\"Diesel\":2,\"CNG\":3}) "
      ],
      "metadata": {
        "id": "WBLDZX_S1dCY"
      },
      "execution_count": 14,
      "outputs": []
    },
    {
      "cell_type": "code",
      "source": [
        "car_price_data[\"Seller_Type\"] = car_price_data[\"Seller_Type\"].map({\"Dealer\":1,\"Individual\":2}) "
      ],
      "metadata": {
        "id": "Cpsuq-Ej2Bmw"
      },
      "execution_count": 15,
      "outputs": []
    },
    {
      "cell_type": "code",
      "source": [
        "car_price_data[\"Transmission\"] = car_price_data[\"Transmission\"].map({\"Manual\":1,\"Automatic\":2}) "
      ],
      "metadata": {
        "id": "w0geupfy2Se_"
      },
      "execution_count": 16,
      "outputs": []
    },
    {
      "cell_type": "markdown",
      "source": [
        "9) Statistical Measures"
      ],
      "metadata": {
        "id": "uCPPLDEH2qJu"
      }
    },
    {
      "cell_type": "code",
      "source": [
        "car_price_data.describe()"
      ],
      "metadata": {
        "colab": {
          "base_uri": "https://localhost:8080/",
          "height": 301
        },
        "id": "SDipccAe2h1b",
        "outputId": "807086fb-0d55-4564-9b8a-983a74bd9076"
      },
      "execution_count": 17,
      "outputs": [
        {
          "output_type": "execute_result",
          "data": {
            "text/plain": [
              "              Year  Selling_Price  Present_Price     Kms_Driven   Fuel_Type  \\\n",
              "count   299.000000     299.000000     299.000000     299.000000  299.000000   \n",
              "mean   2013.615385       4.589632       7.541037   36916.752508    1.207358   \n",
              "std       2.896868       4.984240       8.567887   39015.170352    0.422297   \n",
              "min    2003.000000       0.100000       0.320000     500.000000    1.000000   \n",
              "25%    2012.000000       0.850000       1.200000   15000.000000    1.000000   \n",
              "50%    2014.000000       3.510000       6.100000   32000.000000    1.000000   \n",
              "75%    2016.000000       6.000000       9.840000   48883.500000    1.000000   \n",
              "max    2018.000000      35.000000      92.600000  500000.000000    3.000000   \n",
              "\n",
              "       Seller_Type  Transmission       Owner  \n",
              "count   299.000000    299.000000  299.000000  \n",
              "mean      1.354515      1.130435    0.043478  \n",
              "std       0.479168      0.337346    0.248720  \n",
              "min       1.000000      1.000000    0.000000  \n",
              "25%       1.000000      1.000000    0.000000  \n",
              "50%       1.000000      1.000000    0.000000  \n",
              "75%       2.000000      1.000000    0.000000  \n",
              "max       2.000000      2.000000    3.000000  "
            ],
            "text/html": [
              "\n",
              "  <div id=\"df-da20fa1b-d531-4dc0-8f6e-515fc0deb8c8\">\n",
              "    <div class=\"colab-df-container\">\n",
              "      <div>\n",
              "<style scoped>\n",
              "    .dataframe tbody tr th:only-of-type {\n",
              "        vertical-align: middle;\n",
              "    }\n",
              "\n",
              "    .dataframe tbody tr th {\n",
              "        vertical-align: top;\n",
              "    }\n",
              "\n",
              "    .dataframe thead th {\n",
              "        text-align: right;\n",
              "    }\n",
              "</style>\n",
              "<table border=\"1\" class=\"dataframe\">\n",
              "  <thead>\n",
              "    <tr style=\"text-align: right;\">\n",
              "      <th></th>\n",
              "      <th>Year</th>\n",
              "      <th>Selling_Price</th>\n",
              "      <th>Present_Price</th>\n",
              "      <th>Kms_Driven</th>\n",
              "      <th>Fuel_Type</th>\n",
              "      <th>Seller_Type</th>\n",
              "      <th>Transmission</th>\n",
              "      <th>Owner</th>\n",
              "    </tr>\n",
              "  </thead>\n",
              "  <tbody>\n",
              "    <tr>\n",
              "      <th>count</th>\n",
              "      <td>299.000000</td>\n",
              "      <td>299.000000</td>\n",
              "      <td>299.000000</td>\n",
              "      <td>299.000000</td>\n",
              "      <td>299.000000</td>\n",
              "      <td>299.000000</td>\n",
              "      <td>299.000000</td>\n",
              "      <td>299.000000</td>\n",
              "    </tr>\n",
              "    <tr>\n",
              "      <th>mean</th>\n",
              "      <td>2013.615385</td>\n",
              "      <td>4.589632</td>\n",
              "      <td>7.541037</td>\n",
              "      <td>36916.752508</td>\n",
              "      <td>1.207358</td>\n",
              "      <td>1.354515</td>\n",
              "      <td>1.130435</td>\n",
              "      <td>0.043478</td>\n",
              "    </tr>\n",
              "    <tr>\n",
              "      <th>std</th>\n",
              "      <td>2.896868</td>\n",
              "      <td>4.984240</td>\n",
              "      <td>8.567887</td>\n",
              "      <td>39015.170352</td>\n",
              "      <td>0.422297</td>\n",
              "      <td>0.479168</td>\n",
              "      <td>0.337346</td>\n",
              "      <td>0.248720</td>\n",
              "    </tr>\n",
              "    <tr>\n",
              "      <th>min</th>\n",
              "      <td>2003.000000</td>\n",
              "      <td>0.100000</td>\n",
              "      <td>0.320000</td>\n",
              "      <td>500.000000</td>\n",
              "      <td>1.000000</td>\n",
              "      <td>1.000000</td>\n",
              "      <td>1.000000</td>\n",
              "      <td>0.000000</td>\n",
              "    </tr>\n",
              "    <tr>\n",
              "      <th>25%</th>\n",
              "      <td>2012.000000</td>\n",
              "      <td>0.850000</td>\n",
              "      <td>1.200000</td>\n",
              "      <td>15000.000000</td>\n",
              "      <td>1.000000</td>\n",
              "      <td>1.000000</td>\n",
              "      <td>1.000000</td>\n",
              "      <td>0.000000</td>\n",
              "    </tr>\n",
              "    <tr>\n",
              "      <th>50%</th>\n",
              "      <td>2014.000000</td>\n",
              "      <td>3.510000</td>\n",
              "      <td>6.100000</td>\n",
              "      <td>32000.000000</td>\n",
              "      <td>1.000000</td>\n",
              "      <td>1.000000</td>\n",
              "      <td>1.000000</td>\n",
              "      <td>0.000000</td>\n",
              "    </tr>\n",
              "    <tr>\n",
              "      <th>75%</th>\n",
              "      <td>2016.000000</td>\n",
              "      <td>6.000000</td>\n",
              "      <td>9.840000</td>\n",
              "      <td>48883.500000</td>\n",
              "      <td>1.000000</td>\n",
              "      <td>2.000000</td>\n",
              "      <td>1.000000</td>\n",
              "      <td>0.000000</td>\n",
              "    </tr>\n",
              "    <tr>\n",
              "      <th>max</th>\n",
              "      <td>2018.000000</td>\n",
              "      <td>35.000000</td>\n",
              "      <td>92.600000</td>\n",
              "      <td>500000.000000</td>\n",
              "      <td>3.000000</td>\n",
              "      <td>2.000000</td>\n",
              "      <td>2.000000</td>\n",
              "      <td>3.000000</td>\n",
              "    </tr>\n",
              "  </tbody>\n",
              "</table>\n",
              "</div>\n",
              "      <button class=\"colab-df-convert\" onclick=\"convertToInteractive('df-da20fa1b-d531-4dc0-8f6e-515fc0deb8c8')\"\n",
              "              title=\"Convert this dataframe to an interactive table.\"\n",
              "              style=\"display:none;\">\n",
              "        \n",
              "  <svg xmlns=\"http://www.w3.org/2000/svg\" height=\"24px\"viewBox=\"0 0 24 24\"\n",
              "       width=\"24px\">\n",
              "    <path d=\"M0 0h24v24H0V0z\" fill=\"none\"/>\n",
              "    <path d=\"M18.56 5.44l.94 2.06.94-2.06 2.06-.94-2.06-.94-.94-2.06-.94 2.06-2.06.94zm-11 1L8.5 8.5l.94-2.06 2.06-.94-2.06-.94L8.5 2.5l-.94 2.06-2.06.94zm10 10l.94 2.06.94-2.06 2.06-.94-2.06-.94-.94-2.06-.94 2.06-2.06.94z\"/><path d=\"M17.41 7.96l-1.37-1.37c-.4-.4-.92-.59-1.43-.59-.52 0-1.04.2-1.43.59L10.3 9.45l-7.72 7.72c-.78.78-.78 2.05 0 2.83L4 21.41c.39.39.9.59 1.41.59.51 0 1.02-.2 1.41-.59l7.78-7.78 2.81-2.81c.8-.78.8-2.07 0-2.86zM5.41 20L4 18.59l7.72-7.72 1.47 1.35L5.41 20z\"/>\n",
              "  </svg>\n",
              "      </button>\n",
              "      \n",
              "  <style>\n",
              "    .colab-df-container {\n",
              "      display:flex;\n",
              "      flex-wrap:wrap;\n",
              "      gap: 12px;\n",
              "    }\n",
              "\n",
              "    .colab-df-convert {\n",
              "      background-color: #E8F0FE;\n",
              "      border: none;\n",
              "      border-radius: 50%;\n",
              "      cursor: pointer;\n",
              "      display: none;\n",
              "      fill: #1967D2;\n",
              "      height: 32px;\n",
              "      padding: 0 0 0 0;\n",
              "      width: 32px;\n",
              "    }\n",
              "\n",
              "    .colab-df-convert:hover {\n",
              "      background-color: #E2EBFA;\n",
              "      box-shadow: 0px 1px 2px rgba(60, 64, 67, 0.3), 0px 1px 3px 1px rgba(60, 64, 67, 0.15);\n",
              "      fill: #174EA6;\n",
              "    }\n",
              "\n",
              "    [theme=dark] .colab-df-convert {\n",
              "      background-color: #3B4455;\n",
              "      fill: #D2E3FC;\n",
              "    }\n",
              "\n",
              "    [theme=dark] .colab-df-convert:hover {\n",
              "      background-color: #434B5C;\n",
              "      box-shadow: 0px 1px 3px 1px rgba(0, 0, 0, 0.15);\n",
              "      filter: drop-shadow(0px 1px 2px rgba(0, 0, 0, 0.3));\n",
              "      fill: #FFFFFF;\n",
              "    }\n",
              "  </style>\n",
              "\n",
              "      <script>\n",
              "        const buttonEl =\n",
              "          document.querySelector('#df-da20fa1b-d531-4dc0-8f6e-515fc0deb8c8 button.colab-df-convert');\n",
              "        buttonEl.style.display =\n",
              "          google.colab.kernel.accessAllowed ? 'block' : 'none';\n",
              "\n",
              "        async function convertToInteractive(key) {\n",
              "          const element = document.querySelector('#df-da20fa1b-d531-4dc0-8f6e-515fc0deb8c8');\n",
              "          const dataTable =\n",
              "            await google.colab.kernel.invokeFunction('convertToInteractive',\n",
              "                                                     [key], {});\n",
              "          if (!dataTable) return;\n",
              "\n",
              "          const docLinkHtml = 'Like what you see? Visit the ' +\n",
              "            '<a target=\"_blank\" href=https://colab.research.google.com/notebooks/data_table.ipynb>data table notebook</a>'\n",
              "            + ' to learn more about interactive tables.';\n",
              "          element.innerHTML = '';\n",
              "          dataTable['output_type'] = 'display_data';\n",
              "          await google.colab.output.renderOutput(dataTable, element);\n",
              "          const docLink = document.createElement('div');\n",
              "          docLink.innerHTML = docLinkHtml;\n",
              "          element.appendChild(docLink);\n",
              "        }\n",
              "      </script>\n",
              "    </div>\n",
              "  </div>\n",
              "  "
            ]
          },
          "metadata": {},
          "execution_count": 17
        }
      ]
    },
    {
      "cell_type": "markdown",
      "source": [
        "10) IQR (Inter Quantile Range)\n",
        "  \n",
        "    IQR = Q3-Q1           \n",
        "    Upper Threshold = Q3 + (1.5 * IQR)\n",
        "    Lower Threshold = Q1 - (1.5 * IQR)   "
      ],
      "metadata": {
        "id": "uhIsmleo24AP"
      }
    },
    {
      "cell_type": "markdown",
      "source": [
        "Year"
      ],
      "metadata": {
        "id": "cdeqbiGv3KL3"
      }
    },
    {
      "cell_type": "code",
      "source": [
        "IQR = car_price_data.Year.quantile(0.75) - car_price_data.Year.quantile(0.25)\n",
        "Upper_Threshold = car_price_data.Year.quantile(0.75) + (1.5 * IQR)\n",
        "Lower_Threshold = car_price_data.Year.quantile(0.25) - (1.5 * IQR)\n",
        "print(\"Upper_Threshold : \",Upper_Threshold)\n",
        "print(\"Lower_Threshold : \",Lower_Threshold)"
      ],
      "metadata": {
        "colab": {
          "base_uri": "https://localhost:8080/"
        },
        "id": "ZSpmTmXr2nj_",
        "outputId": "73389501-1105-45d4-9d6e-e3453189f058"
      },
      "execution_count": 18,
      "outputs": [
        {
          "output_type": "stream",
          "name": "stdout",
          "text": [
            "Upper_Threshold :  2022.0\n",
            "Lower_Threshold :  2006.0\n"
          ]
        }
      ]
    },
    {
      "cell_type": "markdown",
      "source": [
        "Present_Price"
      ],
      "metadata": {
        "id": "mqhkdvlw3i6P"
      }
    },
    {
      "cell_type": "code",
      "source": [
        "IQR = car_price_data.Present_Price.quantile(0.75) - car_price_data.Present_Price.quantile(0.25)\n",
        "Upper_Threshold = car_price_data.Present_Price.quantile(0.75) + (1.5 * IQR)\n",
        "Lower_Threshold = car_price_data.Present_Price.quantile(0.25) - (1.5 * IQR)\n",
        "print(\"Upper_Threshold : \",Upper_Threshold)\n",
        "print(\"Lower_Threshold : \",Lower_Threshold)"
      ],
      "metadata": {
        "colab": {
          "base_uri": "https://localhost:8080/"
        },
        "id": "0FGuiU5K3clX",
        "outputId": "e9df94c7-2806-41f5-edd2-109de5fbaaba"
      },
      "execution_count": 19,
      "outputs": [
        {
          "output_type": "stream",
          "name": "stdout",
          "text": [
            "Upper_Threshold :  22.8\n",
            "Lower_Threshold :  -11.760000000000002\n"
          ]
        }
      ]
    },
    {
      "cell_type": "markdown",
      "source": [
        "Kms_Driven\t"
      ],
      "metadata": {
        "id": "zWCE2LlN39HO"
      }
    },
    {
      "cell_type": "code",
      "source": [
        "IQR = car_price_data.Kms_Driven.quantile(0.75) - car_price_data.Kms_Driven.quantile(0.25)\n",
        "Upper_Threshold = car_price_data.Kms_Driven.quantile(0.75) + (1.5 * IQR)\n",
        "Lower_Threshold = car_price_data.Kms_Driven.quantile(0.25) - (1.5 * IQR)\n",
        "print(\"Upper_Threshold : \",Upper_Threshold)\n",
        "print(\"Lower_Threshold : \",Lower_Threshold)"
      ],
      "metadata": {
        "colab": {
          "base_uri": "https://localhost:8080/"
        },
        "id": "9aQA9BGy3sON",
        "outputId": "8f61416f-6d38-4ecf-bbee-c1c6e1dab480"
      },
      "execution_count": 20,
      "outputs": [
        {
          "output_type": "stream",
          "name": "stdout",
          "text": [
            "Upper_Threshold :  99708.75\n",
            "Lower_Threshold :  -35825.25\n"
          ]
        }
      ]
    },
    {
      "cell_type": "code",
      "source": [
        "car_price_data.head()"
      ],
      "metadata": {
        "colab": {
          "base_uri": "https://localhost:8080/",
          "height": 206
        },
        "id": "6-aAlsxd4U1H",
        "outputId": "97b5bbb5-3cdf-4d2e-c82f-e6a407083560"
      },
      "execution_count": 21,
      "outputs": [
        {
          "output_type": "execute_result",
          "data": {
            "text/plain": [
              "  Car_Name  Year  Selling_Price  Present_Price  Kms_Driven  Fuel_Type  \\\n",
              "0     ritz  2014           3.35           5.59       27000          1   \n",
              "1      sx4  2013           4.75           9.54       43000          2   \n",
              "2     ciaz  2017           7.25           9.85        6900          1   \n",
              "3  wagon r  2011           2.85           4.15        5200          1   \n",
              "4    swift  2014           4.60           6.87       42450          2   \n",
              "\n",
              "   Seller_Type  Transmission  Owner  \n",
              "0            1             1      0  \n",
              "1            1             1      0  \n",
              "2            1             1      0  \n",
              "3            1             1      0  \n",
              "4            1             1      0  "
            ],
            "text/html": [
              "\n",
              "  <div id=\"df-242bd204-84ef-478b-9d72-257f9a69b240\">\n",
              "    <div class=\"colab-df-container\">\n",
              "      <div>\n",
              "<style scoped>\n",
              "    .dataframe tbody tr th:only-of-type {\n",
              "        vertical-align: middle;\n",
              "    }\n",
              "\n",
              "    .dataframe tbody tr th {\n",
              "        vertical-align: top;\n",
              "    }\n",
              "\n",
              "    .dataframe thead th {\n",
              "        text-align: right;\n",
              "    }\n",
              "</style>\n",
              "<table border=\"1\" class=\"dataframe\">\n",
              "  <thead>\n",
              "    <tr style=\"text-align: right;\">\n",
              "      <th></th>\n",
              "      <th>Car_Name</th>\n",
              "      <th>Year</th>\n",
              "      <th>Selling_Price</th>\n",
              "      <th>Present_Price</th>\n",
              "      <th>Kms_Driven</th>\n",
              "      <th>Fuel_Type</th>\n",
              "      <th>Seller_Type</th>\n",
              "      <th>Transmission</th>\n",
              "      <th>Owner</th>\n",
              "    </tr>\n",
              "  </thead>\n",
              "  <tbody>\n",
              "    <tr>\n",
              "      <th>0</th>\n",
              "      <td>ritz</td>\n",
              "      <td>2014</td>\n",
              "      <td>3.35</td>\n",
              "      <td>5.59</td>\n",
              "      <td>27000</td>\n",
              "      <td>1</td>\n",
              "      <td>1</td>\n",
              "      <td>1</td>\n",
              "      <td>0</td>\n",
              "    </tr>\n",
              "    <tr>\n",
              "      <th>1</th>\n",
              "      <td>sx4</td>\n",
              "      <td>2013</td>\n",
              "      <td>4.75</td>\n",
              "      <td>9.54</td>\n",
              "      <td>43000</td>\n",
              "      <td>2</td>\n",
              "      <td>1</td>\n",
              "      <td>1</td>\n",
              "      <td>0</td>\n",
              "    </tr>\n",
              "    <tr>\n",
              "      <th>2</th>\n",
              "      <td>ciaz</td>\n",
              "      <td>2017</td>\n",
              "      <td>7.25</td>\n",
              "      <td>9.85</td>\n",
              "      <td>6900</td>\n",
              "      <td>1</td>\n",
              "      <td>1</td>\n",
              "      <td>1</td>\n",
              "      <td>0</td>\n",
              "    </tr>\n",
              "    <tr>\n",
              "      <th>3</th>\n",
              "      <td>wagon r</td>\n",
              "      <td>2011</td>\n",
              "      <td>2.85</td>\n",
              "      <td>4.15</td>\n",
              "      <td>5200</td>\n",
              "      <td>1</td>\n",
              "      <td>1</td>\n",
              "      <td>1</td>\n",
              "      <td>0</td>\n",
              "    </tr>\n",
              "    <tr>\n",
              "      <th>4</th>\n",
              "      <td>swift</td>\n",
              "      <td>2014</td>\n",
              "      <td>4.60</td>\n",
              "      <td>6.87</td>\n",
              "      <td>42450</td>\n",
              "      <td>2</td>\n",
              "      <td>1</td>\n",
              "      <td>1</td>\n",
              "      <td>0</td>\n",
              "    </tr>\n",
              "  </tbody>\n",
              "</table>\n",
              "</div>\n",
              "      <button class=\"colab-df-convert\" onclick=\"convertToInteractive('df-242bd204-84ef-478b-9d72-257f9a69b240')\"\n",
              "              title=\"Convert this dataframe to an interactive table.\"\n",
              "              style=\"display:none;\">\n",
              "        \n",
              "  <svg xmlns=\"http://www.w3.org/2000/svg\" height=\"24px\"viewBox=\"0 0 24 24\"\n",
              "       width=\"24px\">\n",
              "    <path d=\"M0 0h24v24H0V0z\" fill=\"none\"/>\n",
              "    <path d=\"M18.56 5.44l.94 2.06.94-2.06 2.06-.94-2.06-.94-.94-2.06-.94 2.06-2.06.94zm-11 1L8.5 8.5l.94-2.06 2.06-.94-2.06-.94L8.5 2.5l-.94 2.06-2.06.94zm10 10l.94 2.06.94-2.06 2.06-.94-2.06-.94-.94-2.06-.94 2.06-2.06.94z\"/><path d=\"M17.41 7.96l-1.37-1.37c-.4-.4-.92-.59-1.43-.59-.52 0-1.04.2-1.43.59L10.3 9.45l-7.72 7.72c-.78.78-.78 2.05 0 2.83L4 21.41c.39.39.9.59 1.41.59.51 0 1.02-.2 1.41-.59l7.78-7.78 2.81-2.81c.8-.78.8-2.07 0-2.86zM5.41 20L4 18.59l7.72-7.72 1.47 1.35L5.41 20z\"/>\n",
              "  </svg>\n",
              "      </button>\n",
              "      \n",
              "  <style>\n",
              "    .colab-df-container {\n",
              "      display:flex;\n",
              "      flex-wrap:wrap;\n",
              "      gap: 12px;\n",
              "    }\n",
              "\n",
              "    .colab-df-convert {\n",
              "      background-color: #E8F0FE;\n",
              "      border: none;\n",
              "      border-radius: 50%;\n",
              "      cursor: pointer;\n",
              "      display: none;\n",
              "      fill: #1967D2;\n",
              "      height: 32px;\n",
              "      padding: 0 0 0 0;\n",
              "      width: 32px;\n",
              "    }\n",
              "\n",
              "    .colab-df-convert:hover {\n",
              "      background-color: #E2EBFA;\n",
              "      box-shadow: 0px 1px 2px rgba(60, 64, 67, 0.3), 0px 1px 3px 1px rgba(60, 64, 67, 0.15);\n",
              "      fill: #174EA6;\n",
              "    }\n",
              "\n",
              "    [theme=dark] .colab-df-convert {\n",
              "      background-color: #3B4455;\n",
              "      fill: #D2E3FC;\n",
              "    }\n",
              "\n",
              "    [theme=dark] .colab-df-convert:hover {\n",
              "      background-color: #434B5C;\n",
              "      box-shadow: 0px 1px 3px 1px rgba(0, 0, 0, 0.15);\n",
              "      filter: drop-shadow(0px 1px 2px rgba(0, 0, 0, 0.3));\n",
              "      fill: #FFFFFF;\n",
              "    }\n",
              "  </style>\n",
              "\n",
              "      <script>\n",
              "        const buttonEl =\n",
              "          document.querySelector('#df-242bd204-84ef-478b-9d72-257f9a69b240 button.colab-df-convert');\n",
              "        buttonEl.style.display =\n",
              "          google.colab.kernel.accessAllowed ? 'block' : 'none';\n",
              "\n",
              "        async function convertToInteractive(key) {\n",
              "          const element = document.querySelector('#df-242bd204-84ef-478b-9d72-257f9a69b240');\n",
              "          const dataTable =\n",
              "            await google.colab.kernel.invokeFunction('convertToInteractive',\n",
              "                                                     [key], {});\n",
              "          if (!dataTable) return;\n",
              "\n",
              "          const docLinkHtml = 'Like what you see? Visit the ' +\n",
              "            '<a target=\"_blank\" href=https://colab.research.google.com/notebooks/data_table.ipynb>data table notebook</a>'\n",
              "            + ' to learn more about interactive tables.';\n",
              "          element.innerHTML = '';\n",
              "          dataTable['output_type'] = 'display_data';\n",
              "          await google.colab.output.renderOutput(dataTable, element);\n",
              "          const docLink = document.createElement('div');\n",
              "          docLink.innerHTML = docLinkHtml;\n",
              "          element.appendChild(docLink);\n",
              "        }\n",
              "      </script>\n",
              "    </div>\n",
              "  </div>\n",
              "  "
            ]
          },
          "metadata": {},
          "execution_count": 21
        }
      ]
    },
    {
      "cell_type": "markdown",
      "source": [
        "**4) EDA (Exploratory Data Analysis)**"
      ],
      "metadata": {
        "id": "br1Svj1Y4J0n"
      }
    },
    {
      "cell_type": "markdown",
      "source": [
        "Year VS Selling_Price"
      ],
      "metadata": {
        "id": "vm3IRs9MMny3"
      }
    },
    {
      "cell_type": "code",
      "source": [
        "car_price_data.plot(x=\"Year\",y=\"Selling_Price\",style=\"o\")\n",
        "plt.title(\"Year VS Selling_Price\")\n",
        "plt.xlabel(\"Year\")\n",
        "plt.ylabel(\"Selling_Price\")\n",
        "plt.show()"
      ],
      "metadata": {
        "colab": {
          "base_uri": "https://localhost:8080/",
          "height": 295
        },
        "id": "_F-7DkXB4FGY",
        "outputId": "83fec680-e5fd-4108-8dea-ef3351abfdbb"
      },
      "execution_count": 22,
      "outputs": [
        {
          "output_type": "display_data",
          "data": {
            "text/plain": [
              "<Figure size 432x288 with 1 Axes>"
            ],
            "image/png": "[encoded data removed]"
          },
          "metadata": {
            "needs_background": "light"
          }
        }
      ]
    },
    {
      "cell_type": "code",
      "source": [
        "car_price_data[[\"Year\",\"Selling_Price\"]].corr()"
      ],
      "metadata": {
        "colab": {
          "base_uri": "https://localhost:8080/",
          "height": 112
        },
        "id": "m7F9gpUcOs88",
        "outputId": "b7e893b9-f77f-41dc-e36d-4dc5072274a7"
      },
      "execution_count": 23,
      "outputs": [
        {
          "output_type": "execute_result",
          "data": {
            "text/plain": [
              "                   Year  Selling_Price\n",
              "Year           1.000000       0.234369\n",
              "Selling_Price  0.234369       1.000000"
            ],
            "text/html": [
              "\n",
              "  <div id=\"df-f4efec82-6075-4311-a3ce-9b6f10a9f4e7\">\n",
              "    <div class=\"colab-df-container\">\n",
              "      <div>\n",
              "<style scoped>\n",
              "    .dataframe tbody tr th:only-of-type {\n",
              "        vertical-align: middle;\n",
              "    }\n",
              "\n",
              "    .dataframe tbody tr th {\n",
              "        vertical-align: top;\n",
              "    }\n",
              "\n",
              "    .dataframe thead th {\n",
              "        text-align: right;\n",
              "    }\n",
              "</style>\n",
              "<table border=\"1\" class=\"dataframe\">\n",
              "  <thead>\n",
              "    <tr style=\"text-align: right;\">\n",
              "      <th></th>\n",
              "      <th>Year</th>\n",
              "      <th>Selling_Price</th>\n",
              "    </tr>\n",
              "  </thead>\n",
              "  <tbody>\n",
              "    <tr>\n",
              "      <th>Year</th>\n",
              "      <td>1.000000</td>\n",
              "      <td>0.234369</td>\n",
              "    </tr>\n",
              "    <tr>\n",
              "      <th>Selling_Price</th>\n",
              "      <td>0.234369</td>\n",
              "      <td>1.000000</td>\n",
              "    </tr>\n",
              "  </tbody>\n",
              "</table>\n",
              "</div>\n",
              "      <button class=\"colab-df-convert\" onclick=\"convertToInteractive('df-f4efec82-6075-4311-a3ce-9b6f10a9f4e7')\"\n",
              "              title=\"Convert this dataframe to an interactive table.\"\n",
              "              style=\"display:none;\">\n",
              "        \n",
              "  <svg xmlns=\"http://www.w3.org/2000/svg\" height=\"24px\"viewBox=\"0 0 24 24\"\n",
              "       width=\"24px\">\n",
              "    <path d=\"M0 0h24v24H0V0z\" fill=\"none\"/>\n",
              "    <path d=\"M18.56 5.44l.94 2.06.94-2.06 2.06-.94-2.06-.94-.94-2.06-.94 2.06-2.06.94zm-11 1L8.5 8.5l.94-2.06 2.06-.94-2.06-.94L8.5 2.5l-.94 2.06-2.06.94zm10 10l.94 2.06.94-2.06 2.06-.94-2.06-.94-.94-2.06-.94 2.06-2.06.94z\"/><path d=\"M17.41 7.96l-1.37-1.37c-.4-.4-.92-.59-1.43-.59-.52 0-1.04.2-1.43.59L10.3 9.45l-7.72 7.72c-.78.78-.78 2.05 0 2.83L4 21.41c.39.39.9.59 1.41.59.51 0 1.02-.2 1.41-.59l7.78-7.78 2.81-2.81c.8-.78.8-2.07 0-2.86zM5.41 20L4 18.59l7.72-7.72 1.47 1.35L5.41 20z\"/>\n",
              "  </svg>\n",
              "      </button>\n",
              "      \n",
              "  <style>\n",
              "    .colab-df-container {\n",
              "      display:flex;\n",
              "      flex-wrap:wrap;\n",
              "      gap: 12px;\n",
              "    }\n",
              "\n",
              "    .colab-df-convert {\n",
              "      background-color: #E8F0FE;\n",
              "      border: none;\n",
              "      border-radius: 50%;\n",
              "      cursor: pointer;\n",
              "      display: none;\n",
              "      fill: #1967D2;\n",
              "      height: 32px;\n",
              "      padding: 0 0 0 0;\n",
              "      width: 32px;\n",
              "    }\n",
              "\n",
              "    .colab-df-convert:hover {\n",
              "      background-color: #E2EBFA;\n",
              "      box-shadow: 0px 1px 2px rgba(60, 64, 67, 0.3), 0px 1px 3px 1px rgba(60, 64, 67, 0.15);\n",
              "      fill: #174EA6;\n",
              "    }\n",
              "\n",
              "    [theme=dark] .colab-df-convert {\n",
              "      background-color: #3B4455;\n",
              "      fill: #D2E3FC;\n",
              "    }\n",
              "\n",
              "    [theme=dark] .colab-df-convert:hover {\n",
              "      background-color: #434B5C;\n",
              "      box-shadow: 0px 1px 3px 1px rgba(0, 0, 0, 0.15);\n",
              "      filter: drop-shadow(0px 1px 2px rgba(0, 0, 0, 0.3));\n",
              "      fill: #FFFFFF;\n",
              "    }\n",
              "  </style>\n",
              "\n",
              "      <script>\n",
              "        const buttonEl =\n",
              "          document.querySelector('#df-f4efec82-6075-4311-a3ce-9b6f10a9f4e7 button.colab-df-convert');\n",
              "        buttonEl.style.display =\n",
              "          google.colab.kernel.accessAllowed ? 'block' : 'none';\n",
              "\n",
              "        async function convertToInteractive(key) {\n",
              "          const element = document.querySelector('#df-f4efec82-6075-4311-a3ce-9b6f10a9f4e7');\n",
              "          const dataTable =\n",
              "            await google.colab.kernel.invokeFunction('convertToInteractive',\n",
              "                                                     [key], {});\n",
              "          if (!dataTable) return;\n",
              "\n",
              "          const docLinkHtml = 'Like what you see? Visit the ' +\n",
              "            '<a target=\"_blank\" href=https://colab.research.google.com/notebooks/data_table.ipynb>data table notebook</a>'\n",
              "            + ' to learn more about interactive tables.';\n",
              "          element.innerHTML = '';\n",
              "          dataTable['output_type'] = 'display_data';\n",
              "          await google.colab.output.renderOutput(dataTable, element);\n",
              "          const docLink = document.createElement('div');\n",
              "          docLink.innerHTML = docLinkHtml;\n",
              "          element.appendChild(docLink);\n",
              "        }\n",
              "      </script>\n",
              "    </div>\n",
              "  </div>\n",
              "  "
            ]
          },
          "metadata": {},
          "execution_count": 23
        }
      ]
    },
    {
      "cell_type": "markdown",
      "source": [
        "Present_Price VS Selling_Price"
      ],
      "metadata": {
        "id": "BsSGj1GcMrWm"
      }
    },
    {
      "cell_type": "code",
      "source": [
        "car_price_data.plot(x=\"Present_Price\",y=\"Selling_Price\",style=\"o\")\n",
        "plt.title(\"Present_Price VS Selling_Price\")\n",
        "plt.xlabel(\"Present_Pricer\")\n",
        "plt.ylabel(\"Selling_Price\")\n",
        "plt.show()"
      ],
      "metadata": {
        "colab": {
          "base_uri": "https://localhost:8080/",
          "height": 296
        },
        "id": "yv8XmnX14qGP",
        "outputId": "bc3df81c-5a17-4320-fea4-bc28832ae3d3"
      },
      "execution_count": 24,
      "outputs": [
        {
          "output_type": "display_data",
          "data": {
            "text/plain": [
              "<Figure size 432x288 with 1 Axes>"
            ],
            "image/png": "[encoded data removed]"
          },
          "metadata": {
            "needs_background": "light"
          }
        }
      ]
    },
    {
      "cell_type": "code",
      "source": [
        "car_price_data[[\"Present_Price\",\"Selling_Price\"]].corr()"
      ],
      "metadata": {
        "colab": {
          "base_uri": "https://localhost:8080/",
          "height": 112
        },
        "id": "vSNA5qmVO6Ve",
        "outputId": "b6de7774-f8a9-4746-b115-bd8914b5223f"
      },
      "execution_count": 25,
      "outputs": [
        {
          "output_type": "execute_result",
          "data": {
            "text/plain": [
              "               Present_Price  Selling_Price\n",
              "Present_Price       1.000000       0.876378\n",
              "Selling_Price       0.876378       1.000000"
            ],
            "text/html": [
              "\n",
              "  <div id=\"df-6cf72a80-8af4-4bf8-a5c0-3af73a28fd4b\">\n",
              "    <div class=\"colab-df-container\">\n",
              "      <div>\n",
              "<style scoped>\n",
              "    .dataframe tbody tr th:only-of-type {\n",
              "        vertical-align: middle;\n",
              "    }\n",
              "\n",
              "    .dataframe tbody tr th {\n",
              "        vertical-align: top;\n",
              "    }\n",
              "\n",
              "    .dataframe thead th {\n",
              "        text-align: right;\n",
              "    }\n",
              "</style>\n",
              "<table border=\"1\" class=\"dataframe\">\n",
              "  <thead>\n",
              "    <tr style=\"text-align: right;\">\n",
              "      <th></th>\n",
              "      <th>Present_Price</th>\n",
              "      <th>Selling_Price</th>\n",
              "    </tr>\n",
              "  </thead>\n",
              "  <tbody>\n",
              "    <tr>\n",
              "      <th>Present_Price</th>\n",
              "      <td>1.000000</td>\n",
              "      <td>0.876378</td>\n",
              "    </tr>\n",
              "    <tr>\n",
              "      <th>Selling_Price</th>\n",
              "      <td>0.876378</td>\n",
              "      <td>1.000000</td>\n",
              "    </tr>\n",
              "  </tbody>\n",
              "</table>\n",
              "</div>\n",
              "      <button class=\"colab-df-convert\" onclick=\"convertToInteractive('df-6cf72a80-8af4-4bf8-a5c0-3af73a28fd4b')\"\n",
              "              title=\"Convert this dataframe to an interactive table.\"\n",
              "              style=\"display:none;\">\n",
              "        \n",
              "  <svg xmlns=\"http://www.w3.org/2000/svg\" height=\"24px\"viewBox=\"0 0 24 24\"\n",
              "       width=\"24px\">\n",
              "    <path d=\"M0 0h24v24H0V0z\" fill=\"none\"/>\n",
              "    <path d=\"M18.56 5.44l.94 2.06.94-2.06 2.06-.94-2.06-.94-.94-2.06-.94 2.06-2.06.94zm-11 1L8.5 8.5l.94-2.06 2.06-.94-2.06-.94L8.5 2.5l-.94 2.06-2.06.94zm10 10l.94 2.06.94-2.06 2.06-.94-2.06-.94-.94-2.06-.94 2.06-2.06.94z\"/><path d=\"M17.41 7.96l-1.37-1.37c-.4-.4-.92-.59-1.43-.59-.52 0-1.04.2-1.43.59L10.3 9.45l-7.72 7.72c-.78.78-.78 2.05 0 2.83L4 21.41c.39.39.9.59 1.41.59.51 0 1.02-.2 1.41-.59l7.78-7.78 2.81-2.81c.8-.78.8-2.07 0-2.86zM5.41 20L4 18.59l7.72-7.72 1.47 1.35L5.41 20z\"/>\n",
              "  </svg>\n",
              "      </button>\n",
              "      \n",
              "  <style>\n",
              "    .colab-df-container {\n",
              "      display:flex;\n",
              "      flex-wrap:wrap;\n",
              "      gap: 12px;\n",
              "    }\n",
              "\n",
              "    .colab-df-convert {\n",
              "      background-color: #E8F0FE;\n",
              "      border: none;\n",
              "      border-radius: 50%;\n",
              "      cursor: pointer;\n",
              "      display: none;\n",
              "      fill: #1967D2;\n",
              "      height: 32px;\n",
              "      padding: 0 0 0 0;\n",
              "      width: 32px;\n",
              "    }\n",
              "\n",
              "    .colab-df-convert:hover {\n",
              "      background-color: #E2EBFA;\n",
              "      box-shadow: 0px 1px 2px rgba(60, 64, 67, 0.3), 0px 1px 3px 1px rgba(60, 64, 67, 0.15);\n",
              "      fill: #174EA6;\n",
              "    }\n",
              "\n",
              "    [theme=dark] .colab-df-convert {\n",
              "      background-color: #3B4455;\n",
              "      fill: #D2E3FC;\n",
              "    }\n",
              "\n",
              "    [theme=dark] .colab-df-convert:hover {\n",
              "      background-color: #434B5C;\n",
              "      box-shadow: 0px 1px 3px 1px rgba(0, 0, 0, 0.15);\n",
              "      filter: drop-shadow(0px 1px 2px rgba(0, 0, 0, 0.3));\n",
              "      fill: #FFFFFF;\n",
              "    }\n",
              "  </style>\n",
              "\n",
              "      <script>\n",
              "        const buttonEl =\n",
              "          document.querySelector('#df-6cf72a80-8af4-4bf8-a5c0-3af73a28fd4b button.colab-df-convert');\n",
              "        buttonEl.style.display =\n",
              "          google.colab.kernel.accessAllowed ? 'block' : 'none';\n",
              "\n",
              "        async function convertToInteractive(key) {\n",
              "          const element = document.querySelector('#df-6cf72a80-8af4-4bf8-a5c0-3af73a28fd4b');\n",
              "          const dataTable =\n",
              "            await google.colab.kernel.invokeFunction('convertToInteractive',\n",
              "                                                     [key], {});\n",
              "          if (!dataTable) return;\n",
              "\n",
              "          const docLinkHtml = 'Like what you see? Visit the ' +\n",
              "            '<a target=\"_blank\" href=https://colab.research.google.com/notebooks/data_table.ipynb>data table notebook</a>'\n",
              "            + ' to learn more about interactive tables.';\n",
              "          element.innerHTML = '';\n",
              "          dataTable['output_type'] = 'display_data';\n",
              "          await google.colab.output.renderOutput(dataTable, element);\n",
              "          const docLink = document.createElement('div');\n",
              "          docLink.innerHTML = docLinkHtml;\n",
              "          element.appendChild(docLink);\n",
              "        }\n",
              "      </script>\n",
              "    </div>\n",
              "  </div>\n",
              "  "
            ]
          },
          "metadata": {},
          "execution_count": 25
        }
      ]
    },
    {
      "cell_type": "markdown",
      "source": [
        "Kms_Driven VS Selling_Price"
      ],
      "metadata": {
        "id": "zrIY9HPvMume"
      }
    },
    {
      "cell_type": "code",
      "source": [
        "car_price_data.plot(x=\"Kms_Driven\",y=\"Selling_Price\",style=\"o\")\n",
        "plt.title(\"Kms_Driven VS Selling_Price\")\n",
        "plt.xlabel(\"Kms_Driven\")\n",
        "plt.ylabel(\"Selling_Price\")\n",
        "plt.show()"
      ],
      "metadata": {
        "colab": {
          "base_uri": "https://localhost:8080/",
          "height": 296
        },
        "id": "W9WgMuVLMWDd",
        "outputId": "a8370d0b-50d1-427f-a288-86791e5fc385"
      },
      "execution_count": 26,
      "outputs": [
        {
          "output_type": "display_data",
          "data": {
            "text/plain": [
              "<Figure size 432x288 with 1 Axes>"
            ],
            "image/png": "[encoded data removed]"
          },
          "metadata": {
            "needs_background": "light"
          }
        }
      ]
    },
    {
      "cell_type": "code",
      "source": [
        "car_price_data[[\"Kms_Driven\",\"Selling_Price\"]].corr()"
      ],
      "metadata": {
        "colab": {
          "base_uri": "https://localhost:8080/",
          "height": 112
        },
        "id": "qM5YIWMrP1iQ",
        "outputId": "c803a8fe-7d08-43d8-84fb-d6655159d87b"
      },
      "execution_count": 27,
      "outputs": [
        {
          "output_type": "execute_result",
          "data": {
            "text/plain": [
              "               Kms_Driven  Selling_Price\n",
              "Kms_Driven       1.000000       0.028566\n",
              "Selling_Price    0.028566       1.000000"
            ],
            "text/html": [
              "\n",
              "  <div id=\"df-978ff500-83ab-4e23-b92f-8943c5b0bc13\">\n",
              "    <div class=\"colab-df-container\">\n",
              "      <div>\n",
              "<style scoped>\n",
              "    .dataframe tbody tr th:only-of-type {\n",
              "        vertical-align: middle;\n",
              "    }\n",
              "\n",
              "    .dataframe tbody tr th {\n",
              "        vertical-align: top;\n",
              "    }\n",
              "\n",
              "    .dataframe thead th {\n",
              "        text-align: right;\n",
              "    }\n",
              "</style>\n",
              "<table border=\"1\" class=\"dataframe\">\n",
              "  <thead>\n",
              "    <tr style=\"text-align: right;\">\n",
              "      <th></th>\n",
              "      <th>Kms_Driven</th>\n",
              "      <th>Selling_Price</th>\n",
              "    </tr>\n",
              "  </thead>\n",
              "  <tbody>\n",
              "    <tr>\n",
              "      <th>Kms_Driven</th>\n",
              "      <td>1.000000</td>\n",
              "      <td>0.028566</td>\n",
              "    </tr>\n",
              "    <tr>\n",
              "      <th>Selling_Price</th>\n",
              "      <td>0.028566</td>\n",
              "      <td>1.000000</td>\n",
              "    </tr>\n",
              "  </tbody>\n",
              "</table>\n",
              "</div>\n",
              "      <button class=\"colab-df-convert\" onclick=\"convertToInteractive('df-978ff500-83ab-4e23-b92f-8943c5b0bc13')\"\n",
              "              title=\"Convert this dataframe to an interactive table.\"\n",
              "              style=\"display:none;\">\n",
              "        \n",
              "  <svg xmlns=\"http://www.w3.org/2000/svg\" height=\"24px\"viewBox=\"0 0 24 24\"\n",
              "       width=\"24px\">\n",
              "    <path d=\"M0 0h24v24H0V0z\" fill=\"none\"/>\n",
              "    <path d=\"M18.56 5.44l.94 2.06.94-2.06 2.06-.94-2.06-.94-.94-2.06-.94 2.06-2.06.94zm-11 1L8.5 8.5l.94-2.06 2.06-.94-2.06-.94L8.5 2.5l-.94 2.06-2.06.94zm10 10l.94 2.06.94-2.06 2.06-.94-2.06-.94-.94-2.06-.94 2.06-2.06.94z\"/><path d=\"M17.41 7.96l-1.37-1.37c-.4-.4-.92-.59-1.43-.59-.52 0-1.04.2-1.43.59L10.3 9.45l-7.72 7.72c-.78.78-.78 2.05 0 2.83L4 21.41c.39.39.9.59 1.41.59.51 0 1.02-.2 1.41-.59l7.78-7.78 2.81-2.81c.8-.78.8-2.07 0-2.86zM5.41 20L4 18.59l7.72-7.72 1.47 1.35L5.41 20z\"/>\n",
              "  </svg>\n",
              "      </button>\n",
              "      \n",
              "  <style>\n",
              "    .colab-df-container {\n",
              "      display:flex;\n",
              "      flex-wrap:wrap;\n",
              "      gap: 12px;\n",
              "    }\n",
              "\n",
              "    .colab-df-convert {\n",
              "      background-color: #E8F0FE;\n",
              "      border: none;\n",
              "      border-radius: 50%;\n",
              "      cursor: pointer;\n",
              "      display: none;\n",
              "      fill: #1967D2;\n",
              "      height: 32px;\n",
              "      padding: 0 0 0 0;\n",
              "      width: 32px;\n",
              "    }\n",
              "\n",
              "    .colab-df-convert:hover {\n",
              "      background-color: #E2EBFA;\n",
              "      box-shadow: 0px 1px 2px rgba(60, 64, 67, 0.3), 0px 1px 3px 1px rgba(60, 64, 67, 0.15);\n",
              "      fill: #174EA6;\n",
              "    }\n",
              "\n",
              "    [theme=dark] .colab-df-convert {\n",
              "      background-color: #3B4455;\n",
              "      fill: #D2E3FC;\n",
              "    }\n",
              "\n",
              "    [theme=dark] .colab-df-convert:hover {\n",
              "      background-color: #434B5C;\n",
              "      box-shadow: 0px 1px 3px 1px rgba(0, 0, 0, 0.15);\n",
              "      filter: drop-shadow(0px 1px 2px rgba(0, 0, 0, 0.3));\n",
              "      fill: #FFFFFF;\n",
              "    }\n",
              "  </style>\n",
              "\n",
              "      <script>\n",
              "        const buttonEl =\n",
              "          document.querySelector('#df-978ff500-83ab-4e23-b92f-8943c5b0bc13 button.colab-df-convert');\n",
              "        buttonEl.style.display =\n",
              "          google.colab.kernel.accessAllowed ? 'block' : 'none';\n",
              "\n",
              "        async function convertToInteractive(key) {\n",
              "          const element = document.querySelector('#df-978ff500-83ab-4e23-b92f-8943c5b0bc13');\n",
              "          const dataTable =\n",
              "            await google.colab.kernel.invokeFunction('convertToInteractive',\n",
              "                                                     [key], {});\n",
              "          if (!dataTable) return;\n",
              "\n",
              "          const docLinkHtml = 'Like what you see? Visit the ' +\n",
              "            '<a target=\"_blank\" href=https://colab.research.google.com/notebooks/data_table.ipynb>data table notebook</a>'\n",
              "            + ' to learn more about interactive tables.';\n",
              "          element.innerHTML = '';\n",
              "          dataTable['output_type'] = 'display_data';\n",
              "          await google.colab.output.renderOutput(dataTable, element);\n",
              "          const docLink = document.createElement('div');\n",
              "          docLink.innerHTML = docLinkHtml;\n",
              "          element.appendChild(docLink);\n",
              "        }\n",
              "      </script>\n",
              "    </div>\n",
              "  </div>\n",
              "  "
            ]
          },
          "metadata": {},
          "execution_count": 27
        }
      ]
    },
    {
      "cell_type": "code",
      "source": [
        "car_price_data[\"Transformed\"] = np.log(car_price_data[\"Kms_Driven\"])\n",
        "car_price_data.plot(x=\"Transformed\",y=\"Selling_Price\",style=\"o\")\n",
        "plt.title(\"Kms_Driven VS Selling_Price\")\n",
        "plt.xlabel(\"Kms_Driven\")\n",
        "plt.ylabel(\"Selling_Price\")\n",
        "plt.show()"
      ],
      "metadata": {
        "colab": {
          "base_uri": "https://localhost:8080/",
          "height": 296
        },
        "id": "IKkTWwqQQD_J",
        "outputId": "cf06119b-18f1-4315-9b13-ce4046ad6ee9"
      },
      "execution_count": 28,
      "outputs": [
        {
          "output_type": "display_data",
          "data": {
            "text/plain": [
              "<Figure size 432x288 with 1 Axes>"
            ],
            "image/png": "[encoded data removed]"
          },
          "metadata": {
            "needs_background": "light"
          }
        }
      ]
    },
    {
      "cell_type": "code",
      "source": [
        "car_price_data[[\"Transformed\",\"Selling_Price\"]].corr()"
      ],
      "metadata": {
        "colab": {
          "base_uri": "https://localhost:8080/",
          "height": 112
        },
        "id": "ukIAJaw1QHTY",
        "outputId": "4769a1cc-227c-420d-8b1f-a1ebbda0d5ff"
      },
      "execution_count": 29,
      "outputs": [
        {
          "output_type": "execute_result",
          "data": {
            "text/plain": [
              "               Transformed  Selling_Price\n",
              "Transformed       1.000000       0.121224\n",
              "Selling_Price     0.121224       1.000000"
            ],
            "text/html": [
              "\n",
              "  <div id=\"df-cfdc1a9d-c331-465e-bac3-7f76cc8d3f34\">\n",
              "    <div class=\"colab-df-container\">\n",
              "      <div>\n",
              "<style scoped>\n",
              "    .dataframe tbody tr th:only-of-type {\n",
              "        vertical-align: middle;\n",
              "    }\n",
              "\n",
              "    .dataframe tbody tr th {\n",
              "        vertical-align: top;\n",
              "    }\n",
              "\n",
              "    .dataframe thead th {\n",
              "        text-align: right;\n",
              "    }\n",
              "</style>\n",
              "<table border=\"1\" class=\"dataframe\">\n",
              "  <thead>\n",
              "    <tr style=\"text-align: right;\">\n",
              "      <th></th>\n",
              "      <th>Transformed</th>\n",
              "      <th>Selling_Price</th>\n",
              "    </tr>\n",
              "  </thead>\n",
              "  <tbody>\n",
              "    <tr>\n",
              "      <th>Transformed</th>\n",
              "      <td>1.000000</td>\n",
              "      <td>0.121224</td>\n",
              "    </tr>\n",
              "    <tr>\n",
              "      <th>Selling_Price</th>\n",
              "      <td>0.121224</td>\n",
              "      <td>1.000000</td>\n",
              "    </tr>\n",
              "  </tbody>\n",
              "</table>\n",
              "</div>\n",
              "      <button class=\"colab-df-convert\" onclick=\"convertToInteractive('df-cfdc1a9d-c331-465e-bac3-7f76cc8d3f34')\"\n",
              "              title=\"Convert this dataframe to an interactive table.\"\n",
              "              style=\"display:none;\">\n",
              "        \n",
              "  <svg xmlns=\"http://www.w3.org/2000/svg\" height=\"24px\"viewBox=\"0 0 24 24\"\n",
              "       width=\"24px\">\n",
              "    <path d=\"M0 0h24v24H0V0z\" fill=\"none\"/>\n",
              "    <path d=\"M18.56 5.44l.94 2.06.94-2.06 2.06-.94-2.06-.94-.94-2.06-.94 2.06-2.06.94zm-11 1L8.5 8.5l.94-2.06 2.06-.94-2.06-.94L8.5 2.5l-.94 2.06-2.06.94zm10 10l.94 2.06.94-2.06 2.06-.94-2.06-.94-.94-2.06-.94 2.06-2.06.94z\"/><path d=\"M17.41 7.96l-1.37-1.37c-.4-.4-.92-.59-1.43-.59-.52 0-1.04.2-1.43.59L10.3 9.45l-7.72 7.72c-.78.78-.78 2.05 0 2.83L4 21.41c.39.39.9.59 1.41.59.51 0 1.02-.2 1.41-.59l7.78-7.78 2.81-2.81c.8-.78.8-2.07 0-2.86zM5.41 20L4 18.59l7.72-7.72 1.47 1.35L5.41 20z\"/>\n",
              "  </svg>\n",
              "      </button>\n",
              "      \n",
              "  <style>\n",
              "    .colab-df-container {\n",
              "      display:flex;\n",
              "      flex-wrap:wrap;\n",
              "      gap: 12px;\n",
              "    }\n",
              "\n",
              "    .colab-df-convert {\n",
              "      background-color: #E8F0FE;\n",
              "      border: none;\n",
              "      border-radius: 50%;\n",
              "      cursor: pointer;\n",
              "      display: none;\n",
              "      fill: #1967D2;\n",
              "      height: 32px;\n",
              "      padding: 0 0 0 0;\n",
              "      width: 32px;\n",
              "    }\n",
              "\n",
              "    .colab-df-convert:hover {\n",
              "      background-color: #E2EBFA;\n",
              "      box-shadow: 0px 1px 2px rgba(60, 64, 67, 0.3), 0px 1px 3px 1px rgba(60, 64, 67, 0.15);\n",
              "      fill: #174EA6;\n",
              "    }\n",
              "\n",
              "    [theme=dark] .colab-df-convert {\n",
              "      background-color: #3B4455;\n",
              "      fill: #D2E3FC;\n",
              "    }\n",
              "\n",
              "    [theme=dark] .colab-df-convert:hover {\n",
              "      background-color: #434B5C;\n",
              "      box-shadow: 0px 1px 3px 1px rgba(0, 0, 0, 0.15);\n",
              "      filter: drop-shadow(0px 1px 2px rgba(0, 0, 0, 0.3));\n",
              "      fill: #FFFFFF;\n",
              "    }\n",
              "  </style>\n",
              "\n",
              "      <script>\n",
              "        const buttonEl =\n",
              "          document.querySelector('#df-cfdc1a9d-c331-465e-bac3-7f76cc8d3f34 button.colab-df-convert');\n",
              "        buttonEl.style.display =\n",
              "          google.colab.kernel.accessAllowed ? 'block' : 'none';\n",
              "\n",
              "        async function convertToInteractive(key) {\n",
              "          const element = document.querySelector('#df-cfdc1a9d-c331-465e-bac3-7f76cc8d3f34');\n",
              "          const dataTable =\n",
              "            await google.colab.kernel.invokeFunction('convertToInteractive',\n",
              "                                                     [key], {});\n",
              "          if (!dataTable) return;\n",
              "\n",
              "          const docLinkHtml = 'Like what you see? Visit the ' +\n",
              "            '<a target=\"_blank\" href=https://colab.research.google.com/notebooks/data_table.ipynb>data table notebook</a>'\n",
              "            + ' to learn more about interactive tables.';\n",
              "          element.innerHTML = '';\n",
              "          dataTable['output_type'] = 'display_data';\n",
              "          await google.colab.output.renderOutput(dataTable, element);\n",
              "          const docLink = document.createElement('div');\n",
              "          docLink.innerHTML = docLinkHtml;\n",
              "          element.appendChild(docLink);\n",
              "        }\n",
              "      </script>\n",
              "    </div>\n",
              "  </div>\n",
              "  "
            ]
          },
          "metadata": {},
          "execution_count": 29
        }
      ]
    },
    {
      "cell_type": "markdown",
      "source": [
        "**5) Train and Test Split**"
      ],
      "metadata": {
        "id": "n3IUZwSJNW66"
      }
    },
    {
      "cell_type": "code",
      "source": [
        "car_price_data.columns"
      ],
      "metadata": {
        "colab": {
          "base_uri": "https://localhost:8080/"
        },
        "id": "r_JE58SjQ29n",
        "outputId": "3ba1d2f5-1053-47ec-eaf1-2c21e62b16b6"
      },
      "execution_count": 30,
      "outputs": [
        {
          "output_type": "execute_result",
          "data": {
            "text/plain": [
              "Index(['Car_Name', 'Year', 'Selling_Price', 'Present_Price', 'Kms_Driven',\n",
              "       'Fuel_Type', 'Seller_Type', 'Transmission', 'Owner', 'Transformed'],\n",
              "      dtype='object')"
            ]
          },
          "metadata": {},
          "execution_count": 30
        }
      ]
    },
    {
      "cell_type": "code",
      "source": [
        "X = car_price_data[[\"Year\",\"Present_Price\",\"Fuel_Type\",\"Seller_Type\",\"Transmission\",\"Owner\",\"Transformed\"]]\n",
        "y = car_price_data[\"Selling_Price\"]"
      ],
      "metadata": {
        "id": "pqBw6J39N8OL"
      },
      "execution_count": 31,
      "outputs": []
    },
    {
      "cell_type": "code",
      "source": [
        "from sklearn.model_selection import train_test_split\n",
        "X_train,X_test,y_train,y_test = train_test_split(X,y,test_size=0.25,random_state=7)"
      ],
      "metadata": {
        "id": "zk8v2MReOV_a"
      },
      "execution_count": 32,
      "outputs": []
    },
    {
      "cell_type": "markdown",
      "source": [
        "**6) Standard Scaler**"
      ],
      "metadata": {
        "id": "wZuQMBlYPUU1"
      }
    },
    {
      "cell_type": "code",
      "source": [
        "from sklearn.preprocessing import StandardScaler\n",
        "scaler = StandardScaler()\n",
        "scaler.fit_transform(X_train)\n",
        "scaler.transform(X_test)"
      ],
      "metadata": {
        "colab": {
          "base_uri": "https://localhost:8080/"
        },
        "id": "fAf8wu3BOlwU",
        "outputId": "9d1b6e3b-6da6-472a-b910-eff1d89efb01"
      },
      "execution_count": 33,
      "outputs": [
        {
          "output_type": "execute_result",
          "data": {
            "text/plain": [
              "array([[-8.77399689e-01,  3.02960241e-01, -5.03498478e-01,\n",
              "        -7.38124370e-01, -4.00776448e-01, -1.65900379e-01,\n",
              "         1.00706500e+00],\n",
              "       [ 1.53391554e-01, -2.54446349e-02, -5.03498478e-01,\n",
              "        -7.38124370e-01, -4.00776448e-01, -1.65900379e-01,\n",
              "         2.91047328e-01],\n",
              "       [ 4.96988635e-01, -1.66189582e-01, -5.03498478e-01,\n",
              "        -7.38124370e-01, -4.00776448e-01, -1.65900379e-01,\n",
              "        -5.67588732e-01],\n",
              "       [ 1.53391554e-01, -7.81805691e-01, -5.03498478e-01,\n",
              "         1.35478524e+00,  2.49515660e+00, -1.65900379e-01,\n",
              "        -2.93602930e-01],\n",
              "       [ 4.96988635e-01, -3.34396957e-01, -5.03498478e-01,\n",
              "        -7.38124370e-01, -4.00776448e-01, -1.65900379e-01,\n",
              "         1.06048928e-01],\n",
              "       [ 8.40585716e-01, -6.23896726e-01, -5.03498478e-01,\n",
              "         1.35478524e+00, -4.00776448e-01, -1.65900379e-01,\n",
              "        -2.14808496e+00],\n",
              "       [ 8.40585716e-01, -7.49766191e-01, -5.03498478e-01,\n",
              "         1.35478524e+00, -4.00776448e-01, -1.65900379e-01,\n",
              "        -1.29681400e+00],\n",
              "       [ 4.96988635e-01,  6.56539011e-01,  1.79820885e+00,\n",
              "        -7.38124370e-01, -4.00776448e-01, -1.65900379e-01,\n",
              "         8.62966524e-01],\n",
              "       [-8.77399689e-01, -3.66436458e-01, -5.03498478e-01,\n",
              "        -7.38124370e-01, -4.00776448e-01, -1.65900379e-01,\n",
              "        -1.59545938e+00],\n",
              "       [ 1.18418280e+00, -7.41756316e-01, -5.03498478e-01,\n",
              "         1.35478524e+00, -4.00776448e-01, -1.65900379e-01,\n",
              "        -8.42709457e-01],\n",
              "       [-5.33802608e-01,  2.34304170e-01,  1.79820885e+00,\n",
              "        -7.38124370e-01, -4.00776448e-01, -1.65900379e-01,\n",
              "         1.03081939e+00],\n",
              "       [ 4.96988635e-01,  2.34304170e-01, -5.03498478e-01,\n",
              "        -7.38124370e-01, -4.00776448e-01, -1.65900379e-01,\n",
              "         3.48473766e-01],\n",
              "       [-8.77399689e-01,  5.86738671e-01,  1.79820885e+00,\n",
              "        -7.38124370e-01, -4.00776448e-01, -1.65900379e-01,\n",
              "         5.72663669e-01],\n",
              "       [-2.93898218e+00,  7.26339350e-01, -5.03498478e-01,\n",
              "        -7.38124370e-01, -4.00776448e-01, -1.65900379e-01,\n",
              "         1.08588463e+00],\n",
              "       [ 1.53391554e-01, -6.32054743e-02, -5.03498478e-01,\n",
              "        -7.38124370e-01, -4.00776448e-01,  6.02771377e+00,\n",
              "         4.41308966e-01],\n",
              "       [ 4.96988635e-01,  7.14896671e-01, -5.03498478e-01,\n",
              "        -7.38124370e-01, -4.00776448e-01, -1.65900379e-01,\n",
              "         2.91047328e-01],\n",
              "       [-1.22099677e+00,  2.91517563e-01, -5.03498478e-01,\n",
              "        -7.38124370e-01, -4.00776448e-01, -1.65900379e-01,\n",
              "         4.02794516e-01],\n",
              "       [-1.22099677e+00, -7.21159495e-01, -5.03498478e-01,\n",
              "         1.35478524e+00, -4.00776448e-01, -1.65900379e-01,\n",
              "         2.13458322e+00],\n",
              "       [ 4.96988635e-01, -6.23896726e-01, -5.03498478e-01,\n",
              "         1.35478524e+00, -4.00776448e-01, -1.65900379e-01,\n",
              "        -6.00416557e-01],\n",
              "       [ 8.40585716e-01, -6.37627941e-01, -5.03498478e-01,\n",
              "         1.35478524e+00, -4.00776448e-01, -1.65900379e-01,\n",
              "        -1.45168752e+00],\n",
              "       [ 8.40585716e-01, -6.81110119e-01, -5.03498478e-01,\n",
              "         1.35478524e+00, -4.00776448e-01, -1.65900379e-01,\n",
              "         3.20170792e-01],\n",
              "       [ 4.96988635e-01, -9.42488484e-03, -5.03498478e-01,\n",
              "        -7.38124370e-01, -4.00776448e-01, -1.65900379e-01,\n",
              "         4.67652192e-01],\n",
              "       [ 1.53391554e-01, -4.46535208e-01, -5.03498478e-01,\n",
              "         1.35478524e+00, -4.00776448e-01,  6.02771377e+00,\n",
              "        -4.35343065e-01],\n",
              "       [ 1.18418280e+00, -6.58224762e-01, -5.03498478e-01,\n",
              "         1.35478524e+00, -4.00776448e-01, -1.65900379e-01,\n",
              "        -3.06867231e+00],\n",
              "       [ 1.18418280e+00,  2.85796223e-01, -5.03498478e-01,\n",
              "        -7.38124370e-01, -4.00776448e-01, -1.65900379e-01,\n",
              "        -1.31127021e+00],\n",
              "       [ 8.40585716e-01, -3.34396957e-01, -5.03498478e-01,\n",
              "        -7.38124370e-01, -4.00776448e-01, -1.65900379e-01,\n",
              "        -7.68012624e-01],\n",
              "       [-1.90205527e-01, -1.89074939e-01,  1.79820885e+00,\n",
              "        -7.38124370e-01, -4.00776448e-01, -1.65900379e-01,\n",
              "         7.37060374e-01],\n",
              "       [ 4.96988635e-01, -6.32054743e-02, -5.03498478e-01,\n",
              "        -7.38124370e-01, -4.00776448e-01, -1.65900379e-01,\n",
              "         3.48473766e-01],\n",
              "       [-1.90205527e-01, -7.03995477e-01, -5.03498478e-01,\n",
              "         1.35478524e+00, -4.00776448e-01, -1.65900379e-01,\n",
              "         2.30138429e-01],\n",
              "       [ 1.18418280e+00,  1.54205419e-01, -5.03498478e-01,\n",
              "        -7.38124370e-01, -4.00776448e-01, -1.65900379e-01,\n",
              "        -1.83526975e-01],\n",
              "       [ 8.40585716e-01, -6.97129870e-01, -5.03498478e-01,\n",
              "         1.35478524e+00, -4.00776448e-01, -1.65900379e-01,\n",
              "        -1.50322133e+00],\n",
              "       [-5.33802608e-01, -6.41060744e-01, -5.03498478e-01,\n",
              "         1.35478524e+00, -4.00776448e-01, -1.65900379e-01,\n",
              "        -7.98049253e-01],\n",
              "       [ 1.53391554e-01, -7.68074477e-01, -5.03498478e-01,\n",
              "         1.35478524e+00, -4.00776448e-01, -1.65900379e-01,\n",
              "        -6.22179627e-01],\n",
              "       [-5.33802608e-01,  2.34304170e-01,  1.79820885e+00,\n",
              "        -7.38124370e-01, -4.00776448e-01, -1.65900379e-01,\n",
              "         8.61694723e-01],\n",
              "       [-1.90205527e-01,  2.34304170e-01, -5.03498478e-01,\n",
              "        -7.38124370e-01, -4.00776448e-01, -1.65900379e-01,\n",
              "         8.65722141e-01],\n",
              "       [ 8.40585716e-01, -7.78372888e-01, -5.03498478e-01,\n",
              "         1.35478524e+00, -4.00776448e-01, -1.65900379e-01,\n",
              "        -3.25184880e+00],\n",
              "       [ 8.40585716e-01, -4.11062904e-01, -5.03498478e-01,\n",
              "        -7.38124370e-01, -4.00776448e-01, -1.65900379e-01,\n",
              "        -9.30560702e-01],\n",
              "       [ 1.53391554e-01, -6.32054743e-02, -5.03498478e-01,\n",
              "        -7.38124370e-01, -4.00776448e-01, -1.65900379e-01,\n",
              "        -4.35343065e-01],\n",
              "       [ 1.53391554e-01, -6.77825458e-02, -5.03498478e-01,\n",
              "        -7.38124370e-01, -4.00776448e-01, -1.65900379e-01,\n",
              "         4.54328332e-01],\n",
              "       [ 1.18418280e+00, -6.73100244e-01, -5.03498478e-01,\n",
              "         1.35478524e+00, -4.00776448e-01, -1.65900379e-01,\n",
              "        -1.83424551e+00],\n",
              "       [ 4.96988635e-01, -2.54446349e-02, -5.03498478e-01,\n",
              "        -7.38124370e-01, -4.00776448e-01,  6.02771377e+00,\n",
              "         3.44727112e-01],\n",
              "       [-2.93898218e+00, -7.76084352e-01, -5.03498478e-01,\n",
              "         1.35478524e+00, -4.00776448e-01, -1.65900379e-01,\n",
              "         7.74275337e-01],\n",
              "       [-1.22099677e+00,  7.18181333e-02, -5.03498478e-01,\n",
              "        -7.38124370e-01, -4.00776448e-01, -1.65900379e-01,\n",
              "         4.89909805e-01],\n",
              "       [ 8.40585716e-01, -3.34396957e-01, -5.03498478e-01,\n",
              "        -7.38124370e-01, -4.00776448e-01, -1.65900379e-01,\n",
              "        -7.14276656e-01],\n",
              "       [ 4.96988635e-01, -7.45189120e-01, -5.03498478e-01,\n",
              "         1.35478524e+00, -4.00776448e-01, -1.65900379e-01,\n",
              "         8.27634202e-01],\n",
              "       [ 8.40585716e-01,  7.14896671e-01, -5.03498478e-01,\n",
              "        -7.38124370e-01, -4.00776448e-01, -1.65900379e-01,\n",
              "        -8.44537827e-01],\n",
              "       [-5.33802608e-01, -7.46333388e-01, -5.03498478e-01,\n",
              "         1.35478524e+00, -4.00776448e-01, -1.65900379e-01,\n",
              "        -1.53910690e+00],\n",
              "       [-1.90819093e+00, -7.55487530e-01, -5.03498478e-01,\n",
              "         1.35478524e+00, -4.00776448e-01,  6.02771377e+00,\n",
              "         2.15254138e-02],\n",
              "       [ 1.53391554e-01, -4.45390940e-01, -5.03498478e-01,\n",
              "        -7.38124370e-01, -4.00776448e-01, -1.65900379e-01,\n",
              "         5.78895699e-01],\n",
              "       [ 1.18418280e+00, -6.33050869e-01, -5.03498478e-01,\n",
              "         1.35478524e+00, -4.00776448e-01, -1.65900379e-01,\n",
              "        -2.91379880e+00],\n",
              "       [-5.33802608e-01,  2.34304170e-01, -5.03498478e-01,\n",
              "        -7.38124370e-01, -4.00776448e-01, -1.65900379e-01,\n",
              "         3.51260700e-01],\n",
              "       [ 8.40585716e-01, -7.33746441e-01, -5.03498478e-01,\n",
              "         1.35478524e+00, -4.00776448e-01, -1.65900379e-01,\n",
              "        -5.88926255e-02],\n",
              "       [ 1.18418280e+00, -7.81805691e-01, -5.03498478e-01,\n",
              "         1.35478524e+00, -4.00776448e-01, -1.65900379e-01,\n",
              "        -5.31100168e-01],\n",
              "       [ 1.18418280e+00,  1.80767248e+00, -5.03498478e-01,\n",
              "        -7.38124370e-01,  2.49515660e+00, -1.65900379e-01,\n",
              "        -8.42709457e-01],\n",
              "       [ 4.96988635e-01,  3.97786332e-02, -5.03498478e-01,\n",
              "        -7.38124370e-01, -4.00776448e-01, -1.65900379e-01,\n",
              "         4.68989763e-01],\n",
              "       [-1.22099677e+00,  1.49872016e+00,  1.79820885e+00,\n",
              "        -7.38124370e-01, -4.00776448e-01, -1.65900379e-01,\n",
              "         8.44808794e-01],\n",
              "       [ 8.40585716e-01,  2.83359546e-02, -5.03498478e-01,\n",
              "        -7.38124370e-01, -4.00776448e-01, -1.65900379e-01,\n",
              "        -1.29681400e+00],\n",
              "       [ 1.18418280e+00,  2.06398848e+00,  1.79820885e+00,\n",
              "        -7.38124370e-01,  2.49515660e+00, -1.65900379e-01,\n",
              "        -5.31100168e-01],\n",
              "       [-5.33802608e-01,  7.30916422e-01, -5.03498478e-01,\n",
              "        -7.38124370e-01, -4.00776448e-01, -1.65900379e-01,\n",
              "         7.92378334e-01],\n",
              "       [ 1.53391554e-01,  7.14896671e-01, -5.03498478e-01,\n",
              "        -7.38124370e-01, -4.00776448e-01, -1.65900379e-01,\n",
              "         4.57488128e-01],\n",
              "       [-1.90819093e+00, -7.55487530e-01, -5.03498478e-01,\n",
              "         1.35478524e+00, -4.00776448e-01, -1.65900379e-01,\n",
              "         8.61694723e-01],\n",
              "       [ 8.40585716e-01,  2.06398848e+00,  1.79820885e+00,\n",
              "        -7.38124370e-01,  2.49515660e+00, -1.65900379e-01,\n",
              "         1.31236757e-01],\n",
              "       [ 1.18418280e+00, -7.41756316e-01, -5.03498478e-01,\n",
              "         1.35478524e+00, -4.00776448e-01, -1.65900379e-01,\n",
              "        -2.14808496e+00],\n",
              "       [-1.90205527e-01,  2.34304170e-01,  1.79820885e+00,\n",
              "        -7.38124370e-01, -4.00776448e-01, -1.65900379e-01,\n",
              "         6.58220794e-01],\n",
              "       [-5.33802608e-01,  2.66129630e+00,  1.79820885e+00,\n",
              "        -7.38124370e-01,  2.49515660e+00, -1.65900379e-01,\n",
              "         1.25783542e+00],\n",
              "       [ 8.40585716e-01,  7.14896671e-01, -5.03498478e-01,\n",
              "        -7.38124370e-01, -4.00776448e-01, -1.65900379e-01,\n",
              "         6.69678382e-01],\n",
              "       [-2.59538510e+00,  1.87404002e+00, -5.03498478e-01,\n",
              "         1.35478524e+00,  2.49515660e+00,  1.84149421e+01,\n",
              "         1.72721683e+00],\n",
              "       [-8.77399689e-01, -7.21159495e-01, -5.03498478e-01,\n",
              "         1.35478524e+00, -4.00776448e-01, -1.65900379e-01,\n",
              "         1.65297277e-01],\n",
              "       [ 8.40585716e-01,  7.14896671e-01, -5.03498478e-01,\n",
              "        -7.38124370e-01, -4.00776448e-01, -1.65900379e-01,\n",
              "         1.38932917e-01],\n",
              "       [ 1.53391554e-01, -1.08976189e-01, -5.03498478e-01,\n",
              "        -7.38124370e-01, -4.00776448e-01, -1.65900379e-01,\n",
              "        -2.93602930e-01],\n",
              "       [-8.77399689e-01, -2.70317957e-01, -5.03498478e-01,\n",
              "        -7.38124370e-01, -4.00776448e-01, -1.65900379e-01,\n",
              "        -2.42069114e-01],\n",
              "       [ 4.96988635e-01,  3.27347961e+00,  1.79820885e+00,\n",
              "        -7.38124370e-01,  2.49515660e+00, -1.65900379e-01,\n",
              "         6.16352688e-01],\n",
              "       [-1.90205527e-01,  2.91517563e-01, -5.03498478e-01,\n",
              "        -7.38124370e-01, -4.00776448e-01, -1.65900379e-01,\n",
              "         8.04876824e-01],\n",
              "       [ 1.53391554e-01,  9.99819369e-01,  1.79820885e+00,\n",
              "        -7.38124370e-01, -4.00776448e-01, -1.65900379e-01,\n",
              "         8.31817460e-01],\n",
              "       [ 4.96988635e-01,  2.66129630e+00,  1.79820885e+00,\n",
              "        -7.38124370e-01,  2.49515660e+00, -1.65900379e-01,\n",
              "         4.54328332e-01]])"
            ]
          },
          "metadata": {},
          "execution_count": 33
        }
      ]
    },
    {
      "cell_type": "markdown",
      "source": [
        "**7) Modelling**"
      ],
      "metadata": {
        "id": "Lbo5RAZ3ROju"
      }
    },
    {
      "cell_type": "markdown",
      "source": [
        "1) Linear Regression"
      ],
      "metadata": {
        "id": "ekfeD3t0RXJH"
      }
    },
    {
      "cell_type": "code",
      "source": [
        "from sklearn.linear_model import LinearRegression\n",
        "lin_reg = LinearRegression()\n",
        "lin_reg.fit(X_train,y_train)"
      ],
      "metadata": {
        "colab": {
          "base_uri": "https://localhost:8080/"
        },
        "id": "cSSeMdXIRM3S",
        "outputId": "8cfd2b32-c7d9-4cb2-b65a-ead72dd13c5d"
      },
      "execution_count": 34,
      "outputs": [
        {
          "output_type": "execute_result",
          "data": {
            "text/plain": [
              "LinearRegression()"
            ]
          },
          "metadata": {},
          "execution_count": 34
        }
      ]
    },
    {
      "cell_type": "markdown",
      "source": [
        "2) Lasso Regression"
      ],
      "metadata": {
        "id": "4xjlWWgxRs84"
      }
    },
    {
      "cell_type": "code",
      "source": [
        "from sklearn.linear_model import Lasso\n",
        "lasso = Lasso()\n",
        "lasso.fit(X_train,y_train)"
      ],
      "metadata": {
        "colab": {
          "base_uri": "https://localhost:8080/"
        },
        "id": "UHvTKd_lRcED",
        "outputId": "e6985fcf-fc9e-41d1-e798-debc0ac768b0"
      },
      "execution_count": 35,
      "outputs": [
        {
          "output_type": "execute_result",
          "data": {
            "text/plain": [
              "Lasso()"
            ]
          },
          "metadata": {},
          "execution_count": 35
        }
      ]
    },
    {
      "cell_type": "markdown",
      "source": [
        "**8) Making Prediction**"
      ],
      "metadata": {
        "id": "22frpLKRR2vZ"
      }
    },
    {
      "cell_type": "markdown",
      "source": [
        "1) Linear Regression"
      ],
      "metadata": {
        "id": "PFEl-GNxSGq1"
      }
    },
    {
      "cell_type": "markdown",
      "source": [
        "y = β0 + β1x1 +β2x2 +.....+ βnxn         \n",
        "\n",
        "y -> Predict Target                \n",
        "x1,x2 -> Features                      \n",
        "β1,β2,βn -> Parameters                          \n",
        "\n",
        "m -> coef_                         \n",
        "c -> intercept_                        "
      ],
      "metadata": {
        "id": "Nn6habwSR8q0"
      }
    },
    {
      "cell_type": "code",
      "source": [
        "lin_reg.coef_"
      ],
      "metadata": {
        "colab": {
          "base_uri": "https://localhost:8080/"
        },
        "id": "tB9YD01JRwIH",
        "outputId": "76e7a28b-ddcc-4e46-ee73-0b30f01179c6"
      },
      "execution_count": 36,
      "outputs": [
        {
          "output_type": "execute_result",
          "data": {
            "text/plain": [
              "array([ 0.40341599,  0.42602279,  1.349536  , -1.29507774,  0.73582753,\n",
              "        0.54764781, -0.23369503])"
            ]
          },
          "metadata": {},
          "execution_count": 36
        }
      ]
    },
    {
      "cell_type": "code",
      "source": [
        "lin_reg.intercept_"
      ],
      "metadata": {
        "colab": {
          "base_uri": "https://localhost:8080/"
        },
        "id": "cbvYhK5QSCJG",
        "outputId": "985cfa3b-d6b1-478a-bc23-7a232540fbd0"
      },
      "execution_count": 37,
      "outputs": [
        {
          "output_type": "execute_result",
          "data": {
            "text/plain": [
              "-809.3358716297938"
            ]
          },
          "metadata": {},
          "execution_count": 37
        }
      ]
    },
    {
      "cell_type": "code",
      "source": [
        "lin_reg.predict([[2017,9.54,2,1,1,0,8.839277]])"
      ],
      "metadata": {
        "colab": {
          "base_uri": "https://localhost:8080/"
        },
        "id": "jBLraIqsSFIm",
        "outputId": "ee8d2f5c-b606-4e7b-ad7f-1eb420ef4925"
      },
      "execution_count": 38,
      "outputs": [
        {
          "output_type": "execute_result",
          "data": {
            "text/plain": [
              "array([8.49257175])"
            ]
          },
          "metadata": {},
          "execution_count": 38
        }
      ]
    },
    {
      "cell_type": "markdown",
      "source": [
        "2) Lasso Regression"
      ],
      "metadata": {
        "id": "AfE3hfNKS13D"
      }
    },
    {
      "cell_type": "code",
      "source": [
        "lasso.coef_"
      ],
      "metadata": {
        "colab": {
          "base_uri": "https://localhost:8080/"
        },
        "id": "p1L9WPg-S_qB",
        "outputId": "c9621937-892b-4638-e908-77c1dce3b1fe"
      },
      "execution_count": 39,
      "outputs": [
        {
          "output_type": "execute_result",
          "data": {
            "text/plain": [
              "array([ 0.3573521 ,  0.47184447,  0.        , -0.        ,  0.        ,\n",
              "        0.        , -0.        ])"
            ]
          },
          "metadata": {},
          "execution_count": 39
        }
      ]
    },
    {
      "cell_type": "code",
      "source": [
        "lasso.intercept_"
      ],
      "metadata": {
        "colab": {
          "base_uri": "https://localhost:8080/"
        },
        "id": "YM8EGyNAS_si",
        "outputId": "d04232a7-aa8b-4104-b53f-3c0a1185dd8a"
      },
      "execution_count": 40,
      "outputs": [
        {
          "output_type": "execute_result",
          "data": {
            "text/plain": [
              "-718.5461074367051"
            ]
          },
          "metadata": {},
          "execution_count": 40
        }
      ]
    },
    {
      "cell_type": "code",
      "source": [
        "lasso.predict([[2017,9.54,2,1,1,0,8.839277]])"
      ],
      "metadata": {
        "colab": {
          "base_uri": "https://localhost:8080/"
        },
        "id": "U4ZFD7D7ST88",
        "outputId": "d77edc03-61a1-4009-bdb9-37f8ae8763ec"
      },
      "execution_count": 41,
      "outputs": [
        {
          "output_type": "execute_result",
          "data": {
            "text/plain": [
              "array([6.73448111])"
            ]
          },
          "metadata": {},
          "execution_count": 41
        }
      ]
    },
    {
      "cell_type": "markdown",
      "source": [
        "**9) Compare Actual and Predicted Scores**"
      ],
      "metadata": {
        "id": "3oZWJQ_uTJzE"
      }
    },
    {
      "cell_type": "markdown",
      "source": [
        "1) Linear Regression"
      ],
      "metadata": {
        "id": "RGGEnHCxTNur"
      }
    },
    {
      "cell_type": "code",
      "source": [
        "y_pred_1 = lin_reg.predict(X_test)\n",
        "y_pred_1"
      ],
      "metadata": {
        "colab": {
          "base_uri": "https://localhost:8080/"
        },
        "id": "DG0aDAP9S-QF",
        "outputId": "51501b3f-1a87-4c29-aff1-0a57450c9b87"
      },
      "execution_count": 42,
      "outputs": [
        {
          "output_type": "execute_result",
          "data": {
            "text/plain": [
              "array([ 4.37925556,  4.53336695,  4.61249737,  1.29409829,  3.82955284,\n",
              "        2.38437472,  1.71774035,  8.69238387,  2.49238067,  2.04535126,\n",
              "        5.87106851,  5.89049703,  6.8863717 ,  3.51671012,  4.90547573,\n",
              "        7.69315037,  4.07379321, -1.39440773,  1.62096437,  2.17126693,\n",
              "        1.59723638,  4.95534707,  2.3871347 ,  2.87411647,  7.27510289,\n",
              "        4.43627933,  4.7665298 ,  4.78283778,  0.32272575,  6.52285873,\n",
              "        1.96172207,  0.39278319,  0.68582185,  5.91040763,  4.96335083,\n",
              "        2.06598419,  4.18865344,  4.56174097,  4.33775865,  2.5316005 ,\n",
              "        5.4719446 , -3.29956515,  3.23556607,  4.42378011,  0.83720944,\n",
              "        8.36070838,  0.17321544, -1.28989237,  2.90290854,  2.93181724,\n",
              "        4.67960079,  1.48943768,  1.82376162, 13.56804424,  5.13822575,\n",
              "        9.81505518,  5.90977305, 15.79938961,  6.42593382,  7.25101953,\n",
              "       -2.03296719, 15.24191119,  2.34898724,  6.36115254, 15.59003445,\n",
              "        8.00849515,  9.12765125, -0.53292732,  8.13194884,  4.35836249,\n",
              "        2.53543539, 19.22871599,  5.19051511,  9.57428165, 16.98718165])"
            ]
          },
          "metadata": {},
          "execution_count": 42
        }
      ]
    },
    {
      "cell_type": "code",
      "source": [
        "df = pd.DataFrame({\"Actual\": y_test,\"Prediction\" :y_pred_1})\n",
        "df"
      ],
      "metadata": {
        "colab": {
          "base_uri": "https://localhost:8080/",
          "height": 424
        },
        "id": "uM5ClxPDTY1Z",
        "outputId": "42d184b6-4fab-43f8-cf5c-7d28b0448cf3"
      },
      "execution_count": 43,
      "outputs": [
        {
          "output_type": "execute_result",
          "data": {
            "text/plain": [
              "     Actual  Prediction\n",
              "270    4.10    4.379256\n",
              "242    4.40    4.533367\n",
              "280    5.25    4.612497\n",
              "178    0.35    1.294098\n",
              "204    2.75    3.829553\n",
              "..      ...         ...\n",
              "25     3.00    2.535435\n",
              "63    23.50   19.228716\n",
              "251    5.00    5.190515\n",
              "91    11.25    9.574282\n",
              "51    23.00   16.987182\n",
              "\n",
              "[75 rows x 2 columns]"
            ],
            "text/html": [
              "\n",
              "  <div id=\"df-9e68f507-2c58-4120-9133-5c103aaeb1b5\">\n",
              "    <div class=\"colab-df-container\">\n",
              "      <div>\n",
              "<style scoped>\n",
              "    .dataframe tbody tr th:only-of-type {\n",
              "        vertical-align: middle;\n",
              "    }\n",
              "\n",
              "    .dataframe tbody tr th {\n",
              "        vertical-align: top;\n",
              "    }\n",
              "\n",
              "    .dataframe thead th {\n",
              "        text-align: right;\n",
              "    }\n",
              "</style>\n",
              "<table border=\"1\" class=\"dataframe\">\n",
              "  <thead>\n",
              "    <tr style=\"text-align: right;\">\n",
              "      <th></th>\n",
              "      <th>Actual</th>\n",
              "      <th>Prediction</th>\n",
              "    </tr>\n",
              "  </thead>\n",
              "  <tbody>\n",
              "    <tr>\n",
              "      <th>270</th>\n",
              "      <td>4.10</td>\n",
              "      <td>4.379256</td>\n",
              "    </tr>\n",
              "    <tr>\n",
              "      <th>242</th>\n",
              "      <td>4.40</td>\n",
              "      <td>4.533367</td>\n",
              "    </tr>\n",
              "    <tr>\n",
              "      <th>280</th>\n",
              "      <td>5.25</td>\n",
              "      <td>4.612497</td>\n",
              "    </tr>\n",
              "    <tr>\n",
              "      <th>178</th>\n",
              "      <td>0.35</td>\n",
              "      <td>1.294098</td>\n",
              "    </tr>\n",
              "    <tr>\n",
              "      <th>204</th>\n",
              "      <td>2.75</td>\n",
              "      <td>3.829553</td>\n",
              "    </tr>\n",
              "    <tr>\n",
              "      <th>...</th>\n",
              "      <td>...</td>\n",
              "      <td>...</td>\n",
              "    </tr>\n",
              "    <tr>\n",
              "      <th>25</th>\n",
              "      <td>3.00</td>\n",
              "      <td>2.535435</td>\n",
              "    </tr>\n",
              "    <tr>\n",
              "      <th>63</th>\n",
              "      <td>23.50</td>\n",
              "      <td>19.228716</td>\n",
              "    </tr>\n",
              "    <tr>\n",
              "      <th>251</th>\n",
              "      <td>5.00</td>\n",
              "      <td>5.190515</td>\n",
              "    </tr>\n",
              "    <tr>\n",
              "      <th>91</th>\n",
              "      <td>11.25</td>\n",
              "      <td>9.574282</td>\n",
              "    </tr>\n",
              "    <tr>\n",
              "      <th>51</th>\n",
              "      <td>23.00</td>\n",
              "      <td>16.987182</td>\n",
              "    </tr>\n",
              "  </tbody>\n",
              "</table>\n",
              "<p>75 rows × 2 columns</p>\n",
              "</div>\n",
              "      <button class=\"colab-df-convert\" onclick=\"convertToInteractive('df-9e68f507-2c58-4120-9133-5c103aaeb1b5')\"\n",
              "              title=\"Convert this dataframe to an interactive table.\"\n",
              "              style=\"display:none;\">\n",
              "        \n",
              "  <svg xmlns=\"http://www.w3.org/2000/svg\" height=\"24px\"viewBox=\"0 0 24 24\"\n",
              "       width=\"24px\">\n",
              "    <path d=\"M0 0h24v24H0V0z\" fill=\"none\"/>\n",
              "    <path d=\"M18.56 5.44l.94 2.06.94-2.06 2.06-.94-2.06-.94-.94-2.06-.94 2.06-2.06.94zm-11 1L8.5 8.5l.94-2.06 2.06-.94-2.06-.94L8.5 2.5l-.94 2.06-2.06.94zm10 10l.94 2.06.94-2.06 2.06-.94-2.06-.94-.94-2.06-.94 2.06-2.06.94z\"/><path d=\"M17.41 7.96l-1.37-1.37c-.4-.4-.92-.59-1.43-.59-.52 0-1.04.2-1.43.59L10.3 9.45l-7.72 7.72c-.78.78-.78 2.05 0 2.83L4 21.41c.39.39.9.59 1.41.59.51 0 1.02-.2 1.41-.59l7.78-7.78 2.81-2.81c.8-.78.8-2.07 0-2.86zM5.41 20L4 18.59l7.72-7.72 1.47 1.35L5.41 20z\"/>\n",
              "  </svg>\n",
              "      </button>\n",
              "      \n",
              "  <style>\n",
              "    .colab-df-container {\n",
              "      display:flex;\n",
              "      flex-wrap:wrap;\n",
              "      gap: 12px;\n",
              "    }\n",
              "\n",
              "    .colab-df-convert {\n",
              "      background-color: #E8F0FE;\n",
              "      border: none;\n",
              "      border-radius: 50%;\n",
              "      cursor: pointer;\n",
              "      display: none;\n",
              "      fill: #1967D2;\n",
              "      height: 32px;\n",
              "      padding: 0 0 0 0;\n",
              "      width: 32px;\n",
              "    }\n",
              "\n",
              "    .colab-df-convert:hover {\n",
              "      background-color: #E2EBFA;\n",
              "      box-shadow: 0px 1px 2px rgba(60, 64, 67, 0.3), 0px 1px 3px 1px rgba(60, 64, 67, 0.15);\n",
              "      fill: #174EA6;\n",
              "    }\n",
              "\n",
              "    [theme=dark] .colab-df-convert {\n",
              "      background-color: #3B4455;\n",
              "      fill: #D2E3FC;\n",
              "    }\n",
              "\n",
              "    [theme=dark] .colab-df-convert:hover {\n",
              "      background-color: #434B5C;\n",
              "      box-shadow: 0px 1px 3px 1px rgba(0, 0, 0, 0.15);\n",
              "      filter: drop-shadow(0px 1px 2px rgba(0, 0, 0, 0.3));\n",
              "      fill: #FFFFFF;\n",
              "    }\n",
              "  </style>\n",
              "\n",
              "      <script>\n",
              "        const buttonEl =\n",
              "          document.querySelector('#df-9e68f507-2c58-4120-9133-5c103aaeb1b5 button.colab-df-convert');\n",
              "        buttonEl.style.display =\n",
              "          google.colab.kernel.accessAllowed ? 'block' : 'none';\n",
              "\n",
              "        async function convertToInteractive(key) {\n",
              "          const element = document.querySelector('#df-9e68f507-2c58-4120-9133-5c103aaeb1b5');\n",
              "          const dataTable =\n",
              "            await google.colab.kernel.invokeFunction('convertToInteractive',\n",
              "                                                     [key], {});\n",
              "          if (!dataTable) return;\n",
              "\n",
              "          const docLinkHtml = 'Like what you see? Visit the ' +\n",
              "            '<a target=\"_blank\" href=https://colab.research.google.com/notebooks/data_table.ipynb>data table notebook</a>'\n",
              "            + ' to learn more about interactive tables.';\n",
              "          element.innerHTML = '';\n",
              "          dataTable['output_type'] = 'display_data';\n",
              "          await google.colab.output.renderOutput(dataTable, element);\n",
              "          const docLink = document.createElement('div');\n",
              "          docLink.innerHTML = docLinkHtml;\n",
              "          element.appendChild(docLink);\n",
              "        }\n",
              "      </script>\n",
              "    </div>\n",
              "  </div>\n",
              "  "
            ]
          },
          "metadata": {},
          "execution_count": 43
        }
      ]
    },
    {
      "cell_type": "code",
      "source": [
        "plt.scatter(y_test,y_pred_1)\n",
        "plt.xlabel(\"Actual Prices\")\n",
        "plt.ylabel(\"Prediction Prices\")\n",
        "plt.title(\"Actual Prices VS Prediction Prices\")\n",
        "plt.show()"
      ],
      "metadata": {
        "colab": {
          "base_uri": "https://localhost:8080/",
          "height": 295
        },
        "id": "bh7pSGd_TbRO",
        "outputId": "8d9dd669-9e3c-4343-f3ac-4931bf4c9935"
      },
      "execution_count": 44,
      "outputs": [
        {
          "output_type": "display_data",
          "data": {
            "text/plain": [
              "<Figure size 432x288 with 1 Axes>"
            ],
            "image/png": "[encoded data removed]"
          },
          "metadata": {
            "needs_background": "light"
          }
        }
      ]
    },
    {
      "cell_type": "markdown",
      "source": [
        "2) Lasso Regression"
      ],
      "metadata": {
        "id": "WTofmBj6TmON"
      }
    },
    {
      "cell_type": "code",
      "source": [
        "y_pred_2 = lasso.predict(X_test)\n",
        "y_pred_2"
      ],
      "metadata": {
        "colab": {
          "base_uri": "https://localhost:8080/"
        },
        "id": "s5P63PPTTjPQ",
        "outputId": "6974f1ab-e779-44ed-ec15-85dce69741f8"
      },
      "execution_count": 45,
      "outputs": [
        {
          "output_type": "execute_result",
          "data": {
            "text/plain": [
              "array([ 4.80741694,  4.52527963,  4.30226304,  1.4063877 ,  3.60865167,\n",
              "        2.77223727,  2.25320836,  7.69482476,  2.04712681,  2.64358958,\n",
              "        4.88166237,  5.95371868,  5.97759122,  4.40912885,  4.36957096,\n",
              "        7.93546544,  4.40288039,  0.22705686,  2.41488517,  2.71561594,\n",
              "        2.53631504,  4.94868996,  2.78889199,  2.98803604,  6.88075289,\n",
              "        3.96600378,  3.49318994,  4.72692306,  1.36988984,  6.33813175,\n",
              "        2.47025681,  1.27205219,  1.46300904,  4.88166237,  5.23901447,\n",
              "        2.13524724,  3.64986798,  4.36957096,  4.35069718,  2.92669626,\n",
              "        4.88263173, -1.786189  ,  3.49693902,  3.96600378,  1.91473003,\n",
              "        8.29281754,  0.83795528, -0.62920069,  2.79361044,  3.09184182,\n",
              "        4.88166237,  2.31926658,  2.47844401, 13.15628431,  5.15158308,\n",
              "        9.38083952,  5.46175074, 14.21321592,  6.92946735,  7.57811334,\n",
              "       -0.62920069, 13.85586381,  2.64358958,  5.23901447, 14.88948352,\n",
              "        8.29281754,  9.49908096,  0.58440896,  8.29281754,  4.18083317,\n",
              "        2.44347616, 18.48590773,  5.4749367 ,  8.75300606, 15.96153983])"
            ]
          },
          "metadata": {},
          "execution_count": 45
        }
      ]
    },
    {
      "cell_type": "code",
      "source": [
        "df = pd.DataFrame({\"Actual\": y_test,\"Prediction\" :y_pred_2})\n",
        "df"
      ],
      "metadata": {
        "colab": {
          "base_uri": "https://localhost:8080/",
          "height": 424
        },
        "id": "VH24dZc1Tv7b",
        "outputId": "f38cf2fc-76e4-41f2-ada2-77e4f204a410"
      },
      "execution_count": 46,
      "outputs": [
        {
          "output_type": "execute_result",
          "data": {
            "text/plain": [
              "     Actual  Prediction\n",
              "270    4.10    4.807417\n",
              "242    4.40    4.525280\n",
              "280    5.25    4.302263\n",
              "178    0.35    1.406388\n",
              "204    2.75    3.608652\n",
              "..      ...         ...\n",
              "25     3.00    2.443476\n",
              "63    23.50   18.485908\n",
              "251    5.00    5.474937\n",
              "91    11.25    8.753006\n",
              "51    23.00   15.961540\n",
              "\n",
              "[75 rows x 2 columns]"
            ],
            "text/html": [
              "\n",
              "  <div id=\"df-c18f40be-dc86-4fa6-ae3f-a5169b753831\">\n",
              "    <div class=\"colab-df-container\">\n",
              "      <div>\n",
              "<style scoped>\n",
              "    .dataframe tbody tr th:only-of-type {\n",
              "        vertical-align: middle;\n",
              "    }\n",
              "\n",
              "    .dataframe tbody tr th {\n",
              "        vertical-align: top;\n",
              "    }\n",
              "\n",
              "    .dataframe thead th {\n",
              "        text-align: right;\n",
              "    }\n",
              "</style>\n",
              "<table border=\"1\" class=\"dataframe\">\n",
              "  <thead>\n",
              "    <tr style=\"text-align: right;\">\n",
              "      <th></th>\n",
              "      <th>Actual</th>\n",
              "      <th>Prediction</th>\n",
              "    </tr>\n",
              "  </thead>\n",
              "  <tbody>\n",
              "    <tr>\n",
              "      <th>270</th>\n",
              "      <td>4.10</td>\n",
              "      <td>4.807417</td>\n",
              "    </tr>\n",
              "    <tr>\n",
              "      <th>242</th>\n",
              "      <td>4.40</td>\n",
              "      <td>4.525280</td>\n",
              "    </tr>\n",
              "    <tr>\n",
              "      <th>280</th>\n",
              "      <td>5.25</td>\n",
              "      <td>4.302263</td>\n",
              "    </tr>\n",
              "    <tr>\n",
              "      <th>178</th>\n",
              "      <td>0.35</td>\n",
              "      <td>1.406388</td>\n",
              "    </tr>\n",
              "    <tr>\n",
              "      <th>204</th>\n",
              "      <td>2.75</td>\n",
              "      <td>3.608652</td>\n",
              "    </tr>\n",
              "    <tr>\n",
              "      <th>...</th>\n",
              "      <td>...</td>\n",
              "      <td>...</td>\n",
              "    </tr>\n",
              "    <tr>\n",
              "      <th>25</th>\n",
              "      <td>3.00</td>\n",
              "      <td>2.443476</td>\n",
              "    </tr>\n",
              "    <tr>\n",
              "      <th>63</th>\n",
              "      <td>23.50</td>\n",
              "      <td>18.485908</td>\n",
              "    </tr>\n",
              "    <tr>\n",
              "      <th>251</th>\n",
              "      <td>5.00</td>\n",
              "      <td>5.474937</td>\n",
              "    </tr>\n",
              "    <tr>\n",
              "      <th>91</th>\n",
              "      <td>11.25</td>\n",
              "      <td>8.753006</td>\n",
              "    </tr>\n",
              "    <tr>\n",
              "      <th>51</th>\n",
              "      <td>23.00</td>\n",
              "      <td>15.961540</td>\n",
              "    </tr>\n",
              "  </tbody>\n",
              "</table>\n",
              "<p>75 rows × 2 columns</p>\n",
              "</div>\n",
              "      <button class=\"colab-df-convert\" onclick=\"convertToInteractive('df-c18f40be-dc86-4fa6-ae3f-a5169b753831')\"\n",
              "              title=\"Convert this dataframe to an interactive table.\"\n",
              "              style=\"display:none;\">\n",
              "        \n",
              "  <svg xmlns=\"http://www.w3.org/2000/svg\" height=\"24px\"viewBox=\"0 0 24 24\"\n",
              "       width=\"24px\">\n",
              "    <path d=\"M0 0h24v24H0V0z\" fill=\"none\"/>\n",
              "    <path d=\"M18.56 5.44l.94 2.06.94-2.06 2.06-.94-2.06-.94-.94-2.06-.94 2.06-2.06.94zm-11 1L8.5 8.5l.94-2.06 2.06-.94-2.06-.94L8.5 2.5l-.94 2.06-2.06.94zm10 10l.94 2.06.94-2.06 2.06-.94-2.06-.94-.94-2.06-.94 2.06-2.06.94z\"/><path d=\"M17.41 7.96l-1.37-1.37c-.4-.4-.92-.59-1.43-.59-.52 0-1.04.2-1.43.59L10.3 9.45l-7.72 7.72c-.78.78-.78 2.05 0 2.83L4 21.41c.39.39.9.59 1.41.59.51 0 1.02-.2 1.41-.59l7.78-7.78 2.81-2.81c.8-.78.8-2.07 0-2.86zM5.41 20L4 18.59l7.72-7.72 1.47 1.35L5.41 20z\"/>\n",
              "  </svg>\n",
              "      </button>\n",
              "      \n",
              "  <style>\n",
              "    .colab-df-container {\n",
              "      display:flex;\n",
              "      flex-wrap:wrap;\n",
              "      gap: 12px;\n",
              "    }\n",
              "\n",
              "    .colab-df-convert {\n",
              "      background-color: #E8F0FE;\n",
              "      border: none;\n",
              "      border-radius: 50%;\n",
              "      cursor: pointer;\n",
              "      display: none;\n",
              "      fill: #1967D2;\n",
              "      height: 32px;\n",
              "      padding: 0 0 0 0;\n",
              "      width: 32px;\n",
              "    }\n",
              "\n",
              "    .colab-df-convert:hover {\n",
              "      background-color: #E2EBFA;\n",
              "      box-shadow: 0px 1px 2px rgba(60, 64, 67, 0.3), 0px 1px 3px 1px rgba(60, 64, 67, 0.15);\n",
              "      fill: #174EA6;\n",
              "    }\n",
              "\n",
              "    [theme=dark] .colab-df-convert {\n",
              "      background-color: #3B4455;\n",
              "      fill: #D2E3FC;\n",
              "    }\n",
              "\n",
              "    [theme=dark] .colab-df-convert:hover {\n",
              "      background-color: #434B5C;\n",
              "      box-shadow: 0px 1px 3px 1px rgba(0, 0, 0, 0.15);\n",
              "      filter: drop-shadow(0px 1px 2px rgba(0, 0, 0, 0.3));\n",
              "      fill: #FFFFFF;\n",
              "    }\n",
              "  </style>\n",
              "\n",
              "      <script>\n",
              "        const buttonEl =\n",
              "          document.querySelector('#df-c18f40be-dc86-4fa6-ae3f-a5169b753831 button.colab-df-convert');\n",
              "        buttonEl.style.display =\n",
              "          google.colab.kernel.accessAllowed ? 'block' : 'none';\n",
              "\n",
              "        async function convertToInteractive(key) {\n",
              "          const element = document.querySelector('#df-c18f40be-dc86-4fa6-ae3f-a5169b753831');\n",
              "          const dataTable =\n",
              "            await google.colab.kernel.invokeFunction('convertToInteractive',\n",
              "                                                     [key], {});\n",
              "          if (!dataTable) return;\n",
              "\n",
              "          const docLinkHtml = 'Like what you see? Visit the ' +\n",
              "            '<a target=\"_blank\" href=https://colab.research.google.com/notebooks/data_table.ipynb>data table notebook</a>'\n",
              "            + ' to learn more about interactive tables.';\n",
              "          element.innerHTML = '';\n",
              "          dataTable['output_type'] = 'display_data';\n",
              "          await google.colab.output.renderOutput(dataTable, element);\n",
              "          const docLink = document.createElement('div');\n",
              "          docLink.innerHTML = docLinkHtml;\n",
              "          element.appendChild(docLink);\n",
              "        }\n",
              "      </script>\n",
              "    </div>\n",
              "  </div>\n",
              "  "
            ]
          },
          "metadata": {},
          "execution_count": 46
        }
      ]
    },
    {
      "cell_type": "code",
      "source": [
        "plt.scatter(y_test,y_pred_2)\n",
        "plt.xlabel(\"Actual Prices\")\n",
        "plt.ylabel(\"Prediction Prices\")\n",
        "plt.title(\"Actual Prices VS Prediction Prices\")\n",
        "plt.show()"
      ],
      "metadata": {
        "colab": {
          "base_uri": "https://localhost:8080/",
          "height": 295
        },
        "id": "ewZA23FGT0K-",
        "outputId": "d5d2b602-b66e-44d6-8560-7ce597716087"
      },
      "execution_count": 47,
      "outputs": [
        {
          "output_type": "display_data",
          "data": {
            "text/plain": [
              "<Figure size 432x288 with 1 Axes>"
            ],
            "image/png": "[encoded data removed]"
          },
          "metadata": {
            "needs_background": "light"
          }
        }
      ]
    },
    {
      "cell_type": "markdown",
      "source": [
        "**10) Evaluation Metrics**"
      ],
      "metadata": {
        "id": "uNMrcBDxT_5K"
      }
    },
    {
      "cell_type": "markdown",
      "source": [
        "1) Linear Regression"
      ],
      "metadata": {
        "id": "jlzhulaKUCEq"
      }
    },
    {
      "cell_type": "code",
      "source": [
        "from sklearn import metrics\n",
        "print(\"R2-Scores: \",metrics.r2_score(y_test,y_pred_1))"
      ],
      "metadata": {
        "colab": {
          "base_uri": "https://localhost:8080/"
        },
        "id": "vfiOf1Y5T4vZ",
        "outputId": "6e3685cc-87d8-47cb-a9cb-8f382c7767fe"
      },
      "execution_count": 48,
      "outputs": [
        {
          "output_type": "stream",
          "name": "stdout",
          "text": [
            "R2-Scores:  0.866615487254662\n"
          ]
        }
      ]
    },
    {
      "cell_type": "markdown",
      "source": [
        "2) Lasso Regression"
      ],
      "metadata": {
        "id": "GY7ambVxUZgr"
      }
    },
    {
      "cell_type": "code",
      "source": [
        "from sklearn import metrics\n",
        "print(\"R2-Scores: \",metrics.r2_score(y_test,y_pred_2))"
      ],
      "metadata": {
        "colab": {
          "base_uri": "https://localhost:8080/"
        },
        "id": "HeqN9apuUYbp",
        "outputId": "5b8e84da-7642-495c-c112-cd4221cd5853"
      },
      "execution_count": 49,
      "outputs": [
        {
          "output_type": "stream",
          "name": "stdout",
          "text": [
            "R2-Scores:  0.8331343823665679\n"
          ]
        }
      ]
    }
  ]
}