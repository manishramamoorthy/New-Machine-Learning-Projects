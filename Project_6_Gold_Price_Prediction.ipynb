{
  "nbformat": 4,
  "nbformat_minor": 0,
  "metadata": {
    "colab": {
      "provenance": [],
      "collapsed_sections": [],
      "authorship_tag": "ABX9TyO0vPIR8R2LgrbTO8JsHXZC",
      "include_colab_link": true
    },
    "kernelspec": {
      "name": "python3",
      "display_name": "Python 3"
    },
    "language_info": {
      "name": "python"
    }
  },
  "cells": [
    {
      "cell_type": "markdown",
      "metadata": {
        "id": "view-in-github",
        "colab_type": "text"
      },
      "source": [
        "<a href=\"https://colab.research.google.com/github/manishramamoorthy/New-Machine-Learning-Projects/blob/main/Project_6_Gold_Price_Prediction.ipynb\" target=\"_parent\"><img src=\"https://colab.research.google.com/assets/colab-badge.svg\" alt=\"Open In Colab\"/></a>"
      ]
    },
    {
      "cell_type": "markdown",
      "source": [
        "\n",
        "**Summary :**\n",
        "\n",
        "1) Importing Libraries                     \n",
        "2) Loading Dataset                          \n",
        "3) Data PreProcessing                               \n",
        "4) EDA (Exploratory Data Analysis)                           \n",
        "5) Train and Test Split                                 \n",
        "6) Standard Scaler                          \n",
        "7) Modelling                             \n",
        "8) Making Prediction                                \n",
        "9) Compare Actual and Predicted Scores                                \n",
        "10) Evaluation Metrics                                         "
      ],
      "metadata": {
        "id": "aITcDGVLrytW"
      }
    },
    {
      "cell_type": "markdown",
      "source": [
        "**1) Importing Libraries**"
      ],
      "metadata": {
        "id": "iWnDOaT1r8H1"
      }
    },
    {
      "cell_type": "code",
      "source": [
        "import pandas as pd\n",
        "import numpy as np\n",
        "import warnings\n",
        "warnings.filterwarnings(\"ignore\")\n",
        "import sklearn.datasets\n",
        "import matplotlib.pyplot as plt\n",
        "import seaborn as sns\n",
        "from sklearn.model_selection import train_test_split\n",
        "from sklearn.ensemble import RandomForestRegressor\n",
        "from sklearn import metrics"
      ],
      "metadata": {
        "id": "426bNqEPr3nM"
      },
      "execution_count": 1,
      "outputs": []
    },
    {
      "cell_type": "markdown",
      "source": [
        "**2) Loading Dataset**"
      ],
      "metadata": {
        "id": "VvMFrP36sVqc"
      }
    },
    {
      "cell_type": "code",
      "source": [
        "gld_data = pd.read_csv(\"/content/gld_price_data.csv\")"
      ],
      "metadata": {
        "id": "cHFEWog1sHmx"
      },
      "execution_count": 2,
      "outputs": []
    },
    {
      "cell_type": "markdown",
      "source": [
        "**3) Data PreProcessing**"
      ],
      "metadata": {
        "id": "aDR0L3wysoZQ"
      }
    },
    {
      "cell_type": "markdown",
      "source": [
        "1) Top Five Rows of DataSet"
      ],
      "metadata": {
        "id": "tH7EuKP4stjF"
      }
    },
    {
      "cell_type": "code",
      "source": [
        "gld_data.head()"
      ],
      "metadata": {
        "colab": {
          "base_uri": "https://localhost:8080/",
          "height": 206
        },
        "id": "1oVtlxoasmAd",
        "outputId": "1b487fa6-0fca-4cc0-a5de-58a505496a5c"
      },
      "execution_count": 3,
      "outputs": [
        {
          "output_type": "execute_result",
          "data": {
            "text/plain": [
              "       Date          SPX        GLD        USO     SLV   EUR/USD\n",
              "0  1/2/2008  1447.160034  84.860001  78.470001  15.180  1.471692\n",
              "1  1/3/2008  1447.160034  85.570000  78.370003  15.285  1.474491\n",
              "2  1/4/2008  1411.630005  85.129997  77.309998  15.167  1.475492\n",
              "3  1/7/2008  1416.180054  84.769997  75.500000  15.053  1.468299\n",
              "4  1/8/2008  1390.189941  86.779999  76.059998  15.590  1.557099"
            ],
            "text/html": [
              "\n",
              "  <div id=\"df-c79e19a1-3de1-4e85-b732-6ced7ff3a096\">\n",
              "    <div class=\"colab-df-container\">\n",
              "      <div>\n",
              "<style scoped>\n",
              "    .dataframe tbody tr th:only-of-type {\n",
              "        vertical-align: middle;\n",
              "    }\n",
              "\n",
              "    .dataframe tbody tr th {\n",
              "        vertical-align: top;\n",
              "    }\n",
              "\n",
              "    .dataframe thead th {\n",
              "        text-align: right;\n",
              "    }\n",
              "</style>\n",
              "<table border=\"1\" class=\"dataframe\">\n",
              "  <thead>\n",
              "    <tr style=\"text-align: right;\">\n",
              "      <th></th>\n",
              "      <th>Date</th>\n",
              "      <th>SPX</th>\n",
              "      <th>GLD</th>\n",
              "      <th>USO</th>\n",
              "      <th>SLV</th>\n",
              "      <th>EUR/USD</th>\n",
              "    </tr>\n",
              "  </thead>\n",
              "  <tbody>\n",
              "    <tr>\n",
              "      <th>0</th>\n",
              "      <td>1/2/2008</td>\n",
              "      <td>1447.160034</td>\n",
              "      <td>84.860001</td>\n",
              "      <td>78.470001</td>\n",
              "      <td>15.180</td>\n",
              "      <td>1.471692</td>\n",
              "    </tr>\n",
              "    <tr>\n",
              "      <th>1</th>\n",
              "      <td>1/3/2008</td>\n",
              "      <td>1447.160034</td>\n",
              "      <td>85.570000</td>\n",
              "      <td>78.370003</td>\n",
              "      <td>15.285</td>\n",
              "      <td>1.474491</td>\n",
              "    </tr>\n",
              "    <tr>\n",
              "      <th>2</th>\n",
              "      <td>1/4/2008</td>\n",
              "      <td>1411.630005</td>\n",
              "      <td>85.129997</td>\n",
              "      <td>77.309998</td>\n",
              "      <td>15.167</td>\n",
              "      <td>1.475492</td>\n",
              "    </tr>\n",
              "    <tr>\n",
              "      <th>3</th>\n",
              "      <td>1/7/2008</td>\n",
              "      <td>1416.180054</td>\n",
              "      <td>84.769997</td>\n",
              "      <td>75.500000</td>\n",
              "      <td>15.053</td>\n",
              "      <td>1.468299</td>\n",
              "    </tr>\n",
              "    <tr>\n",
              "      <th>4</th>\n",
              "      <td>1/8/2008</td>\n",
              "      <td>1390.189941</td>\n",
              "      <td>86.779999</td>\n",
              "      <td>76.059998</td>\n",
              "      <td>15.590</td>\n",
              "      <td>1.557099</td>\n",
              "    </tr>\n",
              "  </tbody>\n",
              "</table>\n",
              "</div>\n",
              "      <button class=\"colab-df-convert\" onclick=\"convertToInteractive('df-c79e19a1-3de1-4e85-b732-6ced7ff3a096')\"\n",
              "              title=\"Convert this dataframe to an interactive table.\"\n",
              "              style=\"display:none;\">\n",
              "        \n",
              "  <svg xmlns=\"http://www.w3.org/2000/svg\" height=\"24px\"viewBox=\"0 0 24 24\"\n",
              "       width=\"24px\">\n",
              "    <path d=\"M0 0h24v24H0V0z\" fill=\"none\"/>\n",
              "    <path d=\"M18.56 5.44l.94 2.06.94-2.06 2.06-.94-2.06-.94-.94-2.06-.94 2.06-2.06.94zm-11 1L8.5 8.5l.94-2.06 2.06-.94-2.06-.94L8.5 2.5l-.94 2.06-2.06.94zm10 10l.94 2.06.94-2.06 2.06-.94-2.06-.94-.94-2.06-.94 2.06-2.06.94z\"/><path d=\"M17.41 7.96l-1.37-1.37c-.4-.4-.92-.59-1.43-.59-.52 0-1.04.2-1.43.59L10.3 9.45l-7.72 7.72c-.78.78-.78 2.05 0 2.83L4 21.41c.39.39.9.59 1.41.59.51 0 1.02-.2 1.41-.59l7.78-7.78 2.81-2.81c.8-.78.8-2.07 0-2.86zM5.41 20L4 18.59l7.72-7.72 1.47 1.35L5.41 20z\"/>\n",
              "  </svg>\n",
              "      </button>\n",
              "      \n",
              "  <style>\n",
              "    .colab-df-container {\n",
              "      display:flex;\n",
              "      flex-wrap:wrap;\n",
              "      gap: 12px;\n",
              "    }\n",
              "\n",
              "    .colab-df-convert {\n",
              "      background-color: #E8F0FE;\n",
              "      border: none;\n",
              "      border-radius: 50%;\n",
              "      cursor: pointer;\n",
              "      display: none;\n",
              "      fill: #1967D2;\n",
              "      height: 32px;\n",
              "      padding: 0 0 0 0;\n",
              "      width: 32px;\n",
              "    }\n",
              "\n",
              "    .colab-df-convert:hover {\n",
              "      background-color: #E2EBFA;\n",
              "      box-shadow: 0px 1px 2px rgba(60, 64, 67, 0.3), 0px 1px 3px 1px rgba(60, 64, 67, 0.15);\n",
              "      fill: #174EA6;\n",
              "    }\n",
              "\n",
              "    [theme=dark] .colab-df-convert {\n",
              "      background-color: #3B4455;\n",
              "      fill: #D2E3FC;\n",
              "    }\n",
              "\n",
              "    [theme=dark] .colab-df-convert:hover {\n",
              "      background-color: #434B5C;\n",
              "      box-shadow: 0px 1px 3px 1px rgba(0, 0, 0, 0.15);\n",
              "      filter: drop-shadow(0px 1px 2px rgba(0, 0, 0, 0.3));\n",
              "      fill: #FFFFFF;\n",
              "    }\n",
              "  </style>\n",
              "\n",
              "      <script>\n",
              "        const buttonEl =\n",
              "          document.querySelector('#df-c79e19a1-3de1-4e85-b732-6ced7ff3a096 button.colab-df-convert');\n",
              "        buttonEl.style.display =\n",
              "          google.colab.kernel.accessAllowed ? 'block' : 'none';\n",
              "\n",
              "        async function convertToInteractive(key) {\n",
              "          const element = document.querySelector('#df-c79e19a1-3de1-4e85-b732-6ced7ff3a096');\n",
              "          const dataTable =\n",
              "            await google.colab.kernel.invokeFunction('convertToInteractive',\n",
              "                                                     [key], {});\n",
              "          if (!dataTable) return;\n",
              "\n",
              "          const docLinkHtml = 'Like what you see? Visit the ' +\n",
              "            '<a target=\"_blank\" href=https://colab.research.google.com/notebooks/data_table.ipynb>data table notebook</a>'\n",
              "            + ' to learn more about interactive tables.';\n",
              "          element.innerHTML = '';\n",
              "          dataTable['output_type'] = 'display_data';\n",
              "          await google.colab.output.renderOutput(dataTable, element);\n",
              "          const docLink = document.createElement('div');\n",
              "          docLink.innerHTML = docLinkHtml;\n",
              "          element.appendChild(docLink);\n",
              "        }\n",
              "      </script>\n",
              "    </div>\n",
              "  </div>\n",
              "  "
            ]
          },
          "metadata": {},
          "execution_count": 3
        }
      ]
    },
    {
      "cell_type": "markdown",
      "source": [
        "2) Last Five Rows of DataSet"
      ],
      "metadata": {
        "id": "jDibqOx4s1lS"
      }
    },
    {
      "cell_type": "code",
      "source": [
        "gld_data.tail()"
      ],
      "metadata": {
        "colab": {
          "base_uri": "https://localhost:8080/",
          "height": 206
        },
        "id": "Dhsau65Ssv4F",
        "outputId": "1d0aa1ed-a6d9-49ae-b5aa-827975559e4d"
      },
      "execution_count": 4,
      "outputs": [
        {
          "output_type": "execute_result",
          "data": {
            "text/plain": [
              "           Date          SPX         GLD      USO      SLV   EUR/USD\n",
              "2285   5/8/2018  2671.919922  124.589996  14.0600  15.5100  1.186789\n",
              "2286   5/9/2018  2697.790039  124.330002  14.3700  15.5300  1.184722\n",
              "2287  5/10/2018  2723.070068  125.180000  14.4100  15.7400  1.191753\n",
              "2288  5/14/2018  2730.129883  124.489998  14.3800  15.5600  1.193118\n",
              "2289  5/16/2018  2725.780029  122.543800  14.4058  15.4542  1.182033"
            ],
            "text/html": [
              "\n",
              "  <div id=\"df-b62fa901-290f-4624-b3a3-8371ed1c85a3\">\n",
              "    <div class=\"colab-df-container\">\n",
              "      <div>\n",
              "<style scoped>\n",
              "    .dataframe tbody tr th:only-of-type {\n",
              "        vertical-align: middle;\n",
              "    }\n",
              "\n",
              "    .dataframe tbody tr th {\n",
              "        vertical-align: top;\n",
              "    }\n",
              "\n",
              "    .dataframe thead th {\n",
              "        text-align: right;\n",
              "    }\n",
              "</style>\n",
              "<table border=\"1\" class=\"dataframe\">\n",
              "  <thead>\n",
              "    <tr style=\"text-align: right;\">\n",
              "      <th></th>\n",
              "      <th>Date</th>\n",
              "      <th>SPX</th>\n",
              "      <th>GLD</th>\n",
              "      <th>USO</th>\n",
              "      <th>SLV</th>\n",
              "      <th>EUR/USD</th>\n",
              "    </tr>\n",
              "  </thead>\n",
              "  <tbody>\n",
              "    <tr>\n",
              "      <th>2285</th>\n",
              "      <td>5/8/2018</td>\n",
              "      <td>2671.919922</td>\n",
              "      <td>124.589996</td>\n",
              "      <td>14.0600</td>\n",
              "      <td>15.5100</td>\n",
              "      <td>1.186789</td>\n",
              "    </tr>\n",
              "    <tr>\n",
              "      <th>2286</th>\n",
              "      <td>5/9/2018</td>\n",
              "      <td>2697.790039</td>\n",
              "      <td>124.330002</td>\n",
              "      <td>14.3700</td>\n",
              "      <td>15.5300</td>\n",
              "      <td>1.184722</td>\n",
              "    </tr>\n",
              "    <tr>\n",
              "      <th>2287</th>\n",
              "      <td>5/10/2018</td>\n",
              "      <td>2723.070068</td>\n",
              "      <td>125.180000</td>\n",
              "      <td>14.4100</td>\n",
              "      <td>15.7400</td>\n",
              "      <td>1.191753</td>\n",
              "    </tr>\n",
              "    <tr>\n",
              "      <th>2288</th>\n",
              "      <td>5/14/2018</td>\n",
              "      <td>2730.129883</td>\n",
              "      <td>124.489998</td>\n",
              "      <td>14.3800</td>\n",
              "      <td>15.5600</td>\n",
              "      <td>1.193118</td>\n",
              "    </tr>\n",
              "    <tr>\n",
              "      <th>2289</th>\n",
              "      <td>5/16/2018</td>\n",
              "      <td>2725.780029</td>\n",
              "      <td>122.543800</td>\n",
              "      <td>14.4058</td>\n",
              "      <td>15.4542</td>\n",
              "      <td>1.182033</td>\n",
              "    </tr>\n",
              "  </tbody>\n",
              "</table>\n",
              "</div>\n",
              "      <button class=\"colab-df-convert\" onclick=\"convertToInteractive('df-b62fa901-290f-4624-b3a3-8371ed1c85a3')\"\n",
              "              title=\"Convert this dataframe to an interactive table.\"\n",
              "              style=\"display:none;\">\n",
              "        \n",
              "  <svg xmlns=\"http://www.w3.org/2000/svg\" height=\"24px\"viewBox=\"0 0 24 24\"\n",
              "       width=\"24px\">\n",
              "    <path d=\"M0 0h24v24H0V0z\" fill=\"none\"/>\n",
              "    <path d=\"M18.56 5.44l.94 2.06.94-2.06 2.06-.94-2.06-.94-.94-2.06-.94 2.06-2.06.94zm-11 1L8.5 8.5l.94-2.06 2.06-.94-2.06-.94L8.5 2.5l-.94 2.06-2.06.94zm10 10l.94 2.06.94-2.06 2.06-.94-2.06-.94-.94-2.06-.94 2.06-2.06.94z\"/><path d=\"M17.41 7.96l-1.37-1.37c-.4-.4-.92-.59-1.43-.59-.52 0-1.04.2-1.43.59L10.3 9.45l-7.72 7.72c-.78.78-.78 2.05 0 2.83L4 21.41c.39.39.9.59 1.41.59.51 0 1.02-.2 1.41-.59l7.78-7.78 2.81-2.81c.8-.78.8-2.07 0-2.86zM5.41 20L4 18.59l7.72-7.72 1.47 1.35L5.41 20z\"/>\n",
              "  </svg>\n",
              "      </button>\n",
              "      \n",
              "  <style>\n",
              "    .colab-df-container {\n",
              "      display:flex;\n",
              "      flex-wrap:wrap;\n",
              "      gap: 12px;\n",
              "    }\n",
              "\n",
              "    .colab-df-convert {\n",
              "      background-color: #E8F0FE;\n",
              "      border: none;\n",
              "      border-radius: 50%;\n",
              "      cursor: pointer;\n",
              "      display: none;\n",
              "      fill: #1967D2;\n",
              "      height: 32px;\n",
              "      padding: 0 0 0 0;\n",
              "      width: 32px;\n",
              "    }\n",
              "\n",
              "    .colab-df-convert:hover {\n",
              "      background-color: #E2EBFA;\n",
              "      box-shadow: 0px 1px 2px rgba(60, 64, 67, 0.3), 0px 1px 3px 1px rgba(60, 64, 67, 0.15);\n",
              "      fill: #174EA6;\n",
              "    }\n",
              "\n",
              "    [theme=dark] .colab-df-convert {\n",
              "      background-color: #3B4455;\n",
              "      fill: #D2E3FC;\n",
              "    }\n",
              "\n",
              "    [theme=dark] .colab-df-convert:hover {\n",
              "      background-color: #434B5C;\n",
              "      box-shadow: 0px 1px 3px 1px rgba(0, 0, 0, 0.15);\n",
              "      filter: drop-shadow(0px 1px 2px rgba(0, 0, 0, 0.3));\n",
              "      fill: #FFFFFF;\n",
              "    }\n",
              "  </style>\n",
              "\n",
              "      <script>\n",
              "        const buttonEl =\n",
              "          document.querySelector('#df-b62fa901-290f-4624-b3a3-8371ed1c85a3 button.colab-df-convert');\n",
              "        buttonEl.style.display =\n",
              "          google.colab.kernel.accessAllowed ? 'block' : 'none';\n",
              "\n",
              "        async function convertToInteractive(key) {\n",
              "          const element = document.querySelector('#df-b62fa901-290f-4624-b3a3-8371ed1c85a3');\n",
              "          const dataTable =\n",
              "            await google.colab.kernel.invokeFunction('convertToInteractive',\n",
              "                                                     [key], {});\n",
              "          if (!dataTable) return;\n",
              "\n",
              "          const docLinkHtml = 'Like what you see? Visit the ' +\n",
              "            '<a target=\"_blank\" href=https://colab.research.google.com/notebooks/data_table.ipynb>data table notebook</a>'\n",
              "            + ' to learn more about interactive tables.';\n",
              "          element.innerHTML = '';\n",
              "          dataTable['output_type'] = 'display_data';\n",
              "          await google.colab.output.renderOutput(dataTable, element);\n",
              "          const docLink = document.createElement('div');\n",
              "          docLink.innerHTML = docLinkHtml;\n",
              "          element.appendChild(docLink);\n",
              "        }\n",
              "      </script>\n",
              "    </div>\n",
              "  </div>\n",
              "  "
            ]
          },
          "metadata": {},
          "execution_count": 4
        }
      ]
    },
    {
      "cell_type": "markdown",
      "source": [
        "3) Shape of DataSet"
      ],
      "metadata": {
        "id": "SmaQMT20s5Ol"
      }
    },
    {
      "cell_type": "code",
      "source": [
        "gld_data.shape\n",
        "print(\"Number of Rows: \",gld_data.shape[0])\n",
        "print(\"Number of Columns: \",gld_data.shape[1])"
      ],
      "metadata": {
        "colab": {
          "base_uri": "https://localhost:8080/"
        },
        "id": "H4fqf7TTs4KB",
        "outputId": "c2db77e9-1072-4745-f28a-8902974b15d4"
      },
      "execution_count": 5,
      "outputs": [
        {
          "output_type": "stream",
          "name": "stdout",
          "text": [
            "Number of Rows:  2290\n",
            "Number of Columns:  6\n"
          ]
        }
      ]
    },
    {
      "cell_type": "markdown",
      "source": [
        "4) data Types"
      ],
      "metadata": {
        "id": "-u9s74UFWNKW"
      }
    },
    {
      "cell_type": "code",
      "source": [
        "gld_data.dtypes"
      ],
      "metadata": {
        "id": "tJLigUdftCSF",
        "colab": {
          "base_uri": "https://localhost:8080/"
        },
        "outputId": "5a25d3d9-0334-42f2-b7d3-ac895437f462"
      },
      "execution_count": 6,
      "outputs": [
        {
          "output_type": "execute_result",
          "data": {
            "text/plain": [
              "Date        object\n",
              "SPX        float64\n",
              "GLD        float64\n",
              "USO        float64\n",
              "SLV        float64\n",
              "EUR/USD    float64\n",
              "dtype: object"
            ]
          },
          "metadata": {},
          "execution_count": 6
        }
      ]
    },
    {
      "cell_type": "markdown",
      "source": [
        "5) Getting Information of DataSet"
      ],
      "metadata": {
        "id": "GOLAyhhjWXHy"
      }
    },
    {
      "cell_type": "code",
      "source": [
        "gld_data.info()"
      ],
      "metadata": {
        "colab": {
          "base_uri": "https://localhost:8080/"
        },
        "id": "h2XzM7mFWSYC",
        "outputId": "1c6f5f30-035f-436c-a9e7-a865e98be087"
      },
      "execution_count": 7,
      "outputs": [
        {
          "output_type": "stream",
          "name": "stdout",
          "text": [
            "<class 'pandas.core.frame.DataFrame'>\n",
            "RangeIndex: 2290 entries, 0 to 2289\n",
            "Data columns (total 6 columns):\n",
            " #   Column   Non-Null Count  Dtype  \n",
            "---  ------   --------------  -----  \n",
            " 0   Date     2290 non-null   object \n",
            " 1   SPX      2290 non-null   float64\n",
            " 2   GLD      2290 non-null   float64\n",
            " 3   USO      2290 non-null   float64\n",
            " 4   SLV      2290 non-null   float64\n",
            " 5   EUR/USD  2290 non-null   float64\n",
            "dtypes: float64(5), object(1)\n",
            "memory usage: 107.5+ KB\n"
          ]
        }
      ]
    },
    {
      "cell_type": "markdown",
      "source": [
        "6) Checking Missing Values of DataSet"
      ],
      "metadata": {
        "id": "2j97CmHKWe2h"
      }
    },
    {
      "cell_type": "code",
      "source": [
        "gld_data.isnull().sum()"
      ],
      "metadata": {
        "colab": {
          "base_uri": "https://localhost:8080/"
        },
        "id": "JAfgZG53Wbmd",
        "outputId": "207ec3fa-eb90-4f47-dec6-ecb0a8cc0547"
      },
      "execution_count": 8,
      "outputs": [
        {
          "output_type": "execute_result",
          "data": {
            "text/plain": [
              "Date       0\n",
              "SPX        0\n",
              "GLD        0\n",
              "USO        0\n",
              "SLV        0\n",
              "EUR/USD    0\n",
              "dtype: int64"
            ]
          },
          "metadata": {},
          "execution_count": 8
        }
      ]
    },
    {
      "cell_type": "markdown",
      "source": [
        "7) Droping Duplicates Values of Dataset"
      ],
      "metadata": {
        "id": "KUjUbJpmWjwC"
      }
    },
    {
      "cell_type": "code",
      "source": [
        "gld_data = gld_data.drop_duplicates()"
      ],
      "metadata": {
        "id": "XwATZ7DIWii4"
      },
      "execution_count": 9,
      "outputs": []
    },
    {
      "cell_type": "markdown",
      "source": [
        "8) Statistical Measures"
      ],
      "metadata": {
        "id": "bnAJjQviWrw5"
      }
    },
    {
      "cell_type": "code",
      "source": [
        "gld_data.describe()"
      ],
      "metadata": {
        "colab": {
          "base_uri": "https://localhost:8080/",
          "height": 301
        },
        "id": "Gd_RwCoMWqm1",
        "outputId": "284b8e1f-8e66-4e3e-d310-1814b0e7ae41"
      },
      "execution_count": 10,
      "outputs": [
        {
          "output_type": "execute_result",
          "data": {
            "text/plain": [
              "               SPX          GLD          USO          SLV      EUR/USD\n",
              "count  2290.000000  2290.000000  2290.000000  2290.000000  2290.000000\n",
              "mean   1654.315776   122.732875    31.842221    20.084997     1.283653\n",
              "std     519.111540    23.283346    19.523517     7.092566     0.131547\n",
              "min     676.530029    70.000000     7.960000     8.850000     1.039047\n",
              "25%    1239.874969   109.725000    14.380000    15.570000     1.171313\n",
              "50%    1551.434998   120.580002    33.869999    17.268500     1.303297\n",
              "75%    2073.010070   132.840004    37.827501    22.882500     1.369971\n",
              "max    2872.870117   184.589996   117.480003    47.259998     1.598798"
            ],
            "text/html": [
              "\n",
              "  <div id=\"df-67988784-646e-4f15-ad12-e892ceda6276\">\n",
              "    <div class=\"colab-df-container\">\n",
              "      <div>\n",
              "<style scoped>\n",
              "    .dataframe tbody tr th:only-of-type {\n",
              "        vertical-align: middle;\n",
              "    }\n",
              "\n",
              "    .dataframe tbody tr th {\n",
              "        vertical-align: top;\n",
              "    }\n",
              "\n",
              "    .dataframe thead th {\n",
              "        text-align: right;\n",
              "    }\n",
              "</style>\n",
              "<table border=\"1\" class=\"dataframe\">\n",
              "  <thead>\n",
              "    <tr style=\"text-align: right;\">\n",
              "      <th></th>\n",
              "      <th>SPX</th>\n",
              "      <th>GLD</th>\n",
              "      <th>USO</th>\n",
              "      <th>SLV</th>\n",
              "      <th>EUR/USD</th>\n",
              "    </tr>\n",
              "  </thead>\n",
              "  <tbody>\n",
              "    <tr>\n",
              "      <th>count</th>\n",
              "      <td>2290.000000</td>\n",
              "      <td>2290.000000</td>\n",
              "      <td>2290.000000</td>\n",
              "      <td>2290.000000</td>\n",
              "      <td>2290.000000</td>\n",
              "    </tr>\n",
              "    <tr>\n",
              "      <th>mean</th>\n",
              "      <td>1654.315776</td>\n",
              "      <td>122.732875</td>\n",
              "      <td>31.842221</td>\n",
              "      <td>20.084997</td>\n",
              "      <td>1.283653</td>\n",
              "    </tr>\n",
              "    <tr>\n",
              "      <th>std</th>\n",
              "      <td>519.111540</td>\n",
              "      <td>23.283346</td>\n",
              "      <td>19.523517</td>\n",
              "      <td>7.092566</td>\n",
              "      <td>0.131547</td>\n",
              "    </tr>\n",
              "    <tr>\n",
              "      <th>min</th>\n",
              "      <td>676.530029</td>\n",
              "      <td>70.000000</td>\n",
              "      <td>7.960000</td>\n",
              "      <td>8.850000</td>\n",
              "      <td>1.039047</td>\n",
              "    </tr>\n",
              "    <tr>\n",
              "      <th>25%</th>\n",
              "      <td>1239.874969</td>\n",
              "      <td>109.725000</td>\n",
              "      <td>14.380000</td>\n",
              "      <td>15.570000</td>\n",
              "      <td>1.171313</td>\n",
              "    </tr>\n",
              "    <tr>\n",
              "      <th>50%</th>\n",
              "      <td>1551.434998</td>\n",
              "      <td>120.580002</td>\n",
              "      <td>33.869999</td>\n",
              "      <td>17.268500</td>\n",
              "      <td>1.303297</td>\n",
              "    </tr>\n",
              "    <tr>\n",
              "      <th>75%</th>\n",
              "      <td>2073.010070</td>\n",
              "      <td>132.840004</td>\n",
              "      <td>37.827501</td>\n",
              "      <td>22.882500</td>\n",
              "      <td>1.369971</td>\n",
              "    </tr>\n",
              "    <tr>\n",
              "      <th>max</th>\n",
              "      <td>2872.870117</td>\n",
              "      <td>184.589996</td>\n",
              "      <td>117.480003</td>\n",
              "      <td>47.259998</td>\n",
              "      <td>1.598798</td>\n",
              "    </tr>\n",
              "  </tbody>\n",
              "</table>\n",
              "</div>\n",
              "      <button class=\"colab-df-convert\" onclick=\"convertToInteractive('df-67988784-646e-4f15-ad12-e892ceda6276')\"\n",
              "              title=\"Convert this dataframe to an interactive table.\"\n",
              "              style=\"display:none;\">\n",
              "        \n",
              "  <svg xmlns=\"http://www.w3.org/2000/svg\" height=\"24px\"viewBox=\"0 0 24 24\"\n",
              "       width=\"24px\">\n",
              "    <path d=\"M0 0h24v24H0V0z\" fill=\"none\"/>\n",
              "    <path d=\"M18.56 5.44l.94 2.06.94-2.06 2.06-.94-2.06-.94-.94-2.06-.94 2.06-2.06.94zm-11 1L8.5 8.5l.94-2.06 2.06-.94-2.06-.94L8.5 2.5l-.94 2.06-2.06.94zm10 10l.94 2.06.94-2.06 2.06-.94-2.06-.94-.94-2.06-.94 2.06-2.06.94z\"/><path d=\"M17.41 7.96l-1.37-1.37c-.4-.4-.92-.59-1.43-.59-.52 0-1.04.2-1.43.59L10.3 9.45l-7.72 7.72c-.78.78-.78 2.05 0 2.83L4 21.41c.39.39.9.59 1.41.59.51 0 1.02-.2 1.41-.59l7.78-7.78 2.81-2.81c.8-.78.8-2.07 0-2.86zM5.41 20L4 18.59l7.72-7.72 1.47 1.35L5.41 20z\"/>\n",
              "  </svg>\n",
              "      </button>\n",
              "      \n",
              "  <style>\n",
              "    .colab-df-container {\n",
              "      display:flex;\n",
              "      flex-wrap:wrap;\n",
              "      gap: 12px;\n",
              "    }\n",
              "\n",
              "    .colab-df-convert {\n",
              "      background-color: #E8F0FE;\n",
              "      border: none;\n",
              "      border-radius: 50%;\n",
              "      cursor: pointer;\n",
              "      display: none;\n",
              "      fill: #1967D2;\n",
              "      height: 32px;\n",
              "      padding: 0 0 0 0;\n",
              "      width: 32px;\n",
              "    }\n",
              "\n",
              "    .colab-df-convert:hover {\n",
              "      background-color: #E2EBFA;\n",
              "      box-shadow: 0px 1px 2px rgba(60, 64, 67, 0.3), 0px 1px 3px 1px rgba(60, 64, 67, 0.15);\n",
              "      fill: #174EA6;\n",
              "    }\n",
              "\n",
              "    [theme=dark] .colab-df-convert {\n",
              "      background-color: #3B4455;\n",
              "      fill: #D2E3FC;\n",
              "    }\n",
              "\n",
              "    [theme=dark] .colab-df-convert:hover {\n",
              "      background-color: #434B5C;\n",
              "      box-shadow: 0px 1px 3px 1px rgba(0, 0, 0, 0.15);\n",
              "      filter: drop-shadow(0px 1px 2px rgba(0, 0, 0, 0.3));\n",
              "      fill: #FFFFFF;\n",
              "    }\n",
              "  </style>\n",
              "\n",
              "      <script>\n",
              "        const buttonEl =\n",
              "          document.querySelector('#df-67988784-646e-4f15-ad12-e892ceda6276 button.colab-df-convert');\n",
              "        buttonEl.style.display =\n",
              "          google.colab.kernel.accessAllowed ? 'block' : 'none';\n",
              "\n",
              "        async function convertToInteractive(key) {\n",
              "          const element = document.querySelector('#df-67988784-646e-4f15-ad12-e892ceda6276');\n",
              "          const dataTable =\n",
              "            await google.colab.kernel.invokeFunction('convertToInteractive',\n",
              "                                                     [key], {});\n",
              "          if (!dataTable) return;\n",
              "\n",
              "          const docLinkHtml = 'Like what you see? Visit the ' +\n",
              "            '<a target=\"_blank\" href=https://colab.research.google.com/notebooks/data_table.ipynb>data table notebook</a>'\n",
              "            + ' to learn more about interactive tables.';\n",
              "          element.innerHTML = '';\n",
              "          dataTable['output_type'] = 'display_data';\n",
              "          await google.colab.output.renderOutput(dataTable, element);\n",
              "          const docLink = document.createElement('div');\n",
              "          docLink.innerHTML = docLinkHtml;\n",
              "          element.appendChild(docLink);\n",
              "        }\n",
              "      </script>\n",
              "    </div>\n",
              "  </div>\n",
              "  "
            ]
          },
          "metadata": {},
          "execution_count": 10
        }
      ]
    },
    {
      "cell_type": "markdown",
      "source": [
        "10) IQR (Inter Quantile Range)\n",
        "\n",
        "    IQR = Q3-Q1           \n",
        "    Upper Threshold = Q3 + (1.5 * IQR)\n",
        "    Lower Threshold = Q1 - (1.5 * IQR)   "
      ],
      "metadata": {
        "id": "VpPkEJEPW4vL"
      }
    },
    {
      "cell_type": "markdown",
      "source": [
        "SPX ->  Silver Spot "
      ],
      "metadata": {
        "id": "bVevOx2_agSh"
      }
    },
    {
      "cell_type": "code",
      "source": [
        "IQR = gld_data.SPX.quantile(0.75) - gld_data.SPX.quantile(0.25)\n",
        "Upper_Threshold = gld_data.SPX.quantile(0.75) + (1.5 * IQR)\n",
        "Lower_Threshold = gld_data.SPX.quantile(0.25) - (1.5 * IQR)\n",
        "print(\"Upper_Threshold : \",Upper_Threshold)\n",
        "print(\"Lower_Threshold : \",Lower_Threshold)"
      ],
      "metadata": {
        "id": "UgcS-Uw8W3CU",
        "colab": {
          "base_uri": "https://localhost:8080/"
        },
        "outputId": "254030ae-35fc-4781-f055-1c69ade19fa2"
      },
      "execution_count": 11,
      "outputs": [
        {
          "output_type": "stream",
          "name": "stdout",
          "text": [
            "Upper_Threshold :  3322.712722375\n",
            "Lower_Threshold :  -9.827682624999852\n"
          ]
        }
      ]
    },
    {
      "cell_type": "markdown",
      "source": [
        "USO\t"
      ],
      "metadata": {
        "id": "BzjiRQQIaxha"
      }
    },
    {
      "cell_type": "code",
      "source": [
        "IQR = gld_data.USO.quantile(0.75) - gld_data.USO.quantile(0.25)\n",
        "Upper_Threshold = gld_data.USO.quantile(0.75) + (1.5 * IQR)\n",
        "Lower_Threshold = gld_data.USO.quantile(0.25) - (1.5 * IQR)\n",
        "print(\"Upper_Threshold : \",Upper_Threshold)\n",
        "print(\"Lower_Threshold : \",Lower_Threshold)"
      ],
      "metadata": {
        "colab": {
          "base_uri": "https://localhost:8080/"
        },
        "id": "ZPEIJ9h0asPz",
        "outputId": "7dec3c7a-9545-4807-bf26-974b4048de74"
      },
      "execution_count": 12,
      "outputs": [
        {
          "output_type": "stream",
          "name": "stdout",
          "text": [
            "Upper_Threshold :  72.99875374999999\n",
            "Lower_Threshold :  -20.791252249999992\n"
          ]
        }
      ]
    },
    {
      "cell_type": "markdown",
      "source": [
        "SLV"
      ],
      "metadata": {
        "id": "OAcEEAl3bCci"
      }
    },
    {
      "cell_type": "code",
      "source": [
        "IQR = gld_data.SLV.quantile(0.75) - gld_data.SLV.quantile(0.25)\n",
        "Upper_Threshold = gld_data.SLV.quantile(0.75) + (1.5 * IQR)\n",
        "Lower_Threshold = gld_data.SLV.quantile(0.25) - (1.5 * IQR)\n",
        "print(\"Upper_Threshold : \",Upper_Threshold)\n",
        "print(\"Lower_Threshold : \",Lower_Threshold)"
      ],
      "metadata": {
        "colab": {
          "base_uri": "https://localhost:8080/"
        },
        "id": "ow7e-xjsa9pr",
        "outputId": "62145426-c1cf-4180-a7e0-53822fd16933"
      },
      "execution_count": 13,
      "outputs": [
        {
          "output_type": "stream",
          "name": "stdout",
          "text": [
            "Upper_Threshold :  33.85124875\n",
            "Lower_Threshold :  4.601250749999998\n"
          ]
        }
      ]
    },
    {
      "cell_type": "markdown",
      "source": [
        "**4) EDA (Exploratory Data Analysis)**"
      ],
      "metadata": {
        "id": "hPESEs-acbdH"
      }
    },
    {
      "cell_type": "markdown",
      "source": [
        "SLV"
      ],
      "metadata": {
        "id": "InPKwrnKi3Ln"
      }
    },
    {
      "cell_type": "code",
      "source": [
        "gld_data.plot(x=\"SLV\",y=\"GLD\",style=\"o\")\n",
        "plt.title(\"USO VS GLD\")\n",
        "plt.xlabel(\"USO\")\n",
        "plt.ylabel(\"GLD\")\n",
        "plt.show()"
      ],
      "metadata": {
        "colab": {
          "base_uri": "https://localhost:8080/",
          "height": 295
        },
        "id": "nMJLu6wudnaY",
        "outputId": "24843645-989b-4cb7-de61-3b27c26a6d2d"
      },
      "execution_count": 14,
      "outputs": [
        {
          "output_type": "display_data",
          "data": {
            "text/plain": [
              "<Figure size 432x288 with 1 Axes>"
            ],
            "image/png": "[encoded data removed]"
          },
          "metadata": {
            "needs_background": "light"
          }
        }
      ]
    },
    {
      "cell_type": "markdown",
      "source": [
        "EUR/USD"
      ],
      "metadata": {
        "id": "KUZFWMp-i55w"
      }
    },
    {
      "cell_type": "code",
      "source": [
        "gld_data.plot(x=\"EUR/USD\",y=\"GLD\",style=\"o\")\n",
        "plt.title(\"USO VS GLD\")\n",
        "plt.xlabel(\"USO\")\n",
        "plt.ylabel(\"GLD\")\n",
        "plt.show()"
      ],
      "metadata": {
        "colab": {
          "base_uri": "https://localhost:8080/",
          "height": 295
        },
        "id": "0L8hO35cisIQ",
        "outputId": "b580ef9e-dcd8-4a43-cdf7-d1db0acefd7f"
      },
      "execution_count": 15,
      "outputs": [
        {
          "output_type": "display_data",
          "data": {
            "text/plain": [
              "<Figure size 432x288 with 1 Axes>"
            ],
            "image/png": "[encoded data removed]"
          },
          "metadata": {
            "needs_background": "light"
          }
        }
      ]
    },
    {
      "cell_type": "markdown",
      "source": [
        "**5) Train and Test Split**"
      ],
      "metadata": {
        "id": "ZfwdKZAXjByO"
      }
    },
    {
      "cell_type": "code",
      "source": [
        "del gld_data[\"Date\"]"
      ],
      "metadata": {
        "id": "mRxyh74Wixsy"
      },
      "execution_count": 16,
      "outputs": []
    },
    {
      "cell_type": "code",
      "source": [
        "X = gld_data.drop(columns=\"GLD\",axis=1)\n",
        "y = gld_data[\"GLD\"]"
      ],
      "metadata": {
        "id": "et_4CcfPjZFv"
      },
      "execution_count": 17,
      "outputs": []
    },
    {
      "cell_type": "code",
      "source": [
        "from sklearn.model_selection import train_test_split\n",
        "X_train,X_test,y_train,y_test = train_test_split(X,y,test_size=0.25,random_state=7)"
      ],
      "metadata": {
        "id": "dQ91zT_Vjkse"
      },
      "execution_count": 18,
      "outputs": []
    },
    {
      "cell_type": "markdown",
      "source": [
        "**6) Standard Scaler**"
      ],
      "metadata": {
        "id": "GV1VSCczj52r"
      }
    },
    {
      "cell_type": "code",
      "source": [
        "from sklearn.preprocessing import StandardScaler\n",
        "scaler = StandardScaler()\n",
        "scaler.fit_transform(X_train)\n",
        "scaler.transform(X_test)"
      ],
      "metadata": {
        "colab": {
          "base_uri": "https://localhost:8080/"
        },
        "id": "tAA5NKI0j3lN",
        "outputId": "43ae2a0d-55ab-474d-e08d-38f3879eb7c9"
      },
      "execution_count": 19,
      "outputs": [
        {
          "output_type": "execute_result",
          "data": {
            "text/plain": [
              "array([[ 0.55120003, -1.12470636, -0.91100381, -1.42834991],\n",
              "       [ 0.85820907, -0.85231429, -0.86032652, -1.45403107],\n",
              "       [-0.86244496,  0.21953336,  1.11186469,  0.1639198 ],\n",
              "       ...,\n",
              "       [-0.53187188,  3.39811599, -0.48151361,  2.09890824],\n",
              "       [ 0.46734974,  0.2392792 , -0.18040602,  0.70962355],\n",
              "       [ 1.76805942, -1.06293716, -0.58441681, -0.92216496]])"
            ]
          },
          "metadata": {},
          "execution_count": 19
        }
      ]
    },
    {
      "cell_type": "markdown",
      "source": [
        "**7) Modelling**"
      ],
      "metadata": {
        "id": "WtqKjZOkkADU"
      }
    },
    {
      "cell_type": "markdown",
      "source": [
        "1) Random Forest Regressor"
      ],
      "metadata": {
        "id": "Vt1xM1WVkRYy"
      }
    },
    {
      "cell_type": "code",
      "source": [
        "from sklearn.ensemble import RandomForestRegressor\n",
        "ran_fore = RandomForestRegressor()\n",
        "ran_fore.fit(X_train,y_train)"
      ],
      "metadata": {
        "colab": {
          "base_uri": "https://localhost:8080/"
        },
        "id": "blE0Dby8j-CB",
        "outputId": "522aa42f-e10c-42c5-b6ec-468a30b4d0b3"
      },
      "execution_count": 20,
      "outputs": [
        {
          "output_type": "execute_result",
          "data": {
            "text/plain": [
              "RandomForestRegressor()"
            ]
          },
          "metadata": {},
          "execution_count": 20
        }
      ]
    },
    {
      "cell_type": "markdown",
      "source": [
        "**8) Making Prediction**"
      ],
      "metadata": {
        "id": "e1O78xUjkvVs"
      }
    },
    {
      "cell_type": "markdown",
      "source": [
        "Random Forest Regressor"
      ],
      "metadata": {
        "id": "7HxO_Y6blBar"
      }
    },
    {
      "cell_type": "code",
      "source": [
        "ran_fore.predict([[1447.160034,77.309998,15.180,1.557099]])"
      ],
      "metadata": {
        "colab": {
          "base_uri": "https://localhost:8080/"
        },
        "id": "vgHGWgX-kr6-",
        "outputId": "e5c8595b-b4fb-4f9b-aa67-1d601f469859"
      },
      "execution_count": 21,
      "outputs": [
        {
          "output_type": "execute_result",
          "data": {
            "text/plain": [
              "array([85.45099982])"
            ]
          },
          "metadata": {},
          "execution_count": 21
        }
      ]
    },
    {
      "cell_type": "markdown",
      "source": [
        "**9) Compare Actual and Predicted Scores**"
      ],
      "metadata": {
        "id": "BevI-ptzlx2E"
      }
    },
    {
      "cell_type": "code",
      "source": [
        "y_pred = ran_fore.predict(X_test)\n",
        "y_pred"
      ],
      "metadata": {
        "colab": {
          "base_uri": "https://localhost:8080/"
        },
        "id": "zUCYzjWAlNEV",
        "outputId": "540aadf5-c54a-4948-9f85-c81e82e0207b"
      },
      "execution_count": 22,
      "outputs": [
        {
          "output_type": "execute_result",
          "data": {
            "text/plain": [
              "array([106.5408014 , 104.55969933, 146.57460175, 116.89930046,\n",
              "       155.3939007 , 126.89550098, 147.07550357, 147.24520004,\n",
              "       121.85469956, 121.67079875, 118.83150112, 133.09880042,\n",
              "        85.23469977,  92.4735008 , 119.90700082, 163.3662985 ,\n",
              "       118.87450151, 116.00440018, 125.09849926, 106.81400022,\n",
              "       161.02680095, 122.82290004, 161.94369801, 122.96699923,\n",
              "       120.25640011, 169.45129772, 139.66530212, 120.50860004,\n",
              "        92.86910005, 121.47330022,  94.19120175, 159.72719838,\n",
              "       113.98490002, 150.0717014 ,  94.93669955, 156.29299813,\n",
              "       117.93989861, 105.22940112, 120.90189985, 142.97969766,\n",
              "       159.80200215,  80.36270109, 114.73619983, 101.92009922,\n",
              "        90.57560029, 175.91300154, 125.36430034,  89.6275013 ,\n",
              "       109.00149814, 129.06820242, 127.50350116, 129.25390097,\n",
              "        89.43949982, 120.69489981, 140.9625012 , 153.73819949,\n",
              "       122.9431988 , 127.56960049, 125.63850009,  96.76339915,\n",
              "       119.73619999, 125.3818996 , 124.46579887, 108.30010035,\n",
              "       121.2881011 ,  79.05380038, 119.40110104, 124.5145995 ,\n",
              "       134.72229754, 118.99299984, 129.32480058,  84.81130037,\n",
              "       135.66529811, 114.61189914, 168.02819862, 115.02959988,\n",
              "        89.49190016,  88.17170061, 139.23179805, 121.32110123,\n",
              "       114.74110027, 109.73320026, 141.33359791, 110.99679996,\n",
              "       106.75479889, 125.89890147, 156.37309959,  92.02860084,\n",
              "       120.26789971,  88.15939954, 161.24629742, 127.99329903,\n",
              "       117.47470024, 107.38800191, 126.21399893, 102.76429951,\n",
              "       162.00330035, 125.90700072, 127.02100078,  87.64029849,\n",
              "       107.23319807, 119.30129971, 114.15770087, 135.80770059,\n",
              "        94.06450051, 119.51780174,  88.48509964,  80.8196003 ,\n",
              "        81.93989986, 127.70509897,  87.91919934, 116.18099892,\n",
              "       117.13180048, 116.84910146, 110.77250054, 126.22500149,\n",
              "       117.17739902, 165.82660274, 118.06529939,  91.89420033,\n",
              "       134.4096976 , 124.57079973, 114.57889907, 157.23499989,\n",
              "       108.47739834, 124.50909881, 173.88529828, 120.87409974,\n",
              "       121.37499893, 109.02639888, 117.07650095, 114.69170043,\n",
              "       104.09070022,  89.3180991 , 108.99880005, 136.03869923,\n",
              "       119.56510053, 117.16909963, 119.70089912,  96.13079871,\n",
              "       117.58950038, 105.01740054, 126.9787997 , 133.84089849,\n",
              "       119.41920064, 136.04339966, 145.62610047, 129.21319715,\n",
              "       109.16639919, 127.01029985, 111.48150054, 114.27749926,\n",
              "        82.21259865, 165.40190124, 137.01229995, 105.32649949,\n",
              "       120.5925002 , 156.2863998 , 125.8329007 , 168.00109584,\n",
              "       119.96550217, 112.77049924, 126.89899746, 116.96879924,\n",
              "       118.78659744, 109.82700034, 120.90489903, 122.47709937,\n",
              "       143.71029982, 110.51809999, 114.8697006 , 126.04240085,\n",
              "       127.34379744, 117.04640205, 108.53750132,  89.62779956,\n",
              "       108.24639886,  84.74259939, 102.05840037, 115.0757    ,\n",
              "       115.59860104, 133.33379993, 152.01000168, 127.89760194,\n",
              "       166.83960212, 138.03309829, 108.43079904, 102.68980004,\n",
              "        92.85880043, 146.64369942, 152.69410273, 146.65810064,\n",
              "       167.00489896, 112.34100032, 162.66070109, 120.10409883,\n",
              "       125.13480052,  93.53079928,  72.76030191, 161.89759819,\n",
              "       119.71019976, 147.8821987 , 109.45810014, 121.27979955,\n",
              "       108.2075982 , 175.36109802, 117.65089861,  87.08799919,\n",
              "       116.66490016, 119.52300114, 161.24940242, 160.47909775,\n",
              "        92.64909884, 127.59709947, 166.53010173, 119.45530039,\n",
              "        94.12650162, 153.51480131, 104.8006996 , 121.27383783,\n",
              "       149.78579669, 152.8239014 , 135.56689903, 162.68949985,\n",
              "       136.13510093, 153.78829971,  76.66880028, 147.43030179,\n",
              "        97.63609799, 115.61419874,  85.35180026, 163.35339911,\n",
              "        87.1959984 , 124.40910365, 133.83630064, 103.48819851,\n",
              "       113.06650111, 173.3691008 , 125.38450124, 167.97110079,\n",
              "       171.83720419, 116.87620091, 157.5726993 , 104.47649947,\n",
              "       115.63110123,  90.09010106, 125.7214017 , 109.0209998 ,\n",
              "       127.44889933, 140.16780337, 125.75460011, 133.3100014 ,\n",
              "       167.93679888, 121.62599948, 132.0748027 , 117.50670044,\n",
              "        89.4021012 , 118.89330129,  89.57719925, 142.11209988,\n",
              "       105.32320023, 154.38260032, 108.50119762,  72.8328009 ,\n",
              "       121.14599987, 152.78910136, 112.46760154, 124.06950062,\n",
              "       114.49360003, 104.71029883, 120.81670117, 130.25190113,\n",
              "       115.70160081, 117.5967001 , 113.29270062, 170.43250066,\n",
              "       117.42260096, 121.40650076, 118.76439919, 132.05090198,\n",
              "       127.31059728,  91.50379986, 122.42269874,  77.55780002,\n",
              "       160.44660354, 120.47529866, 131.98270193, 105.74039956,\n",
              "       154.56269862, 130.18050195, 118.97630124, 161.58059904,\n",
              "       121.66599889, 106.10780006,  83.6501989 , 154.63469981,\n",
              "       120.04529975, 120.8466988 , 131.98690185, 122.42599989,\n",
              "        93.9412983 , 124.03359949, 152.15399998, 167.04459833,\n",
              "       137.85619948, 121.54600268, 120.14420161, 126.99759885,\n",
              "       146.07130171, 126.06150172, 110.31349938, 122.22279895,\n",
              "       122.08979992, 108.53049791, 125.0527993 , 160.01620223,\n",
              "       167.76540102, 120.167     ,  73.68780129,  90.67099923,\n",
              "       126.8097018 , 115.07849953, 106.87160156,  99.15370025,\n",
              "       112.81539926, 125.78909864, 107.53389865, 112.43780087,\n",
              "       123.62890086, 122.42889949, 152.0470011 , 177.62789883,\n",
              "       119.08450038, 161.35510095, 134.1571964 ,  87.69489887,\n",
              "       118.13      , 159.43409851, 171.58960315, 127.32860016,\n",
              "       108.31669822, 108.635899  , 134.21609706, 105.62490111,\n",
              "       125.81449888, 158.92849686, 114.60930032, 121.2742993 ,\n",
              "       117.60860089, 125.30890026,  93.07940058, 121.10049948,\n",
              "       127.92369924, 128.52610008, 116.6614001 , 120.22890033,\n",
              "        91.90379964, 103.87039986, 124.72749914, 123.43639945,\n",
              "        87.91999911, 147.48870133, 108.47559886, 113.22590015,\n",
              "       124.4073006 ,  84.88529989, 120.50430054,  88.7278004 ,\n",
              "       158.43870084, 127.27859933, 164.43870137, 151.62870125,\n",
              "       127.8029989 , 127.59149921,  90.29450032,  93.47669869,\n",
              "       152.2977998 , 162.1945984 , 164.08460097, 139.79879904,\n",
              "       120.87830079, 117.62870032, 153.04500062,  94.58870063,\n",
              "       118.14990063,  93.92309872, 146.03549869, 100.0487991 ,\n",
              "       132.89680065, 123.27729816, 118.95720103,  88.76659918,\n",
              "       134.58789759, 119.51990088, 104.90560093, 145.47380099,\n",
              "       155.0951992 , 125.45990075, 117.01880002, 102.83029976,\n",
              "       108.8158997 , 141.73869823,  93.76699814,  76.12809971,\n",
              "       163.98809977, 152.67030286, 109.46619843,  89.81999941,\n",
              "       117.43479892, 110.76399961, 148.50329947, 109.66380023,\n",
              "       112.9627005 , 114.26170023, 117.9281006 , 119.74509969,\n",
              "       152.85070186,  92.51749898, 130.11160056, 112.67720067,\n",
              "       126.14209856, 123.05929966, 150.91920075, 127.54410032,\n",
              "       115.17180022, 125.83060097, 124.13643766,  92.98720123,\n",
              "       141.30390086,  99.4833001 , 119.92560008, 110.86589764,\n",
              "        75.4719988 , 124.21109906, 128.02090079, 117.55850013,\n",
              "       118.51873874, 125.18139837, 109.22520075, 117.06890111,\n",
              "        83.70419987, 123.19529888,  99.41499958, 111.59970057,\n",
              "       167.97669767, 118.07510068, 123.69479903, 143.98329926,\n",
              "       127.27689997, 109.27209992,  76.56910236, 147.18579953,\n",
              "       106.17020024,  73.1057003 , 113.14030064, 171.29680178,\n",
              "       171.52660211, 131.44810396, 108.65469957,  91.9197    ,\n",
              "        98.75140056, 131.30960287, 171.54629702, 116.31570037,\n",
              "       109.44249796, 101.79819983,  88.74489964, 105.04930008,\n",
              "       119.50980118, 104.90150042, 131.68509758, 122.31900072,\n",
              "       150.75039809, 124.32459891,  96.4708015 , 111.77269983,\n",
              "       112.67830076, 105.76440073, 148.89680174, 149.57430044,\n",
              "       108.36259988, 119.4882996 , 124.67279921, 121.92909954,\n",
              "       159.23389856, 114.27540021, 166.16019642, 107.59030016,\n",
              "       171.73010236, 119.94720189, 171.58800178, 106.51460156,\n",
              "       127.36439958, 131.13000325, 117.83140012,  78.05920094,\n",
              "       126.10600031, 108.39069941, 108.33649905, 126.58090012,\n",
              "       127.58439988, 133.7581982 , 159.69000147,  85.58269978,\n",
              "       126.77319918, 113.01560067, 125.57890148, 111.68570057,\n",
              "       142.37999791, 125.95020109, 109.24389812, 169.2058006 ,\n",
              "       154.41570013, 122.37779915, 134.73119664, 154.52740211,\n",
              "       119.08959904, 117.43800005, 118.35180034, 119.1042999 ,\n",
              "       151.69080251, 115.87880077, 153.38160164, 145.64589931,\n",
              "        85.94849957, 127.87029913, 155.20429927, 156.07650306,\n",
              "       122.25879917, 120.48153826, 124.54440029, 148.59289834,\n",
              "       114.60620122, 103.76549845,  92.23740157, 118.03520063,\n",
              "       125.26080054, 108.29759811, 108.96839778, 125.20760049,\n",
              "        92.48379895, 124.35750068, 119.26200014, 119.38330036,\n",
              "       120.7107002 , 125.38800138, 104.98589991, 120.79529864,\n",
              "       112.42659973, 112.79649984,  81.94440009, 152.81940134,\n",
              "       167.27090077, 118.29779892, 133.10340025, 124.67810222,\n",
              "       123.22329963, 134.76270059, 127.95260005, 115.2441002 ,\n",
              "        91.61999852, 119.95610103, 118.79259729,  91.63880085,\n",
              "       163.73110003, 153.90410421, 119.63190201, 126.23210042,\n",
              "       125.18599973, 157.80090017,  87.65109952, 124.21529896,\n",
              "       120.76270094])"
            ]
          },
          "metadata": {},
          "execution_count": 22
        }
      ]
    },
    {
      "cell_type": "code",
      "source": [
        "df = pd.DataFrame({\"Actual\": y_test,\"Prediction\" :y_pred})\n",
        "df"
      ],
      "metadata": {
        "colab": {
          "base_uri": "https://localhost:8080/",
          "height": 424
        },
        "id": "G5vKfa4Il2B8",
        "outputId": "a40a79be-ecc7-4737-ce40-8d13316fa8c2"
      },
      "execution_count": 23,
      "outputs": [
        {
          "output_type": "execute_result",
          "data": {
            "text/plain": [
              "          Actual  Prediction\n",
              "1782  106.949997  106.540801\n",
              "1673  103.930000  104.559699\n",
              "868   154.869995  146.574602\n",
              "2035  116.730003  116.899300\n",
              "961   154.770004  155.393901\n",
              "...          ...         ...\n",
              "1909  124.779999  125.186000\n",
              "858   167.320007  157.800900\n",
              "95     86.650002   87.651100\n",
              "1401  124.940002  124.215299\n",
              "2162  121.129997  120.762701\n",
              "\n",
              "[573 rows x 2 columns]"
            ],
            "text/html": [
              "\n",
              "  <div id=\"df-00174709-c401-45bc-9e67-3e6a5c357d7f\">\n",
              "    <div class=\"colab-df-container\">\n",
              "      <div>\n",
              "<style scoped>\n",
              "    .dataframe tbody tr th:only-of-type {\n",
              "        vertical-align: middle;\n",
              "    }\n",
              "\n",
              "    .dataframe tbody tr th {\n",
              "        vertical-align: top;\n",
              "    }\n",
              "\n",
              "    .dataframe thead th {\n",
              "        text-align: right;\n",
              "    }\n",
              "</style>\n",
              "<table border=\"1\" class=\"dataframe\">\n",
              "  <thead>\n",
              "    <tr style=\"text-align: right;\">\n",
              "      <th></th>\n",
              "      <th>Actual</th>\n",
              "      <th>Prediction</th>\n",
              "    </tr>\n",
              "  </thead>\n",
              "  <tbody>\n",
              "    <tr>\n",
              "      <th>1782</th>\n",
              "      <td>106.949997</td>\n",
              "      <td>106.540801</td>\n",
              "    </tr>\n",
              "    <tr>\n",
              "      <th>1673</th>\n",
              "      <td>103.930000</td>\n",
              "      <td>104.559699</td>\n",
              "    </tr>\n",
              "    <tr>\n",
              "      <th>868</th>\n",
              "      <td>154.869995</td>\n",
              "      <td>146.574602</td>\n",
              "    </tr>\n",
              "    <tr>\n",
              "      <th>2035</th>\n",
              "      <td>116.730003</td>\n",
              "      <td>116.899300</td>\n",
              "    </tr>\n",
              "    <tr>\n",
              "      <th>961</th>\n",
              "      <td>154.770004</td>\n",
              "      <td>155.393901</td>\n",
              "    </tr>\n",
              "    <tr>\n",
              "      <th>...</th>\n",
              "      <td>...</td>\n",
              "      <td>...</td>\n",
              "    </tr>\n",
              "    <tr>\n",
              "      <th>1909</th>\n",
              "      <td>124.779999</td>\n",
              "      <td>125.186000</td>\n",
              "    </tr>\n",
              "    <tr>\n",
              "      <th>858</th>\n",
              "      <td>167.320007</td>\n",
              "      <td>157.800900</td>\n",
              "    </tr>\n",
              "    <tr>\n",
              "      <th>95</th>\n",
              "      <td>86.650002</td>\n",
              "      <td>87.651100</td>\n",
              "    </tr>\n",
              "    <tr>\n",
              "      <th>1401</th>\n",
              "      <td>124.940002</td>\n",
              "      <td>124.215299</td>\n",
              "    </tr>\n",
              "    <tr>\n",
              "      <th>2162</th>\n",
              "      <td>121.129997</td>\n",
              "      <td>120.762701</td>\n",
              "    </tr>\n",
              "  </tbody>\n",
              "</table>\n",
              "<p>573 rows × 2 columns</p>\n",
              "</div>\n",
              "      <button class=\"colab-df-convert\" onclick=\"convertToInteractive('df-00174709-c401-45bc-9e67-3e6a5c357d7f')\"\n",
              "              title=\"Convert this dataframe to an interactive table.\"\n",
              "              style=\"display:none;\">\n",
              "        \n",
              "  <svg xmlns=\"http://www.w3.org/2000/svg\" height=\"24px\"viewBox=\"0 0 24 24\"\n",
              "       width=\"24px\">\n",
              "    <path d=\"M0 0h24v24H0V0z\" fill=\"none\"/>\n",
              "    <path d=\"M18.56 5.44l.94 2.06.94-2.06 2.06-.94-2.06-.94-.94-2.06-.94 2.06-2.06.94zm-11 1L8.5 8.5l.94-2.06 2.06-.94-2.06-.94L8.5 2.5l-.94 2.06-2.06.94zm10 10l.94 2.06.94-2.06 2.06-.94-2.06-.94-.94-2.06-.94 2.06-2.06.94z\"/><path d=\"M17.41 7.96l-1.37-1.37c-.4-.4-.92-.59-1.43-.59-.52 0-1.04.2-1.43.59L10.3 9.45l-7.72 7.72c-.78.78-.78 2.05 0 2.83L4 21.41c.39.39.9.59 1.41.59.51 0 1.02-.2 1.41-.59l7.78-7.78 2.81-2.81c.8-.78.8-2.07 0-2.86zM5.41 20L4 18.59l7.72-7.72 1.47 1.35L5.41 20z\"/>\n",
              "  </svg>\n",
              "      </button>\n",
              "      \n",
              "  <style>\n",
              "    .colab-df-container {\n",
              "      display:flex;\n",
              "      flex-wrap:wrap;\n",
              "      gap: 12px;\n",
              "    }\n",
              "\n",
              "    .colab-df-convert {\n",
              "      background-color: #E8F0FE;\n",
              "      border: none;\n",
              "      border-radius: 50%;\n",
              "      cursor: pointer;\n",
              "      display: none;\n",
              "      fill: #1967D2;\n",
              "      height: 32px;\n",
              "      padding: 0 0 0 0;\n",
              "      width: 32px;\n",
              "    }\n",
              "\n",
              "    .colab-df-convert:hover {\n",
              "      background-color: #E2EBFA;\n",
              "      box-shadow: 0px 1px 2px rgba(60, 64, 67, 0.3), 0px 1px 3px 1px rgba(60, 64, 67, 0.15);\n",
              "      fill: #174EA6;\n",
              "    }\n",
              "\n",
              "    [theme=dark] .colab-df-convert {\n",
              "      background-color: #3B4455;\n",
              "      fill: #D2E3FC;\n",
              "    }\n",
              "\n",
              "    [theme=dark] .colab-df-convert:hover {\n",
              "      background-color: #434B5C;\n",
              "      box-shadow: 0px 1px 3px 1px rgba(0, 0, 0, 0.15);\n",
              "      filter: drop-shadow(0px 1px 2px rgba(0, 0, 0, 0.3));\n",
              "      fill: #FFFFFF;\n",
              "    }\n",
              "  </style>\n",
              "\n",
              "      <script>\n",
              "        const buttonEl =\n",
              "          document.querySelector('#df-00174709-c401-45bc-9e67-3e6a5c357d7f button.colab-df-convert');\n",
              "        buttonEl.style.display =\n",
              "          google.colab.kernel.accessAllowed ? 'block' : 'none';\n",
              "\n",
              "        async function convertToInteractive(key) {\n",
              "          const element = document.querySelector('#df-00174709-c401-45bc-9e67-3e6a5c357d7f');\n",
              "          const dataTable =\n",
              "            await google.colab.kernel.invokeFunction('convertToInteractive',\n",
              "                                                     [key], {});\n",
              "          if (!dataTable) return;\n",
              "\n",
              "          const docLinkHtml = 'Like what you see? Visit the ' +\n",
              "            '<a target=\"_blank\" href=https://colab.research.google.com/notebooks/data_table.ipynb>data table notebook</a>'\n",
              "            + ' to learn more about interactive tables.';\n",
              "          element.innerHTML = '';\n",
              "          dataTable['output_type'] = 'display_data';\n",
              "          await google.colab.output.renderOutput(dataTable, element);\n",
              "          const docLink = document.createElement('div');\n",
              "          docLink.innerHTML = docLinkHtml;\n",
              "          element.appendChild(docLink);\n",
              "        }\n",
              "      </script>\n",
              "    </div>\n",
              "  </div>\n",
              "  "
            ]
          },
          "metadata": {},
          "execution_count": 23
        }
      ]
    },
    {
      "cell_type": "code",
      "source": [
        "plt.scatter(y_test,y_pred)\n",
        "plt.xlabel(\"Actual Prices\")\n",
        "plt.ylabel(\"Prediction Prices\")\n",
        "plt.title(\"Actual Prices VS Prediction Prices\")\n",
        "plt.show()"
      ],
      "metadata": {
        "colab": {
          "base_uri": "https://localhost:8080/",
          "height": 295
        },
        "id": "ymYVdHzOl9b-",
        "outputId": "c2970fec-d57d-4f2d-cf18-ac59d8e22a17"
      },
      "execution_count": 24,
      "outputs": [
        {
          "output_type": "display_data",
          "data": {
            "text/plain": [
              "<Figure size 432x288 with 1 Axes>"
            ],
            "image/png": "[encoded data removed]"
          },
          "metadata": {
            "needs_background": "light"
          }
        }
      ]
    },
    {
      "cell_type": "markdown",
      "source": [
        "**10) Evaluation Metrics**"
      ],
      "metadata": {
        "id": "HDGl5PaXmFQC"
      }
    },
    {
      "cell_type": "code",
      "source": [
        "from sklearn import metrics\n",
        "print(\"R2-Scores: \",metrics.r2_score(y_test,y_pred))"
      ],
      "metadata": {
        "colab": {
          "base_uri": "https://localhost:8080/"
        },
        "id": "0JdfOzQbmBkl",
        "outputId": "1bc4fe14-99fe-4234-bda4-3f76797868b4"
      },
      "execution_count": 25,
      "outputs": [
        {
          "output_type": "stream",
          "name": "stdout",
          "text": [
            "R2-Scores:  0.9851038223749872\n"
          ]
        }
      ]
    }
  ]
}